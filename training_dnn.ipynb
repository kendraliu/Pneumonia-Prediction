{
  "cells": [
    {
      "cell_type": "markdown",
      "metadata": {
        "id": "view-in-github",
        "colab_type": "text"
      },
      "source": [
        "<a href=\"https://colab.research.google.com/github/kendraliu/Pneumonia-Prediction/blob/main/training_dnn.ipynb\" target=\"_parent\"><img src=\"https://colab.research.google.com/assets/colab-badge.svg\" alt=\"Open In Colab\"/></a>"
      ]
    },
    {
      "cell_type": "code",
      "execution_count": 1,
      "metadata": {
        "id": "UwjHOvLCBeUL"
      },
      "outputs": [],
      "source": [
        "\"\"\"from warnings import simplefilter\n",
        "simplefilter(action='ignore', category=FutureWarning)\"\"\"\n",
        "\n",
        "import pandas as pd\n",
        "import numpy as np\n",
        "import random\n",
        "import cv2\n",
        "import os\n",
        "%matplotlib inline\n",
        "from IPython.display import Image, SVG\n",
        "import matplotlib.pyplot as plt\n",
        "import tensorflow as tf\n",
        "from sklearn.svm import SVC\n",
        "from sklearn.neighbors import KNeighborsClassifier\n",
        "from sklearn import tree\n",
        "from sklearn.preprocessing import StandardScaler\n",
        "from sklearn.metrics import classification_report, accuracy_score, confusion_matrix\n",
        "from sklearn.model_selection import train_test_split\n",
        "from sklearn.ensemble import RandomForestClassifier"
      ]
    },
    {
      "cell_type": "markdown",
      "metadata": {
        "id": "ZcHAS933BeUN"
      },
      "source": [
        "/test: 234 normal, 390 pna\n",
        "\n",
        "/val: 8 normal, 8 pna\n",
        "\n",
        "/train: 1341 normal, 3875 pna"
      ]
    },
    {
      "cell_type": "code",
      "execution_count": 2,
      "metadata": {
        "id": "GXK83PdnBeUP"
      },
      "outputs": [],
      "source": [
        "def normalArray(dataPath, dataImage, dataLabel):\n",
        "    for filename in os.listdir(dataPath):\n",
        "        img_path = os.path.join(dataPath, filename)\n",
        "        image = cv2.imread(img_path)\n",
        "        image = cv2.resize(image, (224, 224))  # Resize to a common size\n",
        "        image = image / 255.0  # Normalize pixel values to [0, 1]\n",
        "        dataImage.append(image)\n",
        "        dataLabel.append(0)\n",
        "    dataImage = np.array(dataImage)\n",
        "    dataLabel = np.array(dataLabel)\n",
        "    return dataImage, dataLabel"
      ]
    },
    {
      "cell_type": "code",
      "execution_count": 3,
      "metadata": {
        "id": "3FAHcjDvBeUQ"
      },
      "outputs": [],
      "source": [
        "def pnaArray(dataPath, dataImage, dataLabel):\n",
        "    for filename in os.listdir(dataPath):\n",
        "        img_path = os.path.join(dataPath, filename)\n",
        "        image = cv2.imread(img_path)\n",
        "        image = cv2.resize(image, (224, 224))  # Resize to a common size\n",
        "        image = image / 255.0  # Normalize pixel values to [0, 1]\n",
        "        dataImage.append(image)\n",
        "        dataLabel.append(1)\n",
        "    dataImage = np.array(dataImage)\n",
        "    dataLabel = np.array(dataLabel)\n",
        "    return dataImage, dataLabel"
      ]
    },
    {
      "cell_type": "code",
      "source": [
        "!pwd"
      ],
      "metadata": {
        "colab": {
          "base_uri": "https://localhost:8080/"
        },
        "id": "VPTg_qaVDmJ9",
        "outputId": "d6ddd56c-955b-45fb-f80f-a81055ce73fa"
      },
      "execution_count": 4,
      "outputs": [
        {
          "output_type": "stream",
          "name": "stdout",
          "text": [
            "/content\n"
          ]
        }
      ]
    },
    {
      "cell_type": "code",
      "source": [
        "from google.colab import drive\n",
        "drive.mount('/content/drive')"
      ],
      "metadata": {
        "colab": {
          "base_uri": "https://localhost:8080/"
        },
        "id": "69adXhxoGAAt",
        "outputId": "6fcd0254-e3eb-4c9b-8175-61342fa349ed"
      },
      "execution_count": 5,
      "outputs": [
        {
          "output_type": "stream",
          "name": "stdout",
          "text": [
            "Mounted at /content/drive\n"
          ]
        }
      ]
    },
    {
      "cell_type": "code",
      "execution_count": 74,
      "metadata": {
        "id": "M4MgBT_uBeUQ"
      },
      "outputs": [],
      "source": [
        "testNormal = \"drive/MyDrive/Pneumonia-Prediction/chest_xray/test/NORMAL\"\n",
        "testPNA = \"drive/MyDrive/Pneumonia-Prediction/chest_xray/test/PNEUMONIA\"\n",
        "valNormal = \"drive/MyDrive/Pneumonia-Prediction/chest_xray/val/NORMAL\"\n",
        "valPNA = \"drive/MyDrive/Pneumonia-Prediction/chest_xray/val/PNEUMONIA\"\n",
        "trainNormal = \"drive/MyDrive/Pneumonia-Prediction/chest_xray/train/NORMAL\"\n",
        "trainPNA1 = \"drive/MyDrive/Pneumonia-Prediction/chest_xray/train/PNEUMONIA1\"\n",
        "#trainPNA2 = \"drive/MyDrive/Pneumonia-Prediction/chest_xray/train/PNEUMONIA2\"\n",
        "#trainPNA3 = \"drive/MyDrive/Pneumonia-Prediction/chest_xray/train/PNEUMONIA3\""
      ]
    },
    {
      "cell_type": "code",
      "execution_count": 7,
      "metadata": {
        "id": "LFVn-bHUBeUQ",
        "colab": {
          "base_uri": "https://localhost:8080/"
        },
        "outputId": "1c52dfb0-ab98-4566-98a5-4cd991892e32"
      },
      "outputs": [
        {
          "output_type": "execute_result",
          "data": {
            "text/plain": [
              "['NORMAL2-IM-1440-0001.jpeg',\n",
              " 'NORMAL2-IM-1438-0001.jpeg',\n",
              " 'NORMAL2-IM-1431-0001.jpeg',\n",
              " 'NORMAL2-IM-1427-0001.jpeg',\n",
              " 'NORMAL2-IM-1437-0001.jpeg',\n",
              " 'NORMAL2-IM-1442-0001.jpeg',\n",
              " 'NORMAL2-IM-1436-0001.jpeg',\n",
              " 'NORMAL2-IM-1430-0001.jpeg']"
            ]
          },
          "metadata": {},
          "execution_count": 7
        }
      ],
      "source": [
        "os.listdir(valNormal) #check to see there's no random \".DS_Store\" in directory\n",
        "# if there is, run: find . -name \".DS_Store\" -type f -delete\n",
        "# or just run it anyway to be safe"
      ]
    },
    {
      "cell_type": "code",
      "execution_count": 75,
      "metadata": {
        "id": "du45zB7hBeUR"
      },
      "outputs": [],
      "source": [
        "# images are X, labels are y\n",
        "testNormalimage = []\n",
        "testNormalLabel = []\n",
        "testPNAimage = []\n",
        "testPNALabel = []\n",
        "valNormalimage = []\n",
        "valNormalLabel = []\n",
        "valPNAimage = []\n",
        "valPNALabel = []\n",
        "trainNormalimage = []\n",
        "trainNormalLabel = []\n",
        "trainPNAimage1 = []\n",
        "trainPNALabel1= []\n"
      ]
    },
    {
      "cell_type": "code",
      "execution_count": 14,
      "metadata": {
        "id": "8t8TNizNBeUV",
        "colab": {
          "base_uri": "https://localhost:8080/"
        },
        "outputId": "14c4d0f7-74c5-496c-a507-99dce614a13b"
      },
      "outputs": [
        {
          "output_type": "execute_result",
          "data": {
            "text/plain": [
              "(1341, 224, 224, 3)"
            ]
          },
          "metadata": {},
          "execution_count": 14
        }
      ],
      "source": [
        "trainNormalimage, trainNormalLabel = normalArray(trainNormal, trainNormalimage, trainNormalLabel)\n",
        "trainNormalimage.shape"
      ]
    },
    {
      "cell_type": "code",
      "execution_count": 15,
      "metadata": {
        "id": "3Pov7sA_BeUW",
        "colab": {
          "base_uri": "https://localhost:8080/"
        },
        "outputId": "7d09964c-5ac4-49dc-fad1-d57edf3ad587"
      },
      "outputs": [
        {
          "output_type": "execute_result",
          "data": {
            "text/plain": [
              "(1307, 224, 224, 3)"
            ]
          },
          "metadata": {},
          "execution_count": 15
        }
      ],
      "source": [
        "trainPNAimage1, trainPNALabel1 = pnaArray(trainPNA1, trainPNAimage1, trainPNALabel1)\n",
        "trainPNAimage1.shape"
      ]
    },
    {
      "cell_type": "code",
      "execution_count": 16,
      "metadata": {
        "id": "VUefCyPpBeUW",
        "colab": {
          "base_uri": "https://localhost:8080/"
        },
        "outputId": "31ab2dd3-fde7-430f-98ee-350510708fc4"
      },
      "outputs": [
        {
          "output_type": "execute_result",
          "data": {
            "text/plain": [
              "(2648, 224, 224, 3)"
            ]
          },
          "metadata": {},
          "execution_count": 16
        }
      ],
      "source": [
        "X_train = np.concatenate((trainNormalimage, trainPNAimage1), axis=0)\n",
        "X_train.shape"
      ]
    },
    {
      "cell_type": "code",
      "execution_count": 17,
      "metadata": {
        "id": "OitZip5KBeUX",
        "colab": {
          "base_uri": "https://localhost:8080/"
        },
        "outputId": "580f334c-7e21-4fb4-a236-14d63786816a"
      },
      "outputs": [
        {
          "output_type": "execute_result",
          "data": {
            "text/plain": [
              "array([0, 0, 0, ..., 1, 1, 1])"
            ]
          },
          "metadata": {},
          "execution_count": 17
        }
      ],
      "source": [
        "y_train = np.concatenate((trainNormalLabel, trainPNALabel1), axis=0)\n",
        "y_train"
      ]
    },
    {
      "cell_type": "code",
      "source": [
        "y_train.shape"
      ],
      "metadata": {
        "colab": {
          "base_uri": "https://localhost:8080/"
        },
        "id": "HnakC_z1eN_B",
        "outputId": "597cb4f2-7d64-486a-c49d-5f6366951fa7"
      },
      "execution_count": 18,
      "outputs": [
        {
          "output_type": "execute_result",
          "data": {
            "text/plain": [
              "(2648,)"
            ]
          },
          "metadata": {},
          "execution_count": 18
        }
      ]
    },
    {
      "cell_type": "code",
      "execution_count": 82,
      "metadata": {
        "id": "_9reaV8UBeUV",
        "colab": {
          "base_uri": "https://localhost:8080/"
        },
        "outputId": "a9e808d5-1900-4859-d9f8-2263a8f412d1"
      },
      "outputs": [
        {
          "output_type": "execute_result",
          "data": {
            "text/plain": [
              "(8, 224, 224, 3)"
            ]
          },
          "metadata": {},
          "execution_count": 82
        }
      ],
      "source": [
        "valNormalimage, valNormalLabel = normalArray(valNormal, valNormalimage, valNormalLabel)\n",
        "valNormalimage.shape"
      ]
    },
    {
      "cell_type": "code",
      "execution_count": 83,
      "metadata": {
        "id": "QE7I1NZpBeUV",
        "colab": {
          "base_uri": "https://localhost:8080/"
        },
        "outputId": "9539459f-59a2-427a-eeee-7d35486421c3"
      },
      "outputs": [
        {
          "output_type": "execute_result",
          "data": {
            "text/plain": [
              "(8, 224, 224, 3)"
            ]
          },
          "metadata": {},
          "execution_count": 83
        }
      ],
      "source": [
        "valPNAimage, valPNALabel = pnaArray(valPNA, valPNAimage, valPNALabel)\n",
        "valPNAimage.shape"
      ]
    },
    {
      "cell_type": "code",
      "execution_count": 84,
      "metadata": {
        "id": "1f1Z3-f7BeUV",
        "colab": {
          "base_uri": "https://localhost:8080/"
        },
        "outputId": "b1201793-8783-4bcb-e3dd-11f617afb4bd"
      },
      "outputs": [
        {
          "output_type": "execute_result",
          "data": {
            "text/plain": [
              "array([1, 1, 1, 1, 1, 1, 1, 1])"
            ]
          },
          "metadata": {},
          "execution_count": 84
        }
      ],
      "source": [
        "valPNALabel"
      ]
    },
    {
      "cell_type": "code",
      "execution_count": 12,
      "metadata": {
        "id": "wDg-0qeLBeUV"
      },
      "outputs": [],
      "source": [
        "X_val = np.concatenate((valNormalimage, valPNAimage), axis=0)\n",
        "#X_val"
      ]
    },
    {
      "cell_type": "code",
      "execution_count": 13,
      "metadata": {
        "id": "gqGa-v16BeUV",
        "colab": {
          "base_uri": "https://localhost:8080/"
        },
        "outputId": "be6e2766-839c-4633-d647-f073bbc3f8c9"
      },
      "outputs": [
        {
          "output_type": "execute_result",
          "data": {
            "text/plain": [
              "array([0, 0, 0, 0, 0, 0, 0, 0, 1, 1, 1, 1, 1, 1, 1, 1])"
            ]
          },
          "metadata": {},
          "execution_count": 13
        }
      ],
      "source": [
        "y_val = np.concatenate((valNormalLabel, valPNALabel), axis=0)\n",
        "y_val"
      ]
    },
    {
      "cell_type": "code",
      "source": [
        "testNormalimage, testNormalLabel = normalArray(testNormal, testNormalimage, testNormalLabel)\n",
        "testNormalimage.shape"
      ],
      "metadata": {
        "colab": {
          "base_uri": "https://localhost:8080/"
        },
        "id": "dYDQ2bOYUViO",
        "outputId": "9c1cc54e-864c-449e-f81c-0401d12aaae8"
      },
      "execution_count": 76,
      "outputs": [
        {
          "output_type": "execute_result",
          "data": {
            "text/plain": [
              "(234, 224, 224, 3)"
            ]
          },
          "metadata": {},
          "execution_count": 76
        }
      ]
    },
    {
      "cell_type": "code",
      "source": [
        "testPNAimage, testPNALabel = pnaArray(testPNA, testPNAimage, testPNALabel)\n",
        "testPNAimage.shape"
      ],
      "metadata": {
        "colab": {
          "base_uri": "https://localhost:8080/"
        },
        "id": "8p8zoO-UUWW0",
        "outputId": "659f314a-3254-49ab-94f4-34faad017eaf"
      },
      "execution_count": 77,
      "outputs": [
        {
          "output_type": "execute_result",
          "data": {
            "text/plain": [
              "(390, 224, 224, 3)"
            ]
          },
          "metadata": {},
          "execution_count": 77
        }
      ]
    },
    {
      "cell_type": "code",
      "source": [
        "X_test = np.concatenate((testNormalimage, testPNAimage), axis=0)\n",
        "X_test.shape"
      ],
      "metadata": {
        "colab": {
          "base_uri": "https://localhost:8080/"
        },
        "id": "dKCuwiYqVVGu",
        "outputId": "d01781be-64c8-41d6-d687-2f79d0091548"
      },
      "execution_count": 78,
      "outputs": [
        {
          "output_type": "execute_result",
          "data": {
            "text/plain": [
              "(624, 224, 224, 3)"
            ]
          },
          "metadata": {},
          "execution_count": 78
        }
      ]
    },
    {
      "cell_type": "code",
      "source": [
        "y_test = np.concatenate((testNormalLabel, testPNALabel), axis=0)\n",
        "y_test"
      ],
      "metadata": {
        "id": "Fa1pc-rhVXl9"
      },
      "execution_count": null,
      "outputs": []
    },
    {
      "cell_type": "markdown",
      "source": [
        "resplit"
      ],
      "metadata": {
        "id": "A76YcpdMVkyq"
      }
    },
    {
      "cell_type": "code",
      "source": [
        "combinedValTestNormalImage = np.concatenate((valNormalimage, testNormalimage), axis=0)\n",
        "combinedValTestPNAImage = np.concatenate((valPNAimage, testPNAimage), axis=0)\n",
        "combinedValTestNormalLabel = np.concatenate((valNormalLabel, testNormalLabel), axis=0)\n",
        "combinedValTestPNALabel = np.concatenate((valPNALabel, testPNALabel), axis=0)\n",
        "combinedXValTest = np.concatenate((combinedValTestNormalImage, combinedValTestPNAImage), axis=0)\n",
        "combinedyValTest = np.concatenate((combinedValTestNormalLabel, combinedValTestPNALabel), axis=0)\n",
        "X_val40, X_test60, y_val40, y_test60 = train_test_split(combinedXValTest, combinedyValTest, test_size=0.6, random_state=42)\n",
        "print(X_val40.shape)\n",
        "print(X_test60.shape)\n",
        "print(y_val40.shape)\n",
        "print(y_test60.shape)"
      ],
      "metadata": {
        "colab": {
          "base_uri": "https://localhost:8080/"
        },
        "id": "EAGogVgvWQQu",
        "outputId": "a1949792-f4ca-4c89-e46b-73c6d865772f"
      },
      "execution_count": 91,
      "outputs": [
        {
          "output_type": "stream",
          "name": "stdout",
          "text": [
            "(256, 224, 224, 3)\n",
            "(384, 224, 224, 3)\n",
            "(256,)\n",
            "(384,)\n"
          ]
        }
      ]
    },
    {
      "cell_type": "code",
      "source": [
        "#testing subset\n",
        "random_index = random.sample(range(len(X_val40)), 60)\n",
        "X_val_sampled = np.array([X_val40[i] for i in random_index])\n",
        "y_val_sampled = np.array([y_val40[i] for i in random_index])\n",
        "print(X_val_sampled.shape)\n",
        "print(y_val_sampled)"
      ],
      "metadata": {
        "colab": {
          "base_uri": "https://localhost:8080/"
        },
        "id": "kQ5qM7O92nGk",
        "outputId": "698140bd-5e58-4ec6-ab05-8ed67946db4a"
      },
      "execution_count": 113,
      "outputs": [
        {
          "output_type": "stream",
          "name": "stdout",
          "text": [
            "(60, 224, 224, 3)\n",
            "[0 0 1 0 1 0 1 1 0 0 1 0 0 0 1 1 1 1 1 1 1 0 1 0 1 1 1 1 1 1 1 1 1 1 0 1 1\n",
            " 1 1 0 1 1 0 1 0 1 1 1 1 0 1 1 0 1 0 0 1 0 1 1]\n"
          ]
        }
      ]
    },
    {
      "cell_type": "code",
      "source": [
        "random_index = random.sample(range(len(X_train)), 300)\n",
        "X_train_sampled = np.array([X_train[i] for i in random_index])\n",
        "y_train_sampled = np.array([y_train[i] for i in random_index])\n",
        "print(X_train_sampled.shape)\n",
        "print(y_train_sampled.shape)"
      ],
      "metadata": {
        "colab": {
          "base_uri": "https://localhost:8080/"
        },
        "id": "32Pq0KjC4ERB",
        "outputId": "eb127213-17e5-4dea-e6fd-27782c44aa60"
      },
      "execution_count": 114,
      "outputs": [
        {
          "output_type": "stream",
          "name": "stdout",
          "text": [
            "(300, 224, 224, 3)\n",
            "[0 1 0 1 1 0 1 1 0 0 0 0 0 0 1 0 0 1 1 1 1 1 0 1 1 1 1 0 1 0 0 0 1 1 0 0 1\n",
            " 1 0 1 1 0 0 0 0 1 1 1 1 0 1 0 0 0 1 0 1 0 1 0 1 0 1 0 1 1 1 1 1 0 0 0 0 0\n",
            " 1 1 1 0 1 1 0 1 1 1 1 1 0 0 1 0 0 0 1 1 1 0 1 0 0 1 1 1 1 1 0 1 1 0 1 1 1\n",
            " 1 0 1 1 1 0 0 0 1 1 0 1 0 0 1 1 1 1 1 0 1 1 1 0 1 0 0 1 0 0 1 0 0 1 1 1 1\n",
            " 1 0 0 0 1 0 1 1 0 1 0 0 0 1 0 0 1 1 0 0 0 0 1 1 0 1 1 0 0 0 0 1 0 1 0 1 1\n",
            " 0 0 0 0 1 0 0 0 1 0 0 1 0 1 1 1 1 0 1 1 1 1 1 0 1 0 0 1 0 0 0 1 0 0 0 1 1\n",
            " 1 1 0 1 0 1 0 0 1 1 1 0 1 0 0 0 0 0 1 0 1 1 0 1 0 0 0 0 1 1 0 0 1 1 1 1 1\n",
            " 1 1 1 1 1 0 0 0 0 1 1 1 1 0 1 1 0 1 1 0 0 1 0 0 0 1 1 1 1 0 1 1 1 1 1 1 0\n",
            " 1 0 0 1]\n"
          ]
        }
      ]
    },
    {
      "cell_type": "code",
      "source": [
        "#testing subset\n",
        "X_train_sampled_reshaped = X_train_sampled.reshape(X_train_sampled.shape[0], -1)\n",
        "print(X_train_sampled_reshaped.shape)\n",
        "\n",
        "X_val_sampled_reshaped = X_val_sampled.reshape(X_val_sampled.shape[0], -1)\n",
        "print(X_val_sampled_reshaped.shape)"
      ],
      "metadata": {
        "colab": {
          "base_uri": "https://localhost:8080/"
        },
        "id": "EkZnT56z5Ago",
        "outputId": "ded1e4ce-6927-488e-c1a2-59b25e63efa3"
      },
      "execution_count": 115,
      "outputs": [
        {
          "output_type": "stream",
          "name": "stdout",
          "text": [
            "(300, 150528)\n",
            "(60, 150528)\n"
          ]
        }
      ]
    },
    {
      "cell_type": "markdown",
      "metadata": {
        "id": "4kw-hLv_BeUY"
      },
      "source": [
        "# DNN"
      ]
    },
    {
      "cell_type": "code",
      "execution_count": 105,
      "metadata": {
        "id": "kKsIc70mBeUY"
      },
      "outputs": [],
      "source": [
        "dnnModel = tf.keras.models.Sequential()"
      ]
    },
    {
      "cell_type": "code",
      "source": [
        "#testing nn\n",
        "dnnModel.add(tf.keras.layers.Dense(units=20, activation=tf.keras.layers.LeakyReLU(alpha=0.2), input_dim=150528))\n",
        "dnnModel.add(tf.keras.layers.Dense(units=10, activation=tf.keras.layers.LeakyReLU(alpha=0.2)))\n",
        "dnnModel.add(tf.keras.layers.Dense(units=1, activation=\"sigmoid\"))"
      ],
      "metadata": {
        "id": "AvdvndLE5haE"
      },
      "execution_count": 106,
      "outputs": []
    },
    {
      "cell_type": "code",
      "source": [
        "print(dnnModel.summary())\n",
        "dnnModel.compile(loss=\"binary_crossentropy\", optimizer=\"adam\", metrics=[\"accuracy\"])\n",
        "\n",
        "fit7 = dnnModel.fit(X_train_sampled_reshaped, y_train_sampled, epochs=100)\n",
        "\n",
        "val_loss, val_accuracy = dnnModel.evaluate(X_val_sampled_reshaped, y_val_sampled)\n",
        "\n",
        "print(\"Validation Loss:\", val_loss)\n",
        "print(\"Validation Accuracy:\", val_accuracy)"
      ],
      "metadata": {
        "colab": {
          "base_uri": "https://localhost:8080/"
        },
        "id": "jKxtZeDXe1Gw",
        "outputId": "b3b5fb5a-e230-4684-f9fa-1ba415575ba7"
      },
      "execution_count": 116,
      "outputs": [
        {
          "output_type": "stream",
          "name": "stdout",
          "text": [
            "Model: \"sequential_6\"\n",
            "_________________________________________________________________\n",
            " Layer (type)                Output Shape              Param #   \n",
            "=================================================================\n",
            " dense_22 (Dense)            (None, 15)                2257935   \n",
            "                                                                 \n",
            " dense_23 (Dense)            (None, 7)                 112       \n",
            "                                                                 \n",
            " dense_24 (Dense)            (None, 1)                 8         \n",
            "                                                                 \n",
            "=================================================================\n",
            "Total params: 2,258,055\n",
            "Trainable params: 2,258,055\n",
            "Non-trainable params: 0\n",
            "_________________________________________________________________\n",
            "None\n",
            "Epoch 1/100\n",
            "10/10 [==============================] - 3s 62ms/step - loss: 2.3560 - accuracy: 0.6800\n",
            "Epoch 2/100\n",
            "10/10 [==============================] - 1s 55ms/step - loss: 0.5273 - accuracy: 0.8200\n",
            "Epoch 3/100\n",
            "10/10 [==============================] - 1s 57ms/step - loss: 0.4800 - accuracy: 0.8733\n",
            "Epoch 4/100\n",
            "10/10 [==============================] - 1s 59ms/step - loss: 0.2730 - accuracy: 0.9167\n",
            "Epoch 5/100\n",
            "10/10 [==============================] - 1s 58ms/step - loss: 0.1954 - accuracy: 0.9267\n",
            "Epoch 6/100\n",
            "10/10 [==============================] - 1s 54ms/step - loss: 0.1521 - accuracy: 0.9367\n",
            "Epoch 7/100\n",
            "10/10 [==============================] - 1s 55ms/step - loss: 0.1505 - accuracy: 0.9467\n",
            "Epoch 8/100\n",
            "10/10 [==============================] - 1s 54ms/step - loss: 0.1491 - accuracy: 0.9567\n",
            "Epoch 9/100\n",
            "10/10 [==============================] - 1s 59ms/step - loss: 0.1173 - accuracy: 0.9467\n",
            "Epoch 10/100\n",
            "10/10 [==============================] - 1s 60ms/step - loss: 0.1680 - accuracy: 0.9200\n",
            "Epoch 11/100\n",
            "10/10 [==============================] - 1s 56ms/step - loss: 0.1976 - accuracy: 0.9300\n",
            "Epoch 12/100\n",
            "10/10 [==============================] - 1s 56ms/step - loss: 0.1216 - accuracy: 0.9600\n",
            "Epoch 13/100\n",
            "10/10 [==============================] - 1s 55ms/step - loss: 0.0933 - accuracy: 0.9667\n",
            "Epoch 14/100\n",
            "10/10 [==============================] - 1s 57ms/step - loss: 0.0844 - accuracy: 0.9667\n",
            "Epoch 15/100\n",
            "10/10 [==============================] - 1s 55ms/step - loss: 0.1639 - accuracy: 0.9400\n",
            "Epoch 16/100\n",
            "10/10 [==============================] - 1s 63ms/step - loss: 0.0638 - accuracy: 0.9800\n",
            "Epoch 17/100\n",
            "10/10 [==============================] - 1s 75ms/step - loss: 0.0647 - accuracy: 0.9767\n",
            "Epoch 18/100\n",
            "10/10 [==============================] - 1s 74ms/step - loss: 0.0666 - accuracy: 0.9767\n",
            "Epoch 19/100\n",
            "10/10 [==============================] - 1s 78ms/step - loss: 0.0588 - accuracy: 0.9800\n",
            "Epoch 20/100\n",
            "10/10 [==============================] - 1s 77ms/step - loss: 0.1541 - accuracy: 0.9367\n",
            "Epoch 21/100\n",
            "10/10 [==============================] - 1s 76ms/step - loss: 0.0787 - accuracy: 0.9700\n",
            "Epoch 22/100\n",
            "10/10 [==============================] - 1s 77ms/step - loss: 0.0488 - accuracy: 0.9833\n",
            "Epoch 23/100\n",
            "10/10 [==============================] - 1s 69ms/step - loss: 0.0595 - accuracy: 0.9733\n",
            "Epoch 24/100\n",
            "10/10 [==============================] - 1s 57ms/step - loss: 0.0755 - accuracy: 0.9767\n",
            "Epoch 25/100\n",
            "10/10 [==============================] - 1s 53ms/step - loss: 0.0656 - accuracy: 0.9767\n",
            "Epoch 26/100\n",
            "10/10 [==============================] - 1s 57ms/step - loss: 0.0359 - accuracy: 0.9933\n",
            "Epoch 27/100\n",
            "10/10 [==============================] - 1s 57ms/step - loss: 0.0510 - accuracy: 0.9833\n",
            "Epoch 28/100\n",
            "10/10 [==============================] - 1s 59ms/step - loss: 0.0483 - accuracy: 0.9800\n",
            "Epoch 29/100\n",
            "10/10 [==============================] - 1s 54ms/step - loss: 0.0440 - accuracy: 0.9900\n",
            "Epoch 30/100\n",
            "10/10 [==============================] - 1s 54ms/step - loss: 0.0436 - accuracy: 0.9900\n",
            "Epoch 31/100\n",
            "10/10 [==============================] - 1s 55ms/step - loss: 0.0569 - accuracy: 0.9800\n",
            "Epoch 32/100\n",
            "10/10 [==============================] - 1s 55ms/step - loss: 0.2107 - accuracy: 0.9333\n",
            "Epoch 33/100\n",
            "10/10 [==============================] - 1s 54ms/step - loss: 0.2071 - accuracy: 0.9333\n",
            "Epoch 34/100\n",
            "10/10 [==============================] - 1s 62ms/step - loss: 0.9092 - accuracy: 0.8200\n",
            "Epoch 35/100\n",
            "10/10 [==============================] - 1s 56ms/step - loss: 0.4882 - accuracy: 0.8533\n",
            "Epoch 36/100\n",
            "10/10 [==============================] - 1s 57ms/step - loss: 0.2725 - accuracy: 0.9167\n",
            "Epoch 37/100\n",
            "10/10 [==============================] - 1s 57ms/step - loss: 0.0959 - accuracy: 0.9667\n",
            "Epoch 38/100\n",
            "10/10 [==============================] - 1s 55ms/step - loss: 0.0481 - accuracy: 0.9733\n",
            "Epoch 39/100\n",
            "10/10 [==============================] - 1s 57ms/step - loss: 0.0507 - accuracy: 0.9800\n",
            "Epoch 40/100\n",
            "10/10 [==============================] - 1s 73ms/step - loss: 0.2484 - accuracy: 0.9233\n",
            "Epoch 41/100\n",
            "10/10 [==============================] - 1s 94ms/step - loss: 0.3222 - accuracy: 0.9167\n",
            "Epoch 42/100\n",
            "10/10 [==============================] - 1s 118ms/step - loss: 0.2605 - accuracy: 0.8967\n",
            "Epoch 43/100\n",
            "10/10 [==============================] - 1s 104ms/step - loss: 0.4270 - accuracy: 0.8700\n",
            "Epoch 44/100\n",
            "10/10 [==============================] - 1s 110ms/step - loss: 0.1678 - accuracy: 0.9333\n",
            "Epoch 45/100\n",
            "10/10 [==============================] - 1s 96ms/step - loss: 0.0501 - accuracy: 0.9800\n",
            "Epoch 46/100\n",
            "10/10 [==============================] - 1s 82ms/step - loss: 0.0342 - accuracy: 0.9833\n",
            "Epoch 47/100\n",
            "10/10 [==============================] - 1s 74ms/step - loss: 0.0245 - accuracy: 0.9933\n",
            "Epoch 48/100\n",
            "10/10 [==============================] - 1s 77ms/step - loss: 0.0250 - accuracy: 0.9933\n",
            "Epoch 49/100\n",
            "10/10 [==============================] - 1s 80ms/step - loss: 0.0671 - accuracy: 0.9733\n",
            "Epoch 50/100\n",
            "10/10 [==============================] - 1s 81ms/step - loss: 0.0297 - accuracy: 0.9867\n",
            "Epoch 51/100\n",
            "10/10 [==============================] - 1s 82ms/step - loss: 0.0292 - accuracy: 0.9900\n",
            "Epoch 52/100\n",
            "10/10 [==============================] - 1s 83ms/step - loss: 0.0267 - accuracy: 0.9867\n",
            "Epoch 53/100\n",
            "10/10 [==============================] - 1s 57ms/step - loss: 0.0176 - accuracy: 0.9933\n",
            "Epoch 54/100\n",
            "10/10 [==============================] - 1s 57ms/step - loss: 0.0172 - accuracy: 0.9933\n",
            "Epoch 55/100\n",
            "10/10 [==============================] - 1s 54ms/step - loss: 0.0172 - accuracy: 0.9933\n",
            "Epoch 56/100\n",
            "10/10 [==============================] - 1s 54ms/step - loss: 0.0149 - accuracy: 1.0000\n",
            "Epoch 57/100\n",
            "10/10 [==============================] - 1s 55ms/step - loss: 0.0123 - accuracy: 1.0000\n",
            "Epoch 58/100\n",
            "10/10 [==============================] - 1s 54ms/step - loss: 0.0141 - accuracy: 0.9967\n",
            "Epoch 59/100\n",
            "10/10 [==============================] - 1s 57ms/step - loss: 0.0103 - accuracy: 1.0000\n",
            "Epoch 60/100\n",
            "10/10 [==============================] - 1s 58ms/step - loss: 0.0158 - accuracy: 0.9967\n",
            "Epoch 61/100\n",
            "10/10 [==============================] - 1s 81ms/step - loss: 0.0103 - accuracy: 1.0000\n",
            "Epoch 62/100\n",
            "10/10 [==============================] - 1s 77ms/step - loss: 0.0071 - accuracy: 1.0000\n",
            "Epoch 63/100\n",
            "10/10 [==============================] - 1s 79ms/step - loss: 0.0096 - accuracy: 1.0000\n",
            "Epoch 64/100\n",
            "10/10 [==============================] - 1s 74ms/step - loss: 0.0100 - accuracy: 0.9967\n",
            "Epoch 65/100\n",
            "10/10 [==============================] - 1s 81ms/step - loss: 0.0109 - accuracy: 0.9967\n",
            "Epoch 66/100\n",
            "10/10 [==============================] - 1s 80ms/step - loss: 0.0066 - accuracy: 1.0000\n",
            "Epoch 67/100\n",
            "10/10 [==============================] - 1s 59ms/step - loss: 0.0095 - accuracy: 1.0000\n",
            "Epoch 68/100\n",
            "10/10 [==============================] - 1s 56ms/step - loss: 0.0062 - accuracy: 1.0000\n",
            "Epoch 69/100\n",
            "10/10 [==============================] - 1s 56ms/step - loss: 0.0059 - accuracy: 1.0000\n",
            "Epoch 70/100\n",
            "10/10 [==============================] - 1s 57ms/step - loss: 0.0059 - accuracy: 1.0000\n",
            "Epoch 71/100\n",
            "10/10 [==============================] - 1s 56ms/step - loss: 0.0058 - accuracy: 1.0000\n",
            "Epoch 72/100\n",
            "10/10 [==============================] - 1s 57ms/step - loss: 0.0065 - accuracy: 1.0000\n",
            "Epoch 73/100\n",
            "10/10 [==============================] - 1s 59ms/step - loss: 0.0080 - accuracy: 1.0000\n",
            "Epoch 74/100\n",
            "10/10 [==============================] - 1s 56ms/step - loss: 0.0082 - accuracy: 1.0000\n",
            "Epoch 75/100\n",
            "10/10 [==============================] - 1s 55ms/step - loss: 0.0062 - accuracy: 1.0000\n",
            "Epoch 76/100\n",
            "10/10 [==============================] - 1s 57ms/step - loss: 0.0056 - accuracy: 1.0000\n",
            "Epoch 77/100\n",
            "10/10 [==============================] - 1s 59ms/step - loss: 0.0051 - accuracy: 1.0000\n",
            "Epoch 78/100\n",
            "10/10 [==============================] - 1s 56ms/step - loss: 0.0050 - accuracy: 1.0000\n",
            "Epoch 79/100\n",
            "10/10 [==============================] - 1s 59ms/step - loss: 0.0059 - accuracy: 1.0000\n",
            "Epoch 80/100\n",
            "10/10 [==============================] - 1s 58ms/step - loss: 0.0058 - accuracy: 1.0000\n",
            "Epoch 81/100\n",
            "10/10 [==============================] - 1s 57ms/step - loss: 0.0047 - accuracy: 1.0000\n",
            "Epoch 82/100\n",
            "10/10 [==============================] - 1s 54ms/step - loss: 0.0050 - accuracy: 1.0000\n",
            "Epoch 83/100\n",
            "10/10 [==============================] - 1s 55ms/step - loss: 0.0053 - accuracy: 1.0000\n",
            "Epoch 84/100\n",
            "10/10 [==============================] - 1s 63ms/step - loss: 0.0062 - accuracy: 1.0000\n",
            "Epoch 85/100\n",
            "10/10 [==============================] - 1s 83ms/step - loss: 0.0054 - accuracy: 1.0000\n",
            "Epoch 86/100\n",
            "10/10 [==============================] - 1s 81ms/step - loss: 0.0059 - accuracy: 1.0000\n",
            "Epoch 87/100\n",
            "10/10 [==============================] - 1s 78ms/step - loss: 0.0086 - accuracy: 1.0000\n",
            "Epoch 88/100\n",
            "10/10 [==============================] - 1s 77ms/step - loss: 0.0051 - accuracy: 1.0000\n",
            "Epoch 89/100\n",
            "10/10 [==============================] - 1s 78ms/step - loss: 0.0044 - accuracy: 1.0000\n",
            "Epoch 90/100\n",
            "10/10 [==============================] - 1s 82ms/step - loss: 0.0043 - accuracy: 1.0000\n",
            "Epoch 91/100\n",
            "10/10 [==============================] - 1s 60ms/step - loss: 0.0044 - accuracy: 1.0000\n",
            "Epoch 92/100\n",
            "10/10 [==============================] - 1s 55ms/step - loss: 0.0043 - accuracy: 1.0000\n",
            "Epoch 93/100\n",
            "10/10 [==============================] - 1s 55ms/step - loss: 0.0058 - accuracy: 1.0000\n",
            "Epoch 94/100\n",
            "10/10 [==============================] - 1s 55ms/step - loss: 0.0040 - accuracy: 1.0000\n",
            "Epoch 95/100\n",
            "10/10 [==============================] - 1s 58ms/step - loss: 0.0039 - accuracy: 1.0000\n",
            "Epoch 96/100\n",
            "10/10 [==============================] - 1s 57ms/step - loss: 0.0042 - accuracy: 1.0000\n",
            "Epoch 97/100\n",
            "10/10 [==============================] - 1s 55ms/step - loss: 0.0040 - accuracy: 1.0000\n",
            "Epoch 98/100\n",
            "10/10 [==============================] - 1s 57ms/step - loss: 0.0038 - accuracy: 1.0000\n",
            "Epoch 99/100\n",
            "10/10 [==============================] - 1s 54ms/step - loss: 0.0044 - accuracy: 1.0000\n",
            "Epoch 100/100\n",
            "10/10 [==============================] - 1s 55ms/step - loss: 0.0038 - accuracy: 1.0000\n",
            "2/2 [==============================] - 0s 41ms/step - loss: 1.3412 - accuracy: 0.8000\n",
            "Validation Loss: 1.3412128686904907\n",
            "Validation Accuracy: 0.800000011920929\n"
          ]
        }
      ]
    },
    {
      "cell_type": "code",
      "source": [
        "history_df = pd.DataFrame(fit7.history)\n",
        "history_df.index += 1 # Increase the index by 1 to match the number of epochs\n",
        "history_df.plot(y=\"accuracy\")\n",
        "plt.show()\n",
        "\n",
        "history_df.plot(y=\"loss\")\n",
        "plt.show()\n",
        "\n",
        "fit7Predict = dnnModel.predict(X_val_sampled_reshaped)\n",
        "fit7PredictClass = (fit7Predict > 0.5).astype(int)\n",
        "print(\"Accuracy:\", accuracy_score(y_val_sampled, fit7PredictClass))\n",
        "print(\"Confusion Matrix:\")\n",
        "print(confusion_matrix(y_val_sampled, fit7PredictClass))\n",
        "print(\"Classification Report:\")\n",
        "print(classification_report(y_val_sampled, fit7PredictClass))\n",
        "fit7TP = []\n",
        "fit7FN = []\n",
        "fit7FP = []\n",
        "fit7TN = []\n",
        "cm = confusion_matrix(y_val_sampled, fit7PredictClass)\n",
        "fit7TP.append(cm[1][1]/(cm[1][1]+cm[1][0]))\n",
        "fit7FN.append(cm[1][0]/(cm[1][1]+cm[1][0]))\n",
        "fit7FP.append(cm[0][1]/(cm[1][1]+cm[0][1]))\n",
        "fit7TN.append(cm[0][0]/(cm[0][0]+cm[0][1]))\n",
        "\n",
        "fit7Summary = pd.DataFrame({\"acuuracy1\": val_accuracy, \"loss:\": val_loss, \"true_positive\": fit7TP, \"false_negative\": fit7FN, \"false_positive\": fit7FP, \"true_negative\": fit7TN})\n",
        "fit7Summary\n"
      ],
      "metadata": {
        "colab": {
          "base_uri": "https://localhost:8080/",
          "height": 1000
        },
        "id": "yy-rM4spfAoA",
        "outputId": "6dce43f8-6179-46e7-8086-c0c5af1ec6e8"
      },
      "execution_count": 117,
      "outputs": [
        {
          "output_type": "display_data",
          "data": {
            "text/plain": [
              "<Figure size 640x480 with 1 Axes>"
            ],
            "image/png": "[encoded data removed]"
          },
          "metadata": {}
        },
        {
          "output_type": "display_data",
          "data": {
            "text/plain": [
              "<Figure size 640x480 with 1 Axes>"
            ],
            "image/png": "[encoded data removed]"
          },
          "metadata": {}
        },
        {
          "output_type": "stream",
          "name": "stdout",
          "text": [
            "2/2 [==============================] - 0s 34ms/step\n",
            "Accuracy: 0.8\n",
            "Confusion Matrix:\n",
            "[[ 9 11]\n",
            " [ 1 39]]\n",
            "Classification Report:\n",
            "              precision    recall  f1-score   support\n",
            "\n",
            "           0       0.90      0.45      0.60        20\n",
            "           1       0.78      0.97      0.87        40\n",
            "\n",
            "    accuracy                           0.80        60\n",
            "   macro avg       0.84      0.71      0.73        60\n",
            "weighted avg       0.82      0.80      0.78        60\n",
            "\n"
          ]
        },
        {
          "output_type": "execute_result",
          "data": {
            "text/plain": [
              "   acuuracy1     loss:  true_positive  false_negative  false_positive  \\\n",
              "0        0.8  1.341213          0.975           0.025            0.22   \n",
              "\n",
              "   true_negative  \n",
              "0           0.45  "
            ],
            "text/html": [
              "\n",
              "  <div id=\"df-aad35f75-5e00-403d-b1f9-6934d2493ad6\" class=\"colab-df-container\">\n",
              "    <div>\n",
              "<style scoped>\n",
              "    .dataframe tbody tr th:only-of-type {\n",
              "        vertical-align: middle;\n",
              "    }\n",
              "\n",
              "    .dataframe tbody tr th {\n",
              "        vertical-align: top;\n",
              "    }\n",
              "\n",
              "    .dataframe thead th {\n",
              "        text-align: right;\n",
              "    }\n",
              "</style>\n",
              "<table border=\"1\" class=\"dataframe\">\n",
              "  <thead>\n",
              "    <tr style=\"text-align: right;\">\n",
              "      <th></th>\n",
              "      <th>acuuracy1</th>\n",
              "      <th>loss:</th>\n",
              "      <th>true_positive</th>\n",
              "      <th>false_negative</th>\n",
              "      <th>false_positive</th>\n",
              "      <th>true_negative</th>\n",
              "    </tr>\n",
              "  </thead>\n",
              "  <tbody>\n",
              "    <tr>\n",
              "      <th>0</th>\n",
              "      <td>0.8</td>\n",
              "      <td>1.341213</td>\n",
              "      <td>0.975</td>\n",
              "      <td>0.025</td>\n",
              "      <td>0.22</td>\n",
              "      <td>0.45</td>\n",
              "    </tr>\n",
              "  </tbody>\n",
              "</table>\n",
              "</div>\n",
              "    <div class=\"colab-df-buttons\">\n",
              "\n",
              "  <div class=\"colab-df-container\">\n",
              "    <button class=\"colab-df-convert\" onclick=\"convertToInteractive('df-aad35f75-5e00-403d-b1f9-6934d2493ad6')\"\n",
              "            title=\"Convert this dataframe to an interactive table.\"\n",
              "            style=\"display:none;\">\n",
              "\n",
              "  <svg xmlns=\"http://www.w3.org/2000/svg\" height=\"24px\" viewBox=\"0 -960 960 960\">\n",
              "    <path d=\"M120-120v-720h720v720H120Zm60-500h600v-160H180v160Zm220 220h160v-160H400v160Zm0 220h160v-160H400v160ZM180-400h160v-160H180v160Zm440 0h160v-160H620v160ZM180-180h160v-160H180v160Zm440 0h160v-160H620v160Z\"/>\n",
              "  </svg>\n",
              "    </button>\n",
              "\n",
              "  <style>\n",
              "    .colab-df-container {\n",
              "      display:flex;\n",
              "      gap: 12px;\n",
              "    }\n",
              "\n",
              "    .colab-df-convert {\n",
              "      background-color: #E8F0FE;\n",
              "      border: none;\n",
              "      border-radius: 50%;\n",
              "      cursor: pointer;\n",
              "      display: none;\n",
              "      fill: #1967D2;\n",
              "      height: 32px;\n",
              "      padding: 0 0 0 0;\n",
              "      width: 32px;\n",
              "    }\n",
              "\n",
              "    .colab-df-convert:hover {\n",
              "      background-color: #E2EBFA;\n",
              "      box-shadow: 0px 1px 2px rgba(60, 64, 67, 0.3), 0px 1px 3px 1px rgba(60, 64, 67, 0.15);\n",
              "      fill: #174EA6;\n",
              "    }\n",
              "\n",
              "    .colab-df-buttons div {\n",
              "      margin-bottom: 4px;\n",
              "    }\n",
              "\n",
              "    [theme=dark] .colab-df-convert {\n",
              "      background-color: #3B4455;\n",
              "      fill: #D2E3FC;\n",
              "    }\n",
              "\n",
              "    [theme=dark] .colab-df-convert:hover {\n",
              "      background-color: #434B5C;\n",
              "      box-shadow: 0px 1px 3px 1px rgba(0, 0, 0, 0.15);\n",
              "      filter: drop-shadow(0px 1px 2px rgba(0, 0, 0, 0.3));\n",
              "      fill: #FFFFFF;\n",
              "    }\n",
              "  </style>\n",
              "\n",
              "    <script>\n",
              "      const buttonEl =\n",
              "        document.querySelector('#df-aad35f75-5e00-403d-b1f9-6934d2493ad6 button.colab-df-convert');\n",
              "      buttonEl.style.display =\n",
              "        google.colab.kernel.accessAllowed ? 'block' : 'none';\n",
              "\n",
              "      async function convertToInteractive(key) {\n",
              "        const element = document.querySelector('#df-aad35f75-5e00-403d-b1f9-6934d2493ad6');\n",
              "        const dataTable =\n",
              "          await google.colab.kernel.invokeFunction('convertToInteractive',\n",
              "                                                    [key], {});\n",
              "        if (!dataTable) return;\n",
              "\n",
              "        const docLinkHtml = 'Like what you see? Visit the ' +\n",
              "          '<a target=\"_blank\" href=https://colab.research.google.com/notebooks/data_table.ipynb>data table notebook</a>'\n",
              "          + ' to learn more about interactive tables.';\n",
              "        element.innerHTML = '';\n",
              "        dataTable['output_type'] = 'display_data';\n",
              "        await google.colab.output.renderOutput(dataTable, element);\n",
              "        const docLink = document.createElement('div');\n",
              "        docLink.innerHTML = docLinkHtml;\n",
              "        element.appendChild(docLink);\n",
              "      }\n",
              "    </script>\n",
              "  </div>\n",
              "\n",
              "    </div>\n",
              "  </div>\n"
            ]
          },
          "metadata": {},
          "execution_count": 117
        }
      ]
    },
    {
      "cell_type": "code",
      "source": [
        "\"\"\"print(dnnModel.summary())\n",
        "dnnModel.compile(loss=\"binary_crossentropy\", optimizer=\"adam\", metrics=[\"accuracy\"])\"\"\" #150/30"
      ],
      "metadata": {
        "colab": {
          "base_uri": "https://localhost:8080/"
        },
        "id": "fq6nTANXalNr",
        "outputId": "fc751cd9-4133-41b7-c440-89c492235733"
      },
      "execution_count": 107,
      "outputs": [
        {
          "output_type": "stream",
          "name": "stdout",
          "text": [
            "Model: \"sequential_6\"\n",
            "_________________________________________________________________\n",
            " Layer (type)                Output Shape              Param #   \n",
            "=================================================================\n",
            " dense_22 (Dense)            (None, 15)                2257935   \n",
            "                                                                 \n",
            " dense_23 (Dense)            (None, 7)                 112       \n",
            "                                                                 \n",
            " dense_24 (Dense)            (None, 1)                 8         \n",
            "                                                                 \n",
            "=================================================================\n",
            "Total params: 2,258,055\n",
            "Trainable params: 2,258,055\n",
            "Non-trainable params: 0\n",
            "_________________________________________________________________\n",
            "None\n"
          ]
        }
      ]
    },
    {
      "cell_type": "code",
      "source": [
        "fit6 = dnnModel.fit(X_train_sampled_reshaped, y_train_sampled, epochs=100)"
      ],
      "metadata": {
        "colab": {
          "base_uri": "https://localhost:8080/"
        },
        "id": "b3iyzK8Wc-YZ",
        "outputId": "60b9d883-3b56-4f28-ee35-ef849342d14d"
      },
      "execution_count": 108,
      "outputs": [
        {
          "output_type": "stream",
          "name": "stdout",
          "text": [
            "Epoch 1/100\n",
            "5/5 [==============================] - 1s 63ms/step - loss: 32.0986 - accuracy: 0.5533\n",
            "Epoch 2/100\n",
            "5/5 [==============================] - 0s 59ms/step - loss: 3.1482 - accuracy: 0.5133\n",
            "Epoch 3/100\n",
            "5/5 [==============================] - 0s 54ms/step - loss: 1.3632 - accuracy: 0.6200\n",
            "Epoch 4/100\n",
            "5/5 [==============================] - 0s 60ms/step - loss: 0.8814 - accuracy: 0.6200\n",
            "Epoch 5/100\n",
            "5/5 [==============================] - 0s 58ms/step - loss: 0.7865 - accuracy: 0.6867\n",
            "Epoch 6/100\n",
            "5/5 [==============================] - 0s 52ms/step - loss: 0.7127 - accuracy: 0.7000\n",
            "Epoch 7/100\n",
            "5/5 [==============================] - 0s 57ms/step - loss: 0.5173 - accuracy: 0.7800\n",
            "Epoch 8/100\n",
            "5/5 [==============================] - 0s 56ms/step - loss: 0.3993 - accuracy: 0.8400\n",
            "Epoch 9/100\n",
            "5/5 [==============================] - 0s 55ms/step - loss: 0.3753 - accuracy: 0.8333\n",
            "Epoch 10/100\n",
            "5/5 [==============================] - 0s 58ms/step - loss: 0.2637 - accuracy: 0.9200\n",
            "Epoch 11/100\n",
            "5/5 [==============================] - 0s 59ms/step - loss: 0.2664 - accuracy: 0.8733\n",
            "Epoch 12/100\n",
            "5/5 [==============================] - 0s 59ms/step - loss: 0.2425 - accuracy: 0.9267\n",
            "Epoch 13/100\n",
            "5/5 [==============================] - 0s 55ms/step - loss: 0.2106 - accuracy: 0.9200\n",
            "Epoch 14/100\n",
            "5/5 [==============================] - 0s 57ms/step - loss: 0.1982 - accuracy: 0.9333\n",
            "Epoch 15/100\n",
            "5/5 [==============================] - 0s 57ms/step - loss: 0.1856 - accuracy: 0.9400\n",
            "Epoch 16/100\n",
            "5/5 [==============================] - 0s 59ms/step - loss: 0.1832 - accuracy: 0.9333\n",
            "Epoch 17/100\n",
            "5/5 [==============================] - 0s 58ms/step - loss: 0.1620 - accuracy: 0.9667\n",
            "Epoch 18/100\n",
            "5/5 [==============================] - 0s 57ms/step - loss: 0.1604 - accuracy: 0.9600\n",
            "Epoch 19/100\n",
            "5/5 [==============================] - 0s 55ms/step - loss: 0.1545 - accuracy: 0.9533\n",
            "Epoch 20/100\n",
            "5/5 [==============================] - 0s 56ms/step - loss: 0.1520 - accuracy: 0.9667\n",
            "Epoch 21/100\n",
            "5/5 [==============================] - 0s 56ms/step - loss: 0.1463 - accuracy: 0.9467\n",
            "Epoch 22/100\n",
            "5/5 [==============================] - 0s 54ms/step - loss: 0.1467 - accuracy: 0.9667\n",
            "Epoch 23/100\n",
            "5/5 [==============================] - 0s 57ms/step - loss: 0.1358 - accuracy: 0.9667\n",
            "Epoch 24/100\n",
            "5/5 [==============================] - 0s 56ms/step - loss: 0.1291 - accuracy: 0.9667\n",
            "Epoch 25/100\n",
            "5/5 [==============================] - 0s 58ms/step - loss: 0.1183 - accuracy: 0.9733\n",
            "Epoch 26/100\n",
            "5/5 [==============================] - 0s 55ms/step - loss: 0.1179 - accuracy: 0.9733\n",
            "Epoch 27/100\n",
            "5/5 [==============================] - 0s 55ms/step - loss: 0.1146 - accuracy: 0.9733\n",
            "Epoch 28/100\n",
            "5/5 [==============================] - 0s 58ms/step - loss: 0.1092 - accuracy: 0.9800\n",
            "Epoch 29/100\n",
            "5/5 [==============================] - 0s 56ms/step - loss: 0.1100 - accuracy: 0.9733\n",
            "Epoch 30/100\n",
            "5/5 [==============================] - 0s 56ms/step - loss: 0.1056 - accuracy: 0.9667\n",
            "Epoch 31/100\n",
            "5/5 [==============================] - 0s 68ms/step - loss: 0.0987 - accuracy: 0.9800\n",
            "Epoch 32/100\n",
            "5/5 [==============================] - 0s 55ms/step - loss: 0.0979 - accuracy: 0.9733\n",
            "Epoch 33/100\n",
            "5/5 [==============================] - 0s 79ms/step - loss: 0.1079 - accuracy: 0.9667\n",
            "Epoch 34/100\n",
            "5/5 [==============================] - 0s 70ms/step - loss: 0.1295 - accuracy: 0.9800\n",
            "Epoch 35/100\n",
            "5/5 [==============================] - 0s 82ms/step - loss: 0.1175 - accuracy: 0.9667\n",
            "Epoch 36/100\n",
            "5/5 [==============================] - 0s 79ms/step - loss: 0.1008 - accuracy: 0.9733\n",
            "Epoch 37/100\n",
            "5/5 [==============================] - 0s 80ms/step - loss: 0.1026 - accuracy: 0.9733\n",
            "Epoch 38/100\n",
            "5/5 [==============================] - 0s 84ms/step - loss: 0.1030 - accuracy: 0.9733\n",
            "Epoch 39/100\n",
            "5/5 [==============================] - 0s 76ms/step - loss: 0.0892 - accuracy: 0.9867\n",
            "Epoch 40/100\n",
            "5/5 [==============================] - 0s 86ms/step - loss: 0.0791 - accuracy: 0.9867\n",
            "Epoch 41/100\n",
            "5/5 [==============================] - 0s 86ms/step - loss: 0.0728 - accuracy: 1.0000\n",
            "Epoch 42/100\n",
            "5/5 [==============================] - 0s 80ms/step - loss: 0.0820 - accuracy: 0.9800\n",
            "Epoch 43/100\n",
            "5/5 [==============================] - 0s 76ms/step - loss: 0.0842 - accuracy: 0.9867\n",
            "Epoch 44/100\n",
            "5/5 [==============================] - 0s 78ms/step - loss: 0.0728 - accuracy: 0.9867\n",
            "Epoch 45/100\n",
            "5/5 [==============================] - 0s 67ms/step - loss: 0.0610 - accuracy: 0.9933\n",
            "Epoch 46/100\n",
            "5/5 [==============================] - 0s 59ms/step - loss: 0.0638 - accuracy: 0.9933\n",
            "Epoch 47/100\n",
            "5/5 [==============================] - 0s 55ms/step - loss: 0.0568 - accuracy: 0.9867\n",
            "Epoch 48/100\n",
            "5/5 [==============================] - 0s 57ms/step - loss: 0.0544 - accuracy: 1.0000\n",
            "Epoch 49/100\n",
            "5/5 [==============================] - 0s 56ms/step - loss: 0.0538 - accuracy: 1.0000\n",
            "Epoch 50/100\n",
            "5/5 [==============================] - 0s 55ms/step - loss: 0.0510 - accuracy: 1.0000\n",
            "Epoch 51/100\n",
            "5/5 [==============================] - 0s 57ms/step - loss: 0.0512 - accuracy: 1.0000\n",
            "Epoch 52/100\n",
            "5/5 [==============================] - 0s 61ms/step - loss: 0.0517 - accuracy: 0.9933\n",
            "Epoch 53/100\n",
            "5/5 [==============================] - 0s 60ms/step - loss: 0.0470 - accuracy: 1.0000\n",
            "Epoch 54/100\n",
            "5/5 [==============================] - 0s 58ms/step - loss: 0.0519 - accuracy: 1.0000\n",
            "Epoch 55/100\n",
            "5/5 [==============================] - 0s 57ms/step - loss: 0.0544 - accuracy: 0.9933\n",
            "Epoch 56/100\n",
            "5/5 [==============================] - 0s 55ms/step - loss: 0.0622 - accuracy: 0.9800\n",
            "Epoch 57/100\n",
            "5/5 [==============================] - 0s 56ms/step - loss: 0.0483 - accuracy: 1.0000\n",
            "Epoch 58/100\n",
            "5/5 [==============================] - 0s 63ms/step - loss: 0.0502 - accuracy: 0.9933\n",
            "Epoch 59/100\n",
            "5/5 [==============================] - 0s 60ms/step - loss: 0.0499 - accuracy: 1.0000\n",
            "Epoch 60/100\n",
            "5/5 [==============================] - 0s 54ms/step - loss: 0.0450 - accuracy: 0.9933\n",
            "Epoch 61/100\n",
            "5/5 [==============================] - 0s 59ms/step - loss: 0.0418 - accuracy: 1.0000\n",
            "Epoch 62/100\n",
            "5/5 [==============================] - 0s 56ms/step - loss: 0.0386 - accuracy: 1.0000\n",
            "Epoch 63/100\n",
            "5/5 [==============================] - 0s 58ms/step - loss: 0.0376 - accuracy: 1.0000\n",
            "Epoch 64/100\n",
            "5/5 [==============================] - 0s 59ms/step - loss: 0.0361 - accuracy: 1.0000\n",
            "Epoch 65/100\n",
            "5/5 [==============================] - 0s 59ms/step - loss: 0.0338 - accuracy: 1.0000\n",
            "Epoch 66/100\n",
            "5/5 [==============================] - 0s 62ms/step - loss: 0.0338 - accuracy: 1.0000\n",
            "Epoch 67/100\n",
            "5/5 [==============================] - 0s 56ms/step - loss: 0.0359 - accuracy: 1.0000\n",
            "Epoch 68/100\n",
            "5/5 [==============================] - 0s 58ms/step - loss: 0.0378 - accuracy: 1.0000\n",
            "Epoch 69/100\n",
            "5/5 [==============================] - 0s 64ms/step - loss: 0.0396 - accuracy: 0.9933\n",
            "Epoch 70/100\n",
            "5/5 [==============================] - 0s 56ms/step - loss: 0.0324 - accuracy: 1.0000\n",
            "Epoch 71/100\n",
            "5/5 [==============================] - 0s 53ms/step - loss: 0.0331 - accuracy: 1.0000\n",
            "Epoch 72/100\n",
            "5/5 [==============================] - 0s 59ms/step - loss: 0.0285 - accuracy: 1.0000\n",
            "Epoch 73/100\n",
            "5/5 [==============================] - 0s 61ms/step - loss: 0.0291 - accuracy: 1.0000\n",
            "Epoch 74/100\n",
            "5/5 [==============================] - 0s 54ms/step - loss: 0.0279 - accuracy: 1.0000\n",
            "Epoch 75/100\n",
            "5/5 [==============================] - 0s 56ms/step - loss: 0.0259 - accuracy: 1.0000\n",
            "Epoch 76/100\n",
            "5/5 [==============================] - 0s 61ms/step - loss: 0.0270 - accuracy: 1.0000\n",
            "Epoch 77/100\n",
            "5/5 [==============================] - 0s 53ms/step - loss: 0.0263 - accuracy: 1.0000\n",
            "Epoch 78/100\n",
            "5/5 [==============================] - 0s 55ms/step - loss: 0.0251 - accuracy: 1.0000\n",
            "Epoch 79/100\n",
            "5/5 [==============================] - 0s 75ms/step - loss: 0.0250 - accuracy: 1.0000\n",
            "Epoch 80/100\n",
            "5/5 [==============================] - 0s 79ms/step - loss: 0.0242 - accuracy: 1.0000\n",
            "Epoch 81/100\n",
            "5/5 [==============================] - 0s 85ms/step - loss: 0.0224 - accuracy: 1.0000\n",
            "Epoch 82/100\n",
            "5/5 [==============================] - 0s 80ms/step - loss: 0.0268 - accuracy: 1.0000\n",
            "Epoch 83/100\n",
            "5/5 [==============================] - 0s 78ms/step - loss: 0.0313 - accuracy: 1.0000\n",
            "Epoch 84/100\n",
            "5/5 [==============================] - 0s 78ms/step - loss: 0.0334 - accuracy: 1.0000\n",
            "Epoch 85/100\n",
            "5/5 [==============================] - 0s 76ms/step - loss: 0.0256 - accuracy: 1.0000\n",
            "Epoch 86/100\n",
            "5/5 [==============================] - 0s 76ms/step - loss: 0.0222 - accuracy: 1.0000\n",
            "Epoch 87/100\n",
            "5/5 [==============================] - 0s 80ms/step - loss: 0.0208 - accuracy: 1.0000\n",
            "Epoch 88/100\n",
            "5/5 [==============================] - 0s 75ms/step - loss: 0.0220 - accuracy: 1.0000\n",
            "Epoch 89/100\n",
            "5/5 [==============================] - 0s 80ms/step - loss: 0.0256 - accuracy: 1.0000\n",
            "Epoch 90/100\n",
            "5/5 [==============================] - 0s 86ms/step - loss: 0.0238 - accuracy: 1.0000\n",
            "Epoch 91/100\n",
            "5/5 [==============================] - 0s 79ms/step - loss: 0.0232 - accuracy: 1.0000\n",
            "Epoch 92/100\n",
            "5/5 [==============================] - 0s 56ms/step - loss: 0.0215 - accuracy: 1.0000\n",
            "Epoch 93/100\n",
            "5/5 [==============================] - 0s 58ms/step - loss: 0.0208 - accuracy: 1.0000\n",
            "Epoch 94/100\n",
            "5/5 [==============================] - 0s 59ms/step - loss: 0.0188 - accuracy: 1.0000\n",
            "Epoch 95/100\n",
            "5/5 [==============================] - 0s 59ms/step - loss: 0.0177 - accuracy: 1.0000\n",
            "Epoch 96/100\n",
            "5/5 [==============================] - 0s 57ms/step - loss: 0.0170 - accuracy: 1.0000\n",
            "Epoch 97/100\n",
            "5/5 [==============================] - 0s 55ms/step - loss: 0.0163 - accuracy: 1.0000\n",
            "Epoch 98/100\n",
            "5/5 [==============================] - 0s 56ms/step - loss: 0.0162 - accuracy: 1.0000\n",
            "Epoch 99/100\n",
            "5/5 [==============================] - 0s 58ms/step - loss: 0.0163 - accuracy: 1.0000\n",
            "Epoch 100/100\n",
            "5/5 [==============================] - 0s 58ms/step - loss: 0.0158 - accuracy: 1.0000\n"
          ]
        }
      ]
    },
    {
      "cell_type": "code",
      "source": [
        "val_loss, val_accuracy = dnnModel.evaluate(X_val_sampled_reshaped, y_val_sampled)\n",
        "\n",
        "print(\"Validation Loss:\", val_loss)\n",
        "print(\"Validation Accuracy:\", val_accuracy)"
      ],
      "metadata": {
        "colab": {
          "base_uri": "https://localhost:8080/"
        },
        "id": "04-cwxAVc_A5",
        "outputId": "39748d9e-94ba-4a9b-fdfd-abdf684f63a9"
      },
      "execution_count": 109,
      "outputs": [
        {
          "output_type": "stream",
          "name": "stdout",
          "text": [
            "1/1 [==============================] - 1s 738ms/step - loss: 0.2440 - accuracy: 0.9000\n",
            "Validation Loss: 0.2440192550420761\n",
            "Validation Accuracy: 0.8999999761581421\n"
          ]
        }
      ]
    },
    {
      "cell_type": "code",
      "source": [
        "history_df = pd.DataFrame(fit6.history)\n",
        "history_df.index += 1 # Increase the index by 1 to match the number of epochs\n",
        "history_df.plot(y=\"accuracy\")\n",
        "plt.show()\n",
        "\n",
        "history_df.plot(y=\"loss\")\n",
        "plt.show()"
      ],
      "metadata": {
        "colab": {
          "base_uri": "https://localhost:8080/",
          "height": 843
        },
        "id": "4S1IgFCWdBgK",
        "outputId": "312a6f4e-b4ae-46dc-8b70-9ea9600f9301"
      },
      "execution_count": 111,
      "outputs": [
        {
          "output_type": "display_data",
          "data": {
            "text/plain": [
              "<Figure size 640x480 with 1 Axes>"
            ],
            "image/png": "[encoded data removed]"
          },
          "metadata": {}
        },
        {
          "output_type": "display_data",
          "data": {
            "text/plain": [
              "<Figure size 640x480 with 1 Axes>"
            ],
            "image/png": "[encoded data removed]"
          },
          "metadata": {}
        }
      ]
    },
    {
      "cell_type": "code",
      "source": [
        "fit6Predict = dnnModel.predict(X_val_sampled_reshaped)\n",
        "fit6PredictClass = (fit6Predict > 0.5).astype(int)\n",
        "print(\"Accuracy:\", accuracy_score(y_val_sampled, fit6PredictClass))\n",
        "print(\"Confusion Matrix:\")\n",
        "print(confusion_matrix(y_val_sampled, fit6PredictClass))\n",
        "print(\"Classification Report:\")\n",
        "print(classification_report(y_val_sampled, fit6PredictClass))\n",
        "fit6TP = []\n",
        "fit6FN = []\n",
        "fit6FP = []\n",
        "fit6TN = []\n",
        "cm = confusion_matrix(y_val_sampled, fit6PredictClass)\n",
        "fit6TP.append(cm[1][1]/(cm[1][1]+cm[1][0]))\n",
        "fit6FN.append(cm[1][0]/(cm[1][1]+cm[1][0]))\n",
        "fit6FP.append(cm[0][1]/(cm[1][1]+cm[0][1]))\n",
        "fit6TN.append(cm[0][0]/(cm[0][0]+cm[0][1]))\n",
        "\n",
        "fit6Summary = pd.DataFrame({\"acuuracy1\": val_accuracy, \"loss:\": val_loss, \"true_positive\": fit6TP, \"false_negative\": fit6FN, \"false_positive\": fit6FP, \"true_negative\": fit6TN})\n",
        "fit6Summary"
      ],
      "metadata": {
        "colab": {
          "base_uri": "https://localhost:8080/",
          "height": 349
        },
        "id": "puAgT-qydXEX",
        "outputId": "5809f247-d798-4e5e-97c9-9d33956e798b"
      },
      "execution_count": 112,
      "outputs": [
        {
          "output_type": "stream",
          "name": "stdout",
          "text": [
            "1/1 [==============================] - 0s 112ms/step\n",
            "Accuracy: 0.9\n",
            "Confusion Matrix:\n",
            "[[ 7  2]\n",
            " [ 1 20]]\n",
            "Classification Report:\n",
            "              precision    recall  f1-score   support\n",
            "\n",
            "           0       0.88      0.78      0.82         9\n",
            "           1       0.91      0.95      0.93        21\n",
            "\n",
            "    accuracy                           0.90        30\n",
            "   macro avg       0.89      0.87      0.88        30\n",
            "weighted avg       0.90      0.90      0.90        30\n",
            "\n"
          ]
        },
        {
          "output_type": "execute_result",
          "data": {
            "text/plain": [
              "   acuuracy1     loss:  true_positive  false_negative  false_positive  \\\n",
              "0        0.9  0.244019       0.952381        0.047619        0.090909   \n",
              "\n",
              "   true_negative  \n",
              "0       0.777778  "
            ],
            "text/html": [
              "\n",
              "  <div id=\"df-27121438-70b3-48df-b7a2-b3f8725c2b86\" class=\"colab-df-container\">\n",
              "    <div>\n",
              "<style scoped>\n",
              "    .dataframe tbody tr th:only-of-type {\n",
              "        vertical-align: middle;\n",
              "    }\n",
              "\n",
              "    .dataframe tbody tr th {\n",
              "        vertical-align: top;\n",
              "    }\n",
              "\n",
              "    .dataframe thead th {\n",
              "        text-align: right;\n",
              "    }\n",
              "</style>\n",
              "<table border=\"1\" class=\"dataframe\">\n",
              "  <thead>\n",
              "    <tr style=\"text-align: right;\">\n",
              "      <th></th>\n",
              "      <th>acuuracy1</th>\n",
              "      <th>loss:</th>\n",
              "      <th>true_positive</th>\n",
              "      <th>false_negative</th>\n",
              "      <th>false_positive</th>\n",
              "      <th>true_negative</th>\n",
              "    </tr>\n",
              "  </thead>\n",
              "  <tbody>\n",
              "    <tr>\n",
              "      <th>0</th>\n",
              "      <td>0.9</td>\n",
              "      <td>0.244019</td>\n",
              "      <td>0.952381</td>\n",
              "      <td>0.047619</td>\n",
              "      <td>0.090909</td>\n",
              "      <td>0.777778</td>\n",
              "    </tr>\n",
              "  </tbody>\n",
              "</table>\n",
              "</div>\n",
              "    <div class=\"colab-df-buttons\">\n",
              "\n",
              "  <div class=\"colab-df-container\">\n",
              "    <button class=\"colab-df-convert\" onclick=\"convertToInteractive('df-27121438-70b3-48df-b7a2-b3f8725c2b86')\"\n",
              "            title=\"Convert this dataframe to an interactive table.\"\n",
              "            style=\"display:none;\">\n",
              "\n",
              "  <svg xmlns=\"http://www.w3.org/2000/svg\" height=\"24px\" viewBox=\"0 -960 960 960\">\n",
              "    <path d=\"M120-120v-720h720v720H120Zm60-500h600v-160H180v160Zm220 220h160v-160H400v160Zm0 220h160v-160H400v160ZM180-400h160v-160H180v160Zm440 0h160v-160H620v160ZM180-180h160v-160H180v160Zm440 0h160v-160H620v160Z\"/>\n",
              "  </svg>\n",
              "    </button>\n",
              "\n",
              "  <style>\n",
              "    .colab-df-container {\n",
              "      display:flex;\n",
              "      gap: 12px;\n",
              "    }\n",
              "\n",
              "    .colab-df-convert {\n",
              "      background-color: #E8F0FE;\n",
              "      border: none;\n",
              "      border-radius: 50%;\n",
              "      cursor: pointer;\n",
              "      display: none;\n",
              "      fill: #1967D2;\n",
              "      height: 32px;\n",
              "      padding: 0 0 0 0;\n",
              "      width: 32px;\n",
              "    }\n",
              "\n",
              "    .colab-df-convert:hover {\n",
              "      background-color: #E2EBFA;\n",
              "      box-shadow: 0px 1px 2px rgba(60, 64, 67, 0.3), 0px 1px 3px 1px rgba(60, 64, 67, 0.15);\n",
              "      fill: #174EA6;\n",
              "    }\n",
              "\n",
              "    .colab-df-buttons div {\n",
              "      margin-bottom: 4px;\n",
              "    }\n",
              "\n",
              "    [theme=dark] .colab-df-convert {\n",
              "      background-color: #3B4455;\n",
              "      fill: #D2E3FC;\n",
              "    }\n",
              "\n",
              "    [theme=dark] .colab-df-convert:hover {\n",
              "      background-color: #434B5C;\n",
              "      box-shadow: 0px 1px 3px 1px rgba(0, 0, 0, 0.15);\n",
              "      filter: drop-shadow(0px 1px 2px rgba(0, 0, 0, 0.3));\n",
              "      fill: #FFFFFF;\n",
              "    }\n",
              "  </style>\n",
              "\n",
              "    <script>\n",
              "      const buttonEl =\n",
              "        document.querySelector('#df-27121438-70b3-48df-b7a2-b3f8725c2b86 button.colab-df-convert');\n",
              "      buttonEl.style.display =\n",
              "        google.colab.kernel.accessAllowed ? 'block' : 'none';\n",
              "\n",
              "      async function convertToInteractive(key) {\n",
              "        const element = document.querySelector('#df-27121438-70b3-48df-b7a2-b3f8725c2b86');\n",
              "        const dataTable =\n",
              "          await google.colab.kernel.invokeFunction('convertToInteractive',\n",
              "                                                    [key], {});\n",
              "        if (!dataTable) return;\n",
              "\n",
              "        const docLinkHtml = 'Like what you see? Visit the ' +\n",
              "          '<a target=\"_blank\" href=https://colab.research.google.com/notebooks/data_table.ipynb>data table notebook</a>'\n",
              "          + ' to learn more about interactive tables.';\n",
              "        element.innerHTML = '';\n",
              "        dataTable['output_type'] = 'display_data';\n",
              "        await google.colab.output.renderOutput(dataTable, element);\n",
              "        const docLink = document.createElement('div');\n",
              "        docLink.innerHTML = docLinkHtml;\n",
              "        element.appendChild(docLink);\n",
              "      }\n",
              "    </script>\n",
              "  </div>\n",
              "\n",
              "    </div>\n",
              "  </div>\n"
            ]
          },
          "metadata": {},
          "execution_count": 112
        }
      ]
    },
    {
      "cell_type": "code",
      "source": [
        "\"\"\"print(dnnModel.summary())\n",
        "dnnModel.compile(loss=\"binary_crossentropy\", optimizer=\"adam\", metrics=[\"accuracy\"])\"\"\" #train/val: 80/16"
      ],
      "metadata": {
        "colab": {
          "base_uri": "https://localhost:8080/"
        },
        "id": "llXxcjelXoro",
        "outputId": "b3d41715-257e-4927-d260-ff37a833d62a"
      },
      "execution_count": 97,
      "outputs": [
        {
          "output_type": "stream",
          "name": "stdout",
          "text": [
            "Model: \"sequential_5\"\n",
            "_________________________________________________________________\n",
            " Layer (type)                Output Shape              Param #   \n",
            "=================================================================\n",
            " dense_19 (Dense)            (None, 10)                1505290   \n",
            "                                                                 \n",
            " dense_20 (Dense)            (None, 5)                 55        \n",
            "                                                                 \n",
            " dense_21 (Dense)            (None, 1)                 6         \n",
            "                                                                 \n",
            "=================================================================\n",
            "Total params: 1,505,351\n",
            "Trainable params: 1,505,351\n",
            "Non-trainable params: 0\n",
            "_________________________________________________________________\n",
            "None\n"
          ]
        }
      ]
    },
    {
      "cell_type": "code",
      "source": [
        "fit5 = dnnModel.fit(X_train_sampled_reshaped, y_train_sampled, epochs=100)"
      ],
      "metadata": {
        "colab": {
          "base_uri": "https://localhost:8080/"
        },
        "id": "WiBmRv4mXva_",
        "outputId": "62ae89f2-77f9-463b-e568-978293cd00a6"
      },
      "execution_count": 98,
      "outputs": [
        {
          "output_type": "stream",
          "name": "stdout",
          "text": [
            "Epoch 1/100\n",
            "5/5 [==============================] - 2s 85ms/step - loss: 25.7459 - accuracy: 0.5267\n",
            "Epoch 2/100\n",
            "5/5 [==============================] - 0s 78ms/step - loss: 7.3819 - accuracy: 0.5200\n",
            "Epoch 3/100\n",
            "5/5 [==============================] - 0s 83ms/step - loss: 3.4776 - accuracy: 0.5267\n",
            "Epoch 4/100\n",
            "5/5 [==============================] - 0s 87ms/step - loss: 1.0900 - accuracy: 0.6400\n",
            "Epoch 5/100\n",
            "5/5 [==============================] - 0s 77ms/step - loss: 0.5810 - accuracy: 0.8067\n",
            "Epoch 6/100\n",
            "5/5 [==============================] - 0s 74ms/step - loss: 0.4790 - accuracy: 0.8000\n",
            "Epoch 7/100\n",
            "5/5 [==============================] - 0s 67ms/step - loss: 0.4939 - accuracy: 0.8333\n",
            "Epoch 8/100\n",
            "5/5 [==============================] - 0s 64ms/step - loss: 0.4047 - accuracy: 0.8333\n",
            "Epoch 9/100\n",
            "5/5 [==============================] - 0s 62ms/step - loss: 0.3674 - accuracy: 0.8600\n",
            "Epoch 10/100\n",
            "5/5 [==============================] - 0s 64ms/step - loss: 0.2624 - accuracy: 0.9000\n",
            "Epoch 11/100\n",
            "5/5 [==============================] - 0s 71ms/step - loss: 0.1966 - accuracy: 0.9333\n",
            "Epoch 12/100\n",
            "5/5 [==============================] - 0s 68ms/step - loss: 0.1655 - accuracy: 0.9600\n",
            "Epoch 13/100\n",
            "5/5 [==============================] - 0s 60ms/step - loss: 0.1492 - accuracy: 0.9400\n",
            "Epoch 14/100\n",
            "5/5 [==============================] - 0s 46ms/step - loss: 0.1472 - accuracy: 0.9467\n",
            "Epoch 15/100\n",
            "5/5 [==============================] - 0s 48ms/step - loss: 0.1192 - accuracy: 0.9600\n",
            "Epoch 16/100\n",
            "5/5 [==============================] - 0s 49ms/step - loss: 0.1278 - accuracy: 0.9600\n",
            "Epoch 17/100\n",
            "5/5 [==============================] - 0s 45ms/step - loss: 0.1182 - accuracy: 0.9467\n",
            "Epoch 18/100\n",
            "5/5 [==============================] - 0s 45ms/step - loss: 0.1058 - accuracy: 0.9733\n",
            "Epoch 19/100\n",
            "5/5 [==============================] - 0s 45ms/step - loss: 0.1004 - accuracy: 0.9733\n",
            "Epoch 20/100\n",
            "5/5 [==============================] - 0s 54ms/step - loss: 0.0861 - accuracy: 0.9867\n",
            "Epoch 21/100\n",
            "5/5 [==============================] - 0s 49ms/step - loss: 0.0885 - accuracy: 0.9733\n",
            "Epoch 22/100\n",
            "5/5 [==============================] - 0s 45ms/step - loss: 0.0823 - accuracy: 0.9867\n",
            "Epoch 23/100\n",
            "5/5 [==============================] - 0s 46ms/step - loss: 0.1125 - accuracy: 0.9667\n",
            "Epoch 24/100\n",
            "5/5 [==============================] - 0s 46ms/step - loss: 0.0877 - accuracy: 0.9800\n",
            "Epoch 25/100\n",
            "5/5 [==============================] - 0s 49ms/step - loss: 0.0853 - accuracy: 0.9733\n",
            "Epoch 26/100\n",
            "5/5 [==============================] - 0s 48ms/step - loss: 0.0770 - accuracy: 0.9800\n",
            "Epoch 27/100\n",
            "5/5 [==============================] - 0s 47ms/step - loss: 0.0650 - accuracy: 1.0000\n",
            "Epoch 28/100\n",
            "5/5 [==============================] - 0s 48ms/step - loss: 0.0705 - accuracy: 0.9800\n",
            "Epoch 29/100\n",
            "5/5 [==============================] - 0s 49ms/step - loss: 0.0876 - accuracy: 0.9867\n",
            "Epoch 30/100\n",
            "5/5 [==============================] - 0s 44ms/step - loss: 0.0639 - accuracy: 0.9867\n",
            "Epoch 31/100\n",
            "5/5 [==============================] - 0s 53ms/step - loss: 0.0654 - accuracy: 0.9933\n",
            "Epoch 32/100\n",
            "5/5 [==============================] - 0s 46ms/step - loss: 0.0574 - accuracy: 0.9867\n",
            "Epoch 33/100\n",
            "5/5 [==============================] - 0s 44ms/step - loss: 0.0669 - accuracy: 0.9800\n",
            "Epoch 34/100\n",
            "5/5 [==============================] - 0s 45ms/step - loss: 0.0665 - accuracy: 0.9867\n",
            "Epoch 35/100\n",
            "5/5 [==============================] - 0s 49ms/step - loss: 0.0764 - accuracy: 0.9733\n",
            "Epoch 36/100\n",
            "5/5 [==============================] - 0s 48ms/step - loss: 0.0557 - accuracy: 0.9867\n",
            "Epoch 37/100\n",
            "5/5 [==============================] - 0s 44ms/step - loss: 0.0572 - accuracy: 0.9733\n",
            "Epoch 38/100\n",
            "5/5 [==============================] - 0s 48ms/step - loss: 0.0457 - accuracy: 1.0000\n",
            "Epoch 39/100\n",
            "5/5 [==============================] - 0s 45ms/step - loss: 0.0508 - accuracy: 0.9933\n",
            "Epoch 40/100\n",
            "5/5 [==============================] - 0s 47ms/step - loss: 0.0641 - accuracy: 0.9800\n",
            "Epoch 41/100\n",
            "5/5 [==============================] - 0s 44ms/step - loss: 0.0513 - accuracy: 0.9933\n",
            "Epoch 42/100\n",
            "5/5 [==============================] - 0s 49ms/step - loss: 0.0351 - accuracy: 1.0000\n",
            "Epoch 43/100\n",
            "5/5 [==============================] - 0s 69ms/step - loss: 0.0399 - accuracy: 1.0000\n",
            "Epoch 44/100\n",
            "5/5 [==============================] - 0s 67ms/step - loss: 0.0347 - accuracy: 1.0000\n",
            "Epoch 45/100\n",
            "5/5 [==============================] - 0s 75ms/step - loss: 0.0383 - accuracy: 1.0000\n",
            "Epoch 46/100\n",
            "5/5 [==============================] - 0s 72ms/step - loss: 0.0372 - accuracy: 1.0000\n",
            "Epoch 47/100\n",
            "5/5 [==============================] - 0s 66ms/step - loss: 0.0332 - accuracy: 1.0000\n",
            "Epoch 48/100\n",
            "5/5 [==============================] - 0s 67ms/step - loss: 0.0334 - accuracy: 1.0000\n",
            "Epoch 49/100\n",
            "5/5 [==============================] - 0s 66ms/step - loss: 0.0289 - accuracy: 1.0000\n",
            "Epoch 50/100\n",
            "5/5 [==============================] - 0s 68ms/step - loss: 0.0298 - accuracy: 1.0000\n",
            "Epoch 51/100\n",
            "5/5 [==============================] - 0s 68ms/step - loss: 0.0326 - accuracy: 1.0000\n",
            "Epoch 52/100\n",
            "5/5 [==============================] - 0s 69ms/step - loss: 0.0323 - accuracy: 1.0000\n",
            "Epoch 53/100\n",
            "5/5 [==============================] - 0s 76ms/step - loss: 0.0271 - accuracy: 1.0000\n",
            "Epoch 54/100\n",
            "5/5 [==============================] - 0s 70ms/step - loss: 0.0257 - accuracy: 1.0000\n",
            "Epoch 55/100\n",
            "5/5 [==============================] - 0s 78ms/step - loss: 0.0242 - accuracy: 1.0000\n",
            "Epoch 56/100\n",
            "5/5 [==============================] - 0s 68ms/step - loss: 0.0243 - accuracy: 1.0000\n",
            "Epoch 57/100\n",
            "5/5 [==============================] - 0s 68ms/step - loss: 0.0234 - accuracy: 1.0000\n",
            "Epoch 58/100\n",
            "5/5 [==============================] - 0s 45ms/step - loss: 0.0228 - accuracy: 1.0000\n",
            "Epoch 59/100\n",
            "5/5 [==============================] - 0s 46ms/step - loss: 0.0229 - accuracy: 1.0000\n",
            "Epoch 60/100\n",
            "5/5 [==============================] - 0s 44ms/step - loss: 0.0240 - accuracy: 1.0000\n",
            "Epoch 61/100\n",
            "5/5 [==============================] - 0s 47ms/step - loss: 0.0221 - accuracy: 1.0000\n",
            "Epoch 62/100\n",
            "5/5 [==============================] - 0s 46ms/step - loss: 0.0212 - accuracy: 1.0000\n",
            "Epoch 63/100\n",
            "5/5 [==============================] - 0s 51ms/step - loss: 0.0207 - accuracy: 1.0000\n",
            "Epoch 64/100\n",
            "5/5 [==============================] - 0s 56ms/step - loss: 0.0200 - accuracy: 1.0000\n",
            "Epoch 65/100\n",
            "5/5 [==============================] - 0s 47ms/step - loss: 0.0195 - accuracy: 1.0000\n",
            "Epoch 66/100\n",
            "5/5 [==============================] - 0s 47ms/step - loss: 0.0192 - accuracy: 1.0000\n",
            "Epoch 67/100\n",
            "5/5 [==============================] - 0s 49ms/step - loss: 0.0185 - accuracy: 1.0000\n",
            "Epoch 68/100\n",
            "5/5 [==============================] - 0s 52ms/step - loss: 0.0185 - accuracy: 1.0000\n",
            "Epoch 69/100\n",
            "5/5 [==============================] - 0s 49ms/step - loss: 0.0202 - accuracy: 1.0000\n",
            "Epoch 70/100\n",
            "5/5 [==============================] - 0s 44ms/step - loss: 0.0200 - accuracy: 1.0000\n",
            "Epoch 71/100\n",
            "5/5 [==============================] - 0s 52ms/step - loss: 0.0203 - accuracy: 1.0000\n",
            "Epoch 72/100\n",
            "5/5 [==============================] - 0s 47ms/step - loss: 0.0198 - accuracy: 1.0000\n",
            "Epoch 73/100\n",
            "5/5 [==============================] - 0s 48ms/step - loss: 0.0159 - accuracy: 1.0000\n",
            "Epoch 74/100\n",
            "5/5 [==============================] - 0s 46ms/step - loss: 0.0166 - accuracy: 1.0000\n",
            "Epoch 75/100\n",
            "5/5 [==============================] - 0s 47ms/step - loss: 0.0161 - accuracy: 1.0000\n",
            "Epoch 76/100\n",
            "5/5 [==============================] - 0s 45ms/step - loss: 0.0158 - accuracy: 1.0000\n",
            "Epoch 77/100\n",
            "5/5 [==============================] - 0s 44ms/step - loss: 0.0151 - accuracy: 1.0000\n",
            "Epoch 78/100\n",
            "5/5 [==============================] - 0s 48ms/step - loss: 0.0178 - accuracy: 1.0000\n",
            "Epoch 79/100\n",
            "5/5 [==============================] - 0s 49ms/step - loss: 0.0167 - accuracy: 1.0000\n",
            "Epoch 80/100\n",
            "5/5 [==============================] - 0s 49ms/step - loss: 0.0144 - accuracy: 1.0000\n",
            "Epoch 81/100\n",
            "5/5 [==============================] - 0s 44ms/step - loss: 0.0138 - accuracy: 1.0000\n",
            "Epoch 82/100\n",
            "5/5 [==============================] - 0s 48ms/step - loss: 0.0137 - accuracy: 1.0000\n",
            "Epoch 83/100\n",
            "5/5 [==============================] - 0s 48ms/step - loss: 0.0135 - accuracy: 1.0000\n",
            "Epoch 84/100\n",
            "5/5 [==============================] - 0s 49ms/step - loss: 0.0141 - accuracy: 1.0000\n",
            "Epoch 85/100\n",
            "5/5 [==============================] - 0s 56ms/step - loss: 0.0151 - accuracy: 1.0000\n",
            "Epoch 86/100\n",
            "5/5 [==============================] - 0s 45ms/step - loss: 0.0129 - accuracy: 1.0000\n",
            "Epoch 87/100\n",
            "5/5 [==============================] - 0s 46ms/step - loss: 0.0125 - accuracy: 1.0000\n",
            "Epoch 88/100\n",
            "5/5 [==============================] - 0s 47ms/step - loss: 0.0134 - accuracy: 1.0000\n",
            "Epoch 89/100\n",
            "5/5 [==============================] - 0s 47ms/step - loss: 0.0119 - accuracy: 1.0000\n",
            "Epoch 90/100\n",
            "5/5 [==============================] - 0s 46ms/step - loss: 0.0124 - accuracy: 1.0000\n",
            "Epoch 91/100\n",
            "5/5 [==============================] - 0s 48ms/step - loss: 0.0120 - accuracy: 1.0000\n",
            "Epoch 92/100\n",
            "5/5 [==============================] - 0s 48ms/step - loss: 0.0113 - accuracy: 1.0000\n",
            "Epoch 93/100\n",
            "5/5 [==============================] - 0s 42ms/step - loss: 0.0115 - accuracy: 1.0000\n",
            "Epoch 94/100\n",
            "5/5 [==============================] - 0s 44ms/step - loss: 0.0110 - accuracy: 1.0000\n",
            "Epoch 95/100\n",
            "5/5 [==============================] - 0s 45ms/step - loss: 0.0110 - accuracy: 1.0000\n",
            "Epoch 96/100\n",
            "5/5 [==============================] - 0s 45ms/step - loss: 0.0108 - accuracy: 1.0000\n",
            "Epoch 97/100\n",
            "5/5 [==============================] - 0s 50ms/step - loss: 0.0104 - accuracy: 1.0000\n",
            "Epoch 98/100\n",
            "5/5 [==============================] - 0s 64ms/step - loss: 0.0104 - accuracy: 1.0000\n",
            "Epoch 99/100\n",
            "5/5 [==============================] - 0s 68ms/step - loss: 0.0101 - accuracy: 1.0000\n",
            "Epoch 100/100\n",
            "5/5 [==============================] - 0s 67ms/step - loss: 0.0101 - accuracy: 1.0000\n"
          ]
        }
      ]
    },
    {
      "cell_type": "code",
      "source": [
        "val_loss, val_accuracy = dnnModel.evaluate(X_val_sampled_reshaped, y_val_sampled)\n",
        "\n",
        "print(\"Validation Loss:\", val_loss)\n",
        "print(\"Validation Accuracy:\", val_accuracy)"
      ],
      "metadata": {
        "colab": {
          "base_uri": "https://localhost:8080/"
        },
        "id": "hbUID8wJX7bC",
        "outputId": "a6ec4792-93d8-40f1-c2c0-2af33b23d516"
      },
      "execution_count": 99,
      "outputs": [
        {
          "output_type": "stream",
          "name": "stderr",
          "text": [
            "WARNING:tensorflow:6 out of the last 7 calls to <function Model.make_test_function.<locals>.test_function at 0x7814ff3b6a70> triggered tf.function retracing. Tracing is expensive and the excessive number of tracings could be due to (1) creating @tf.function repeatedly in a loop, (2) passing tensors with different shapes, (3) passing Python objects instead of tensors. For (1), please define your @tf.function outside of the loop. For (2), @tf.function has reduce_retracing=True option that can avoid unnecessary retracing. For (3), please refer to https://www.tensorflow.org/guide/function#controlling_retracing and https://www.tensorflow.org/api_docs/python/tf/function for  more details.\n"
          ]
        },
        {
          "output_type": "stream",
          "name": "stdout",
          "text": [
            "1/1 [==============================] - 0s 273ms/step - loss: 0.2557 - accuracy: 0.8667\n",
            "Validation Loss: 0.2557065188884735\n",
            "Validation Accuracy: 0.8666666746139526\n"
          ]
        }
      ]
    },
    {
      "cell_type": "code",
      "source": [
        "history_df = pd.DataFrame(fit5.history)\n",
        "history_df.index += 1 # Increase the index by 1 to match the number of epochs\n",
        "history_df.plot(y=\"accuracy\")\n",
        "plt.show()"
      ],
      "metadata": {
        "colab": {
          "base_uri": "https://localhost:8080/",
          "height": 430
        },
        "id": "sXFdI1yvaxnm",
        "outputId": "eaae746a-9226-4fd1-e50f-a9f6185d3003"
      },
      "execution_count": 100,
      "outputs": [
        {
          "output_type": "display_data",
          "data": {
            "text/plain": [
              "<Figure size 640x480 with 1 Axes>"
            ],
            "image/png": "[encoded data removed]"
          },
          "metadata": {}
        }
      ]
    },
    {
      "cell_type": "code",
      "source": [
        "history_df.plot(y=\"loss\")\n",
        "plt.show()"
      ],
      "metadata": {
        "colab": {
          "base_uri": "https://localhost:8080/",
          "height": 430
        },
        "id": "LCAemPfma02P",
        "outputId": "e7c24a9d-7466-4e92-9a2d-7d2c543bb614"
      },
      "execution_count": 101,
      "outputs": [
        {
          "output_type": "display_data",
          "data": {
            "text/plain": [
              "<Figure size 640x480 with 1 Axes>"
            ],
            "image/png": "[encoded data removed]"
          },
          "metadata": {}
        }
      ]
    },
    {
      "cell_type": "code",
      "source": [
        "fit5Predict = dnnModel.predict(X_val_sampled_reshaped)\n",
        "fit5PredictClass = (fit5Predict > 0.5).astype(int)\n",
        "print(\"Accuracy:\", accuracy_score(y_val_sampled, fit5PredictClass))\n",
        "print(\"Confusion Matrix:\")\n",
        "print(confusion_matrix(y_val_sampled, fit5PredictClass))\n",
        "print(\"Classification Report:\")\n",
        "print(classification_report(y_val_sampled, fit5PredictClass))\n",
        "fit5TP = []\n",
        "fit5FN = []\n",
        "fit5FP = []\n",
        "fit5TN = []\n",
        "cm = confusion_matrix(y_val_sampled, fit5PredictClass)\n",
        "fit5TP.append(cm[1][1]/(cm[1][1]+cm[1][0]))\n",
        "fit5FN.append(cm[1][0]/(cm[1][1]+cm[1][0]))\n",
        "fit5FP.append(cm[0][1]/(cm[1][1]+cm[0][1]))\n",
        "fit5TN.append(cm[0][0]/(cm[0][0]+cm[0][1]))"
      ],
      "metadata": {
        "colab": {
          "base_uri": "https://localhost:8080/"
        },
        "id": "w8Og4AN_a6vg",
        "outputId": "b474772f-bec7-465e-cc75-49758cba8e36"
      },
      "execution_count": 102,
      "outputs": [
        {
          "output_type": "stream",
          "name": "stdout",
          "text": [
            "1/1 [==============================] - 0s 140ms/step\n",
            "Accuracy: 0.8666666666666667\n",
            "Confusion Matrix:\n",
            "[[ 7  2]\n",
            " [ 2 19]]\n",
            "Classification Report:\n",
            "              precision    recall  f1-score   support\n",
            "\n",
            "           0       0.78      0.78      0.78         9\n",
            "           1       0.90      0.90      0.90        21\n",
            "\n",
            "    accuracy                           0.87        30\n",
            "   macro avg       0.84      0.84      0.84        30\n",
            "weighted avg       0.87      0.87      0.87        30\n",
            "\n"
          ]
        }
      ]
    },
    {
      "cell_type": "code",
      "source": [
        "fit5Summary = pd.DataFrame({\"acuuracy1\": val_accuracy, \"loss:\": val_loss, \"true_positive\": fit5TP, \"false_negative\": fit5FN, \"false_positive\": fit5FP, \"true_negative\": fit5TN})\n",
        "fit5Summary"
      ],
      "metadata": {
        "colab": {
          "base_uri": "https://localhost:8080/",
          "height": 81
        },
        "id": "vI1T19_lbHN-",
        "outputId": "d68fc4e8-e81c-4084-ec7d-bece53db2dc7"
      },
      "execution_count": 104,
      "outputs": [
        {
          "output_type": "execute_result",
          "data": {
            "text/plain": [
              "   acuuracy1     loss:  true_positive  false_negative  false_positive  \\\n",
              "0   0.866667  0.255707       0.904762        0.095238        0.095238   \n",
              "\n",
              "   true_negative  \n",
              "0       0.777778  "
            ],
            "text/html": [
              "\n",
              "  <div id=\"df-e51bae33-b401-4842-a4e1-6876cd4e3007\" class=\"colab-df-container\">\n",
              "    <div>\n",
              "<style scoped>\n",
              "    .dataframe tbody tr th:only-of-type {\n",
              "        vertical-align: middle;\n",
              "    }\n",
              "\n",
              "    .dataframe tbody tr th {\n",
              "        vertical-align: top;\n",
              "    }\n",
              "\n",
              "    .dataframe thead th {\n",
              "        text-align: right;\n",
              "    }\n",
              "</style>\n",
              "<table border=\"1\" class=\"dataframe\">\n",
              "  <thead>\n",
              "    <tr style=\"text-align: right;\">\n",
              "      <th></th>\n",
              "      <th>acuuracy1</th>\n",
              "      <th>loss:</th>\n",
              "      <th>true_positive</th>\n",
              "      <th>false_negative</th>\n",
              "      <th>false_positive</th>\n",
              "      <th>true_negative</th>\n",
              "    </tr>\n",
              "  </thead>\n",
              "  <tbody>\n",
              "    <tr>\n",
              "      <th>0</th>\n",
              "      <td>0.866667</td>\n",
              "      <td>0.255707</td>\n",
              "      <td>0.904762</td>\n",
              "      <td>0.095238</td>\n",
              "      <td>0.095238</td>\n",
              "      <td>0.777778</td>\n",
              "    </tr>\n",
              "  </tbody>\n",
              "</table>\n",
              "</div>\n",
              "    <div class=\"colab-df-buttons\">\n",
              "\n",
              "  <div class=\"colab-df-container\">\n",
              "    <button class=\"colab-df-convert\" onclick=\"convertToInteractive('df-e51bae33-b401-4842-a4e1-6876cd4e3007')\"\n",
              "            title=\"Convert this dataframe to an interactive table.\"\n",
              "            style=\"display:none;\">\n",
              "\n",
              "  <svg xmlns=\"http://www.w3.org/2000/svg\" height=\"24px\" viewBox=\"0 -960 960 960\">\n",
              "    <path d=\"M120-120v-720h720v720H120Zm60-500h600v-160H180v160Zm220 220h160v-160H400v160Zm0 220h160v-160H400v160ZM180-400h160v-160H180v160Zm440 0h160v-160H620v160ZM180-180h160v-160H180v160Zm440 0h160v-160H620v160Z\"/>\n",
              "  </svg>\n",
              "    </button>\n",
              "\n",
              "  <style>\n",
              "    .colab-df-container {\n",
              "      display:flex;\n",
              "      gap: 12px;\n",
              "    }\n",
              "\n",
              "    .colab-df-convert {\n",
              "      background-color: #E8F0FE;\n",
              "      border: none;\n",
              "      border-radius: 50%;\n",
              "      cursor: pointer;\n",
              "      display: none;\n",
              "      fill: #1967D2;\n",
              "      height: 32px;\n",
              "      padding: 0 0 0 0;\n",
              "      width: 32px;\n",
              "    }\n",
              "\n",
              "    .colab-df-convert:hover {\n",
              "      background-color: #E2EBFA;\n",
              "      box-shadow: 0px 1px 2px rgba(60, 64, 67, 0.3), 0px 1px 3px 1px rgba(60, 64, 67, 0.15);\n",
              "      fill: #174EA6;\n",
              "    }\n",
              "\n",
              "    .colab-df-buttons div {\n",
              "      margin-bottom: 4px;\n",
              "    }\n",
              "\n",
              "    [theme=dark] .colab-df-convert {\n",
              "      background-color: #3B4455;\n",
              "      fill: #D2E3FC;\n",
              "    }\n",
              "\n",
              "    [theme=dark] .colab-df-convert:hover {\n",
              "      background-color: #434B5C;\n",
              "      box-shadow: 0px 1px 3px 1px rgba(0, 0, 0, 0.15);\n",
              "      filter: drop-shadow(0px 1px 2px rgba(0, 0, 0, 0.3));\n",
              "      fill: #FFFFFF;\n",
              "    }\n",
              "  </style>\n",
              "\n",
              "    <script>\n",
              "      const buttonEl =\n",
              "        document.querySelector('#df-e51bae33-b401-4842-a4e1-6876cd4e3007 button.colab-df-convert');\n",
              "      buttonEl.style.display =\n",
              "        google.colab.kernel.accessAllowed ? 'block' : 'none';\n",
              "\n",
              "      async function convertToInteractive(key) {\n",
              "        const element = document.querySelector('#df-e51bae33-b401-4842-a4e1-6876cd4e3007');\n",
              "        const dataTable =\n",
              "          await google.colab.kernel.invokeFunction('convertToInteractive',\n",
              "                                                    [key], {});\n",
              "        if (!dataTable) return;\n",
              "\n",
              "        const docLinkHtml = 'Like what you see? Visit the ' +\n",
              "          '<a target=\"_blank\" href=https://colab.research.google.com/notebooks/data_table.ipynb>data table notebook</a>'\n",
              "          + ' to learn more about interactive tables.';\n",
              "        element.innerHTML = '';\n",
              "        dataTable['output_type'] = 'display_data';\n",
              "        await google.colab.output.renderOutput(dataTable, element);\n",
              "        const docLink = document.createElement('div');\n",
              "        docLink.innerHTML = docLinkHtml;\n",
              "        element.appendChild(docLink);\n",
              "      }\n",
              "    </script>\n",
              "  </div>\n",
              "\n",
              "    </div>\n",
              "  </div>\n"
            ]
          },
          "metadata": {},
          "execution_count": 104
        }
      ]
    },
    {
      "cell_type": "code",
      "source": [
        "\"\"\"dnnModel.summary()\"\"\" #training/val: 80/16"
      ],
      "metadata": {
        "colab": {
          "base_uri": "https://localhost:8080/"
        },
        "id": "LkM7T26xNXln",
        "outputId": "e54bef9b-ffde-4966-8374-abd1143bc107"
      },
      "execution_count": 63,
      "outputs": [
        {
          "output_type": "stream",
          "name": "stdout",
          "text": [
            "Model: \"sequential_4\"\n",
            "_________________________________________________________________\n",
            " Layer (type)                Output Shape              Param #   \n",
            "=================================================================\n",
            " dense_16 (Dense)            (None, 5)                 752645    \n",
            "                                                                 \n",
            " dense_17 (Dense)            (None, 2)                 12        \n",
            "                                                                 \n",
            " dense_18 (Dense)            (None, 1)                 3         \n",
            "                                                                 \n",
            "=================================================================\n",
            "Total params: 752,660\n",
            "Trainable params: 752,660\n",
            "Non-trainable params: 0\n",
            "_________________________________________________________________\n"
          ]
        }
      ]
    },
    {
      "cell_type": "code",
      "execution_count": 64,
      "metadata": {
        "id": "DnvT3_gDBeUY"
      },
      "outputs": [],
      "source": [
        "dnnModel.compile(loss=\"binary_crossentropy\", optimizer=\"adam\", metrics=[\"accuracy\"])"
      ]
    },
    {
      "cell_type": "code",
      "source": [
        "fit4 = dnnModel.fit(X_train_sampled_reshaped, y_train_sampled, epochs=100)"
      ],
      "metadata": {
        "colab": {
          "base_uri": "https://localhost:8080/"
        },
        "id": "VpjVhNIwNATn",
        "outputId": "35c8d730-f7d6-49e5-fd91-70bc3ba2d07d"
      },
      "execution_count": 65,
      "outputs": [
        {
          "output_type": "stream",
          "name": "stdout",
          "text": [
            "Epoch 1/100\n",
            "3/3 [==============================] - 1s 58ms/step - loss: 5.3252 - accuracy: 0.4875\n",
            "Epoch 2/100\n",
            "3/3 [==============================] - 0s 48ms/step - loss: 5.1127 - accuracy: 0.5500\n",
            "Epoch 3/100\n",
            "3/3 [==============================] - 0s 45ms/step - loss: 3.3796 - accuracy: 0.4750\n",
            "Epoch 4/100\n",
            "3/3 [==============================] - 0s 47ms/step - loss: 1.4479 - accuracy: 0.6000\n",
            "Epoch 5/100\n",
            "3/3 [==============================] - 0s 74ms/step - loss: 1.9587 - accuracy: 0.5250\n",
            "Epoch 6/100\n",
            "3/3 [==============================] - 0s 52ms/step - loss: 0.7089 - accuracy: 0.6125\n",
            "Epoch 7/100\n",
            "3/3 [==============================] - 0s 60ms/step - loss: 1.0508 - accuracy: 0.4875\n",
            "Epoch 8/100\n",
            "3/3 [==============================] - 0s 50ms/step - loss: 0.6322 - accuracy: 0.6250\n",
            "Epoch 9/100\n",
            "3/3 [==============================] - 0s 50ms/step - loss: 0.4865 - accuracy: 0.7500\n",
            "Epoch 10/100\n",
            "3/3 [==============================] - 0s 49ms/step - loss: 0.4385 - accuracy: 0.8000\n",
            "Epoch 11/100\n",
            "3/3 [==============================] - 0s 51ms/step - loss: 0.4362 - accuracy: 0.8250\n",
            "Epoch 12/100\n",
            "3/3 [==============================] - 0s 35ms/step - loss: 0.4853 - accuracy: 0.8000\n",
            "Epoch 13/100\n",
            "3/3 [==============================] - 0s 35ms/step - loss: 0.4247 - accuracy: 0.7875\n",
            "Epoch 14/100\n",
            "3/3 [==============================] - 0s 37ms/step - loss: 0.3479 - accuracy: 0.8375\n",
            "Epoch 15/100\n",
            "3/3 [==============================] - 0s 40ms/step - loss: 0.3389 - accuracy: 0.8500\n",
            "Epoch 16/100\n",
            "3/3 [==============================] - 0s 32ms/step - loss: 0.3042 - accuracy: 0.8500\n",
            "Epoch 17/100\n",
            "3/3 [==============================] - 0s 36ms/step - loss: 0.2725 - accuracy: 0.9000\n",
            "Epoch 18/100\n",
            "3/3 [==============================] - 0s 33ms/step - loss: 0.2520 - accuracy: 0.9125\n",
            "Epoch 19/100\n",
            "3/3 [==============================] - 0s 36ms/step - loss: 0.2409 - accuracy: 0.8875\n",
            "Epoch 20/100\n",
            "3/3 [==============================] - 0s 50ms/step - loss: 0.2206 - accuracy: 0.9250\n",
            "Epoch 21/100\n",
            "3/3 [==============================] - 0s 35ms/step - loss: 0.2141 - accuracy: 0.9125\n",
            "Epoch 22/100\n",
            "3/3 [==============================] - 0s 35ms/step - loss: 0.2153 - accuracy: 0.9250\n",
            "Epoch 23/100\n",
            "3/3 [==============================] - 0s 39ms/step - loss: 0.1955 - accuracy: 0.9250\n",
            "Epoch 24/100\n",
            "3/3 [==============================] - 0s 33ms/step - loss: 0.2097 - accuracy: 0.9125\n",
            "Epoch 25/100\n",
            "3/3 [==============================] - 0s 33ms/step - loss: 0.1871 - accuracy: 0.9375\n",
            "Epoch 26/100\n",
            "3/3 [==============================] - 0s 39ms/step - loss: 0.1847 - accuracy: 0.9375\n",
            "Epoch 27/100\n",
            "3/3 [==============================] - 0s 66ms/step - loss: 0.1954 - accuracy: 0.9500\n",
            "Epoch 28/100\n",
            "3/3 [==============================] - 0s 67ms/step - loss: 0.1827 - accuracy: 0.9500\n",
            "Epoch 29/100\n",
            "3/3 [==============================] - 0s 65ms/step - loss: 0.1908 - accuracy: 0.9125\n",
            "Epoch 30/100\n",
            "3/3 [==============================] - 0s 62ms/step - loss: 0.1786 - accuracy: 0.9750\n",
            "Epoch 31/100\n",
            "3/3 [==============================] - 0s 76ms/step - loss: 0.1682 - accuracy: 0.9625\n",
            "Epoch 32/100\n",
            "3/3 [==============================] - 0s 48ms/step - loss: 0.1562 - accuracy: 0.9500\n",
            "Epoch 33/100\n",
            "3/3 [==============================] - 0s 38ms/step - loss: 0.1530 - accuracy: 0.9750\n",
            "Epoch 34/100\n",
            "3/3 [==============================] - 0s 36ms/step - loss: 0.1489 - accuracy: 0.9875\n",
            "Epoch 35/100\n",
            "3/3 [==============================] - 0s 36ms/step - loss: 0.1395 - accuracy: 0.9750\n",
            "Epoch 36/100\n",
            "3/3 [==============================] - 0s 36ms/step - loss: 0.1429 - accuracy: 0.9750\n",
            "Epoch 37/100\n",
            "3/3 [==============================] - 0s 33ms/step - loss: 0.1360 - accuracy: 0.9750\n",
            "Epoch 38/100\n",
            "3/3 [==============================] - 0s 35ms/step - loss: 0.1334 - accuracy: 0.9750\n",
            "Epoch 39/100\n",
            "3/3 [==============================] - 0s 34ms/step - loss: 0.1293 - accuracy: 0.9750\n",
            "Epoch 40/100\n",
            "3/3 [==============================] - 0s 34ms/step - loss: 0.1295 - accuracy: 0.9500\n",
            "Epoch 41/100\n",
            "3/3 [==============================] - 0s 35ms/step - loss: 0.1293 - accuracy: 0.9875\n",
            "Epoch 42/100\n",
            "3/3 [==============================] - 0s 40ms/step - loss: 0.1193 - accuracy: 0.9750\n",
            "Epoch 43/100\n",
            "3/3 [==============================] - 0s 38ms/step - loss: 0.1269 - accuracy: 0.9500\n",
            "Epoch 44/100\n",
            "3/3 [==============================] - 0s 34ms/step - loss: 0.1188 - accuracy: 0.9875\n",
            "Epoch 45/100\n",
            "3/3 [==============================] - 0s 40ms/step - loss: 0.1125 - accuracy: 0.9875\n",
            "Epoch 46/100\n",
            "3/3 [==============================] - 0s 35ms/step - loss: 0.1163 - accuracy: 0.9500\n",
            "Epoch 47/100\n",
            "3/3 [==============================] - 0s 36ms/step - loss: 0.1176 - accuracy: 0.9750\n",
            "Epoch 48/100\n",
            "3/3 [==============================] - 0s 38ms/step - loss: 0.1002 - accuracy: 0.9875\n",
            "Epoch 49/100\n",
            "3/3 [==============================] - 0s 35ms/step - loss: 0.1114 - accuracy: 0.9500\n",
            "Epoch 50/100\n",
            "3/3 [==============================] - 0s 34ms/step - loss: 0.1100 - accuracy: 0.9875\n",
            "Epoch 51/100\n",
            "3/3 [==============================] - 0s 44ms/step - loss: 0.1085 - accuracy: 0.9875\n",
            "Epoch 52/100\n",
            "3/3 [==============================] - 0s 38ms/step - loss: 0.1014 - accuracy: 0.9875\n",
            "Epoch 53/100\n",
            "3/3 [==============================] - 0s 39ms/step - loss: 0.0920 - accuracy: 1.0000\n",
            "Epoch 54/100\n",
            "3/3 [==============================] - 0s 36ms/step - loss: 0.0910 - accuracy: 0.9875\n",
            "Epoch 55/100\n",
            "3/3 [==============================] - 0s 35ms/step - loss: 0.0916 - accuracy: 0.9875\n",
            "Epoch 56/100\n",
            "3/3 [==============================] - 0s 37ms/step - loss: 0.0874 - accuracy: 0.9875\n",
            "Epoch 57/100\n",
            "3/3 [==============================] - 0s 41ms/step - loss: 0.0894 - accuracy: 1.0000\n",
            "Epoch 58/100\n",
            "3/3 [==============================] - 0s 34ms/step - loss: 0.0804 - accuracy: 1.0000\n",
            "Epoch 59/100\n",
            "3/3 [==============================] - 0s 38ms/step - loss: 0.0923 - accuracy: 0.9875\n",
            "Epoch 60/100\n",
            "3/3 [==============================] - 0s 37ms/step - loss: 0.0788 - accuracy: 1.0000\n",
            "Epoch 61/100\n",
            "3/3 [==============================] - 0s 33ms/step - loss: 0.0819 - accuracy: 0.9875\n",
            "Epoch 62/100\n",
            "3/3 [==============================] - 0s 35ms/step - loss: 0.0884 - accuracy: 1.0000\n",
            "Epoch 63/100\n",
            "3/3 [==============================] - 0s 41ms/step - loss: 0.0720 - accuracy: 1.0000\n",
            "Epoch 64/100\n",
            "3/3 [==============================] - 0s 36ms/step - loss: 0.1037 - accuracy: 0.9500\n",
            "Epoch 65/100\n",
            "3/3 [==============================] - 0s 36ms/step - loss: 0.0920 - accuracy: 0.9875\n",
            "Epoch 66/100\n",
            "3/3 [==============================] - 0s 35ms/step - loss: 0.0841 - accuracy: 1.0000\n",
            "Epoch 67/100\n",
            "3/3 [==============================] - 0s 37ms/step - loss: 0.0704 - accuracy: 1.0000\n",
            "Epoch 68/100\n",
            "3/3 [==============================] - 0s 41ms/step - loss: 0.0703 - accuracy: 0.9875\n",
            "Epoch 69/100\n",
            "3/3 [==============================] - 0s 36ms/step - loss: 0.0657 - accuracy: 1.0000\n",
            "Epoch 70/100\n",
            "3/3 [==============================] - 0s 38ms/step - loss: 0.0642 - accuracy: 1.0000\n",
            "Epoch 71/100\n",
            "3/3 [==============================] - 0s 39ms/step - loss: 0.0636 - accuracy: 1.0000\n",
            "Epoch 72/100\n",
            "3/3 [==============================] - 0s 35ms/step - loss: 0.0601 - accuracy: 1.0000\n",
            "Epoch 73/100\n",
            "3/3 [==============================] - 0s 34ms/step - loss: 0.0613 - accuracy: 1.0000\n",
            "Epoch 74/100\n",
            "3/3 [==============================] - 0s 40ms/step - loss: 0.0575 - accuracy: 1.0000\n",
            "Epoch 75/100\n",
            "3/3 [==============================] - 0s 37ms/step - loss: 0.0626 - accuracy: 1.0000\n",
            "Epoch 76/100\n",
            "3/3 [==============================] - 0s 36ms/step - loss: 0.0591 - accuracy: 1.0000\n",
            "Epoch 77/100\n",
            "3/3 [==============================] - 0s 46ms/step - loss: 0.0547 - accuracy: 1.0000\n",
            "Epoch 78/100\n",
            "3/3 [==============================] - 0s 36ms/step - loss: 0.0567 - accuracy: 1.0000\n",
            "Epoch 79/100\n",
            "3/3 [==============================] - 0s 37ms/step - loss: 0.0549 - accuracy: 1.0000\n",
            "Epoch 80/100\n",
            "3/3 [==============================] - 0s 38ms/step - loss: 0.0526 - accuracy: 1.0000\n",
            "Epoch 81/100\n",
            "3/3 [==============================] - 0s 37ms/step - loss: 0.0513 - accuracy: 1.0000\n",
            "Epoch 82/100\n",
            "3/3 [==============================] - 0s 34ms/step - loss: 0.0509 - accuracy: 1.0000\n",
            "Epoch 83/100\n",
            "3/3 [==============================] - 0s 38ms/step - loss: 0.0522 - accuracy: 1.0000\n",
            "Epoch 84/100\n",
            "3/3 [==============================] - 0s 33ms/step - loss: 0.0504 - accuracy: 1.0000\n",
            "Epoch 85/100\n",
            "3/3 [==============================] - 0s 38ms/step - loss: 0.0506 - accuracy: 1.0000\n",
            "Epoch 86/100\n",
            "3/3 [==============================] - 0s 42ms/step - loss: 0.0478 - accuracy: 1.0000\n",
            "Epoch 87/100\n",
            "3/3 [==============================] - 0s 38ms/step - loss: 0.0472 - accuracy: 1.0000\n",
            "Epoch 88/100\n",
            "3/3 [==============================] - 0s 38ms/step - loss: 0.0459 - accuracy: 1.0000\n",
            "Epoch 89/100\n",
            "3/3 [==============================] - 0s 33ms/step - loss: 0.0456 - accuracy: 1.0000\n",
            "Epoch 90/100\n",
            "3/3 [==============================] - 0s 33ms/step - loss: 0.0438 - accuracy: 1.0000\n",
            "Epoch 91/100\n",
            "3/3 [==============================] - 0s 40ms/step - loss: 0.0428 - accuracy: 1.0000\n",
            "Epoch 92/100\n",
            "3/3 [==============================] - 0s 54ms/step - loss: 0.0424 - accuracy: 1.0000\n",
            "Epoch 93/100\n",
            "3/3 [==============================] - 0s 60ms/step - loss: 0.0416 - accuracy: 1.0000\n",
            "Epoch 94/100\n",
            "3/3 [==============================] - 0s 47ms/step - loss: 0.0409 - accuracy: 1.0000\n",
            "Epoch 95/100\n",
            "3/3 [==============================] - 0s 54ms/step - loss: 0.0406 - accuracy: 1.0000\n",
            "Epoch 96/100\n",
            "3/3 [==============================] - 0s 45ms/step - loss: 0.0392 - accuracy: 1.0000\n",
            "Epoch 97/100\n",
            "3/3 [==============================] - 0s 46ms/step - loss: 0.0400 - accuracy: 1.0000\n",
            "Epoch 98/100\n",
            "3/3 [==============================] - 0s 45ms/step - loss: 0.0387 - accuracy: 1.0000\n",
            "Epoch 99/100\n",
            "3/3 [==============================] - 0s 46ms/step - loss: 0.0402 - accuracy: 1.0000\n",
            "Epoch 100/100\n",
            "3/3 [==============================] - 0s 38ms/step - loss: 0.0365 - accuracy: 1.0000\n"
          ]
        }
      ]
    },
    {
      "cell_type": "code",
      "source": [
        "val_loss, val_accuracy = dnnModel.evaluate(X_val_sampled_reshaped, y_val_sampled)\n",
        "\n",
        "print(\"Validation Loss:\", val_loss)\n",
        "print(\"Validation Accuracy:\", val_accuracy)"
      ],
      "metadata": {
        "colab": {
          "base_uri": "https://localhost:8080/"
        },
        "id": "3e6M4TsFM9PT",
        "outputId": "551baf1c-0aaa-4281-b268-091c20eaf86e"
      },
      "execution_count": 66,
      "outputs": [
        {
          "output_type": "stream",
          "name": "stderr",
          "text": [
            "WARNING:tensorflow:5 out of the last 6 calls to <function Model.make_test_function.<locals>.test_function at 0x781503f94430> triggered tf.function retracing. Tracing is expensive and the excessive number of tracings could be due to (1) creating @tf.function repeatedly in a loop, (2) passing tensors with different shapes, (3) passing Python objects instead of tensors. For (1), please define your @tf.function outside of the loop. For (2), @tf.function has reduce_retracing=True option that can avoid unnecessary retracing. For (3), please refer to https://www.tensorflow.org/guide/function#controlling_retracing and https://www.tensorflow.org/api_docs/python/tf/function for  more details.\n"
          ]
        },
        {
          "output_type": "stream",
          "name": "stdout",
          "text": [
            "1/1 [==============================] - 1s 639ms/step - loss: 0.3641 - accuracy: 0.8750\n",
            "Validation Loss: 0.36411744356155396\n",
            "Validation Accuracy: 0.875\n"
          ]
        }
      ]
    },
    {
      "cell_type": "code",
      "source": [
        "history_df = pd.DataFrame(fit4.history)\n",
        "history_df.index += 1 # Increase the index by 1 to match the number of epochs\n",
        "history_df.plot(y=\"accuracy\")\n",
        "plt.show()"
      ],
      "metadata": {
        "colab": {
          "base_uri": "https://localhost:8080/",
          "height": 430
        },
        "id": "DQEoau5uOiLy",
        "outputId": "5e1eea57-612c-4455-8320-5594008b20e7"
      },
      "execution_count": 69,
      "outputs": [
        {
          "output_type": "display_data",
          "data": {
            "text/plain": [
              "<Figure size 640x480 with 1 Axes>"
            ],
            "image/png": "[encoded data removed]"
          },
          "metadata": {}
        }
      ]
    },
    {
      "cell_type": "code",
      "source": [
        "history_df.plot(y=\"loss\")\n",
        "plt.show()"
      ],
      "metadata": {
        "colab": {
          "base_uri": "https://localhost:8080/",
          "height": 430
        },
        "id": "kzaHecgbN6rW",
        "outputId": "55109f69-a064-44c2-f9da-873e07895d85"
      },
      "execution_count": 68,
      "outputs": [
        {
          "output_type": "display_data",
          "data": {
            "text/plain": [
              "<Figure size 640x480 with 1 Axes>"
            ],
            "image/png": "[encoded data removed]"
          },
          "metadata": {}
        }
      ]
    },
    {
      "cell_type": "code",
      "source": [
        "fit4Predict = dnnModel.predict(X_val_sampled_reshaped)\n",
        "fit4PredictClass = (fit4Predict > 0.5).astype(int)\n",
        "print(\"Accuracy:\", accuracy_score(y_val_sampled, fit4PredictClass))\n",
        "print(\"Confusion Matrix:\")\n",
        "print(confusion_matrix(y_val_sampled, fit4PredictClass))\n",
        "print(\"Classification Report:\")\n",
        "print(classification_report(y_val_sampled, fit4PredictClass))"
      ],
      "metadata": {
        "colab": {
          "base_uri": "https://localhost:8080/"
        },
        "id": "8dckXFejQbgG",
        "outputId": "ee1bcf87-f09f-4dec-f293-57c09dba11a2"
      },
      "execution_count": 70,
      "outputs": [
        {
          "output_type": "stream",
          "name": "stdout",
          "text": [
            "1/1 [==============================] - 0s 373ms/step\n",
            "Accuracy: 0.875\n",
            "Confusion Matrix:\n",
            "[[6 2]\n",
            " [0 8]]\n",
            "Classification Report:\n",
            "              precision    recall  f1-score   support\n",
            "\n",
            "           0       1.00      0.75      0.86         8\n",
            "           1       0.80      1.00      0.89         8\n",
            "\n",
            "    accuracy                           0.88        16\n",
            "   macro avg       0.90      0.88      0.87        16\n",
            "weighted avg       0.90      0.88      0.87        16\n",
            "\n"
          ]
        }
      ]
    },
    {
      "cell_type": "code",
      "source": [
        "fit4TP = []\n",
        "fit4FN = []\n",
        "fit4FP = []\n",
        "fit4TN = []\n",
        "cm = confusion_matrix(y_val_sampled, fit4PredictClass)\n",
        "fit4TP.append(cm[1][1]/(cm[1][1]+cm[1][0]))\n",
        "fit4FN.append(cm[1][0]/(cm[1][1]+cm[1][0]))\n",
        "fit4FP.append(cm[0][1]/(cm[1][1]+cm[0][1]))\n",
        "fit4TN.append(cm[0][0]/(cm[0][0]+cm[0][1]))"
      ],
      "metadata": {
        "id": "LKMi9dAFSXCi"
      },
      "execution_count": 71,
      "outputs": []
    },
    {
      "cell_type": "code",
      "source": [
        "fit4Summary = pd.DataFrame({\"acuuracy1\": val_accuracy, \"loss:\": val_loss, \"true_positive\": fit4TP, \"false_negative\": fit4FN, \"false_positive\": fit4FP, \"true_negative\": fit4TN})\n",
        "fit4Summary"
      ],
      "metadata": {
        "colab": {
          "base_uri": "https://localhost:8080/",
          "height": 81
        },
        "id": "4-WMSBtjR2HZ",
        "outputId": "2f58826d-3f16-48cb-f588-842510203cf1"
      },
      "execution_count": 73,
      "outputs": [
        {
          "output_type": "execute_result",
          "data": {
            "text/plain": [
              "   acuuracy1     loss:  true_positive  false_negative  false_positive  \\\n",
              "0      0.875  0.364117            1.0             0.0             0.2   \n",
              "\n",
              "   true_negative  \n",
              "0           0.75  "
            ],
            "text/html": [
              "\n",
              "  <div id=\"df-8a08a010-01fc-402f-923d-216c04c19656\" class=\"colab-df-container\">\n",
              "    <div>\n",
              "<style scoped>\n",
              "    .dataframe tbody tr th:only-of-type {\n",
              "        vertical-align: middle;\n",
              "    }\n",
              "\n",
              "    .dataframe tbody tr th {\n",
              "        vertical-align: top;\n",
              "    }\n",
              "\n",
              "    .dataframe thead th {\n",
              "        text-align: right;\n",
              "    }\n",
              "</style>\n",
              "<table border=\"1\" class=\"dataframe\">\n",
              "  <thead>\n",
              "    <tr style=\"text-align: right;\">\n",
              "      <th></th>\n",
              "      <th>acuuracy1</th>\n",
              "      <th>loss:</th>\n",
              "      <th>true_positive</th>\n",
              "      <th>false_negative</th>\n",
              "      <th>false_positive</th>\n",
              "      <th>true_negative</th>\n",
              "    </tr>\n",
              "  </thead>\n",
              "  <tbody>\n",
              "    <tr>\n",
              "      <th>0</th>\n",
              "      <td>0.875</td>\n",
              "      <td>0.364117</td>\n",
              "      <td>1.0</td>\n",
              "      <td>0.0</td>\n",
              "      <td>0.2</td>\n",
              "      <td>0.75</td>\n",
              "    </tr>\n",
              "  </tbody>\n",
              "</table>\n",
              "</div>\n",
              "    <div class=\"colab-df-buttons\">\n",
              "\n",
              "  <div class=\"colab-df-container\">\n",
              "    <button class=\"colab-df-convert\" onclick=\"convertToInteractive('df-8a08a010-01fc-402f-923d-216c04c19656')\"\n",
              "            title=\"Convert this dataframe to an interactive table.\"\n",
              "            style=\"display:none;\">\n",
              "\n",
              "  <svg xmlns=\"http://www.w3.org/2000/svg\" height=\"24px\" viewBox=\"0 -960 960 960\">\n",
              "    <path d=\"M120-120v-720h720v720H120Zm60-500h600v-160H180v160Zm220 220h160v-160H400v160Zm0 220h160v-160H400v160ZM180-400h160v-160H180v160Zm440 0h160v-160H620v160ZM180-180h160v-160H180v160Zm440 0h160v-160H620v160Z\"/>\n",
              "  </svg>\n",
              "    </button>\n",
              "\n",
              "  <style>\n",
              "    .colab-df-container {\n",
              "      display:flex;\n",
              "      gap: 12px;\n",
              "    }\n",
              "\n",
              "    .colab-df-convert {\n",
              "      background-color: #E8F0FE;\n",
              "      border: none;\n",
              "      border-radius: 50%;\n",
              "      cursor: pointer;\n",
              "      display: none;\n",
              "      fill: #1967D2;\n",
              "      height: 32px;\n",
              "      padding: 0 0 0 0;\n",
              "      width: 32px;\n",
              "    }\n",
              "\n",
              "    .colab-df-convert:hover {\n",
              "      background-color: #E2EBFA;\n",
              "      box-shadow: 0px 1px 2px rgba(60, 64, 67, 0.3), 0px 1px 3px 1px rgba(60, 64, 67, 0.15);\n",
              "      fill: #174EA6;\n",
              "    }\n",
              "\n",
              "    .colab-df-buttons div {\n",
              "      margin-bottom: 4px;\n",
              "    }\n",
              "\n",
              "    [theme=dark] .colab-df-convert {\n",
              "      background-color: #3B4455;\n",
              "      fill: #D2E3FC;\n",
              "    }\n",
              "\n",
              "    [theme=dark] .colab-df-convert:hover {\n",
              "      background-color: #434B5C;\n",
              "      box-shadow: 0px 1px 3px 1px rgba(0, 0, 0, 0.15);\n",
              "      filter: drop-shadow(0px 1px 2px rgba(0, 0, 0, 0.3));\n",
              "      fill: #FFFFFF;\n",
              "    }\n",
              "  </style>\n",
              "\n",
              "    <script>\n",
              "      const buttonEl =\n",
              "        document.querySelector('#df-8a08a010-01fc-402f-923d-216c04c19656 button.colab-df-convert');\n",
              "      buttonEl.style.display =\n",
              "        google.colab.kernel.accessAllowed ? 'block' : 'none';\n",
              "\n",
              "      async function convertToInteractive(key) {\n",
              "        const element = document.querySelector('#df-8a08a010-01fc-402f-923d-216c04c19656');\n",
              "        const dataTable =\n",
              "          await google.colab.kernel.invokeFunction('convertToInteractive',\n",
              "                                                    [key], {});\n",
              "        if (!dataTable) return;\n",
              "\n",
              "        const docLinkHtml = 'Like what you see? Visit the ' +\n",
              "          '<a target=\"_blank\" href=https://colab.research.google.com/notebooks/data_table.ipynb>data table notebook</a>'\n",
              "          + ' to learn more about interactive tables.';\n",
              "        element.innerHTML = '';\n",
              "        dataTable['output_type'] = 'display_data';\n",
              "        await google.colab.output.renderOutput(dataTable, element);\n",
              "        const docLink = document.createElement('div');\n",
              "        docLink.innerHTML = docLinkHtml;\n",
              "        element.appendChild(docLink);\n",
              "      }\n",
              "    </script>\n",
              "  </div>\n",
              "\n",
              "    </div>\n",
              "  </div>\n"
            ]
          },
          "metadata": {},
          "execution_count": 73
        }
      ]
    },
    {
      "cell_type": "code",
      "source": [
        "\"\"\"dnnModel.summary()\"\"\" #training: 80/16"
      ],
      "metadata": {
        "colab": {
          "base_uri": "https://localhost:8080/"
        },
        "id": "wFI95VX3NIi2",
        "outputId": "0d7f7eb8-76c1-4b0b-a98d-cee376bbb67d"
      },
      "execution_count": 49,
      "outputs": [
        {
          "output_type": "stream",
          "name": "stdout",
          "text": [
            "Model: \"sequential_2\"\n",
            "_________________________________________________________________\n",
            " Layer (type)                Output Shape              Param #   \n",
            "=================================================================\n",
            " dense_8 (Dense)             (None, 5)                 752645    \n",
            "                                                                 \n",
            " dense_9 (Dense)             (None, 2)                 12        \n",
            "                                                                 \n",
            " dense_10 (Dense)            (None, 1)                 3         \n",
            "                                                                 \n",
            "=================================================================\n",
            "Total params: 752,660\n",
            "Trainable params: 752,660\n",
            "Non-trainable params: 0\n",
            "_________________________________________________________________\n"
          ]
        }
      ]
    },
    {
      "cell_type": "code",
      "source": [
        "\"\"\"fit3 = dnnModel.fit(X_train_sampled_reshaped, y_train_sampled, epochs=100)\"\"\""
      ],
      "metadata": {
        "colab": {
          "base_uri": "https://localhost:8080/"
        },
        "id": "rzDmRD1RBd6C",
        "outputId": "b3bab8d2-0468-4823-fab5-40ab9de80cdc"
      },
      "execution_count": 47,
      "outputs": [
        {
          "output_type": "stream",
          "name": "stdout",
          "text": [
            "Epoch 1/100\n",
            "3/3 [==============================] - 1s 38ms/step - loss: 0.6932 - accuracy: 0.4000\n",
            "Epoch 2/100\n",
            "3/3 [==============================] - 0s 41ms/step - loss: 0.6932 - accuracy: 0.4500\n",
            "Epoch 3/100\n",
            "3/3 [==============================] - 0s 42ms/step - loss: 0.6931 - accuracy: 0.5250\n",
            "Epoch 4/100\n",
            "3/3 [==============================] - 0s 34ms/step - loss: 0.6931 - accuracy: 0.5250\n",
            "Epoch 5/100\n",
            "3/3 [==============================] - 0s 49ms/step - loss: 0.6931 - accuracy: 0.5250\n",
            "Epoch 6/100\n",
            "3/3 [==============================] - 0s 36ms/step - loss: 0.6931 - accuracy: 0.5250\n",
            "Epoch 7/100\n",
            "3/3 [==============================] - 0s 37ms/step - loss: 0.6930 - accuracy: 0.5250\n",
            "Epoch 8/100\n",
            "3/3 [==============================] - 0s 39ms/step - loss: 0.6930 - accuracy: 0.5250\n",
            "Epoch 9/100\n",
            "3/3 [==============================] - 0s 39ms/step - loss: 0.6930 - accuracy: 0.5250\n",
            "Epoch 10/100\n",
            "3/3 [==============================] - 0s 35ms/step - loss: 0.6930 - accuracy: 0.5250\n",
            "Epoch 11/100\n",
            "3/3 [==============================] - 0s 38ms/step - loss: 0.6930 - accuracy: 0.5250\n",
            "Epoch 12/100\n",
            "3/3 [==============================] - 0s 42ms/step - loss: 0.6930 - accuracy: 0.5250\n",
            "Epoch 13/100\n",
            "3/3 [==============================] - 0s 35ms/step - loss: 0.6930 - accuracy: 0.5250\n",
            "Epoch 14/100\n",
            "3/3 [==============================] - 0s 39ms/step - loss: 0.6930 - accuracy: 0.5250\n",
            "Epoch 15/100\n",
            "3/3 [==============================] - 0s 37ms/step - loss: 0.6929 - accuracy: 0.5250\n",
            "Epoch 16/100\n",
            "3/3 [==============================] - 0s 43ms/step - loss: 0.6929 - accuracy: 0.5250\n",
            "Epoch 17/100\n",
            "3/3 [==============================] - 0s 34ms/step - loss: 0.6929 - accuracy: 0.5250\n",
            "Epoch 18/100\n",
            "3/3 [==============================] - 0s 40ms/step - loss: 0.6929 - accuracy: 0.5250\n",
            "Epoch 19/100\n",
            "3/3 [==============================] - 0s 39ms/step - loss: 0.6929 - accuracy: 0.5250\n",
            "Epoch 20/100\n",
            "3/3 [==============================] - 0s 35ms/step - loss: 0.6929 - accuracy: 0.5250\n",
            "Epoch 21/100\n",
            "3/3 [==============================] - 0s 37ms/step - loss: 0.6929 - accuracy: 0.5250\n",
            "Epoch 22/100\n",
            "3/3 [==============================] - 0s 40ms/step - loss: 0.6928 - accuracy: 0.5250\n",
            "Epoch 23/100\n",
            "3/3 [==============================] - 0s 36ms/step - loss: 0.6928 - accuracy: 0.5250\n",
            "Epoch 24/100\n",
            "3/3 [==============================] - 0s 36ms/step - loss: 0.6928 - accuracy: 0.5250\n",
            "Epoch 25/100\n",
            "3/3 [==============================] - 0s 37ms/step - loss: 0.6928 - accuracy: 0.5250\n",
            "Epoch 26/100\n",
            "3/3 [==============================] - 0s 43ms/step - loss: 0.6928 - accuracy: 0.5250\n",
            "Epoch 27/100\n",
            "3/3 [==============================] - 0s 44ms/step - loss: 0.6928 - accuracy: 0.5250\n",
            "Epoch 28/100\n",
            "3/3 [==============================] - 0s 42ms/step - loss: 0.6928 - accuracy: 0.5250\n",
            "Epoch 29/100\n",
            "3/3 [==============================] - 0s 39ms/step - loss: 0.6928 - accuracy: 0.5250\n",
            "Epoch 30/100\n",
            "3/3 [==============================] - 0s 34ms/step - loss: 0.6927 - accuracy: 0.5250\n",
            "Epoch 31/100\n",
            "3/3 [==============================] - 0s 40ms/step - loss: 0.6927 - accuracy: 0.5250\n",
            "Epoch 32/100\n",
            "3/3 [==============================] - 0s 34ms/step - loss: 0.6927 - accuracy: 0.5250\n",
            "Epoch 33/100\n",
            "3/3 [==============================] - 0s 36ms/step - loss: 0.6927 - accuracy: 0.5250\n",
            "Epoch 34/100\n",
            "3/3 [==============================] - 0s 41ms/step - loss: 0.6927 - accuracy: 0.5250\n",
            "Epoch 35/100\n",
            "3/3 [==============================] - 0s 39ms/step - loss: 0.6927 - accuracy: 0.5250\n",
            "Epoch 36/100\n",
            "3/3 [==============================] - 0s 53ms/step - loss: 0.6927 - accuracy: 0.5250\n",
            "Epoch 37/100\n",
            "3/3 [==============================] - 0s 61ms/step - loss: 0.6926 - accuracy: 0.5250\n",
            "Epoch 38/100\n",
            "3/3 [==============================] - 0s 58ms/step - loss: 0.6926 - accuracy: 0.5250\n",
            "Epoch 39/100\n",
            "3/3 [==============================] - 0s 55ms/step - loss: 0.6926 - accuracy: 0.5250\n",
            "Epoch 40/100\n",
            "3/3 [==============================] - 0s 45ms/step - loss: 0.6926 - accuracy: 0.5250\n",
            "Epoch 41/100\n",
            "3/3 [==============================] - 0s 47ms/step - loss: 0.6926 - accuracy: 0.5250\n",
            "Epoch 42/100\n",
            "3/3 [==============================] - 0s 52ms/step - loss: 0.6926 - accuracy: 0.5250\n",
            "Epoch 43/100\n",
            "3/3 [==============================] - 0s 51ms/step - loss: 0.6926 - accuracy: 0.5250\n",
            "Epoch 44/100\n",
            "3/3 [==============================] - 0s 45ms/step - loss: 0.6926 - accuracy: 0.5250\n",
            "Epoch 45/100\n",
            "3/3 [==============================] - 0s 65ms/step - loss: 0.6926 - accuracy: 0.5250\n",
            "Epoch 46/100\n",
            "3/3 [==============================] - 0s 45ms/step - loss: 0.6925 - accuracy: 0.5250\n",
            "Epoch 47/100\n",
            "3/3 [==============================] - 0s 53ms/step - loss: 0.6925 - accuracy: 0.5250\n",
            "Epoch 48/100\n",
            "3/3 [==============================] - 0s 51ms/step - loss: 0.6925 - accuracy: 0.5250\n",
            "Epoch 49/100\n",
            "3/3 [==============================] - 0s 50ms/step - loss: 0.6925 - accuracy: 0.5250\n",
            "Epoch 50/100\n",
            "3/3 [==============================] - 0s 58ms/step - loss: 0.6925 - accuracy: 0.5250\n",
            "Epoch 51/100\n",
            "3/3 [==============================] - 0s 57ms/step - loss: 0.6925 - accuracy: 0.5250\n",
            "Epoch 52/100\n",
            "3/3 [==============================] - 0s 47ms/step - loss: 0.6925 - accuracy: 0.5250\n",
            "Epoch 53/100\n",
            "3/3 [==============================] - 0s 56ms/step - loss: 0.6925 - accuracy: 0.5250\n",
            "Epoch 54/100\n",
            "3/3 [==============================] - 0s 62ms/step - loss: 0.6925 - accuracy: 0.5250\n",
            "Epoch 55/100\n",
            "3/3 [==============================] - 0s 68ms/step - loss: 0.6924 - accuracy: 0.5250\n",
            "Epoch 56/100\n",
            "3/3 [==============================] - 0s 48ms/step - loss: 0.6924 - accuracy: 0.5250\n",
            "Epoch 57/100\n",
            "3/3 [==============================] - 0s 50ms/step - loss: 0.6924 - accuracy: 0.5250\n",
            "Epoch 58/100\n",
            "3/3 [==============================] - 0s 51ms/step - loss: 0.6924 - accuracy: 0.5250\n",
            "Epoch 59/100\n",
            "3/3 [==============================] - 0s 59ms/step - loss: 0.6924 - accuracy: 0.5250\n",
            "Epoch 60/100\n",
            "3/3 [==============================] - 0s 47ms/step - loss: 0.6924 - accuracy: 0.5250\n",
            "Epoch 61/100\n",
            "3/3 [==============================] - 0s 45ms/step - loss: 0.6924 - accuracy: 0.5250\n",
            "Epoch 62/100\n",
            "3/3 [==============================] - 0s 47ms/step - loss: 0.6924 - accuracy: 0.5250\n",
            "Epoch 63/100\n",
            "3/3 [==============================] - 0s 55ms/step - loss: 0.6924 - accuracy: 0.5250\n",
            "Epoch 64/100\n",
            "3/3 [==============================] - 0s 64ms/step - loss: 0.6923 - accuracy: 0.5250\n",
            "Epoch 65/100\n",
            "3/3 [==============================] - 0s 65ms/step - loss: 0.6923 - accuracy: 0.5250\n",
            "Epoch 66/100\n",
            "3/3 [==============================] - 0s 54ms/step - loss: 0.6923 - accuracy: 0.5250\n",
            "Epoch 67/100\n",
            "3/3 [==============================] - 0s 52ms/step - loss: 0.6923 - accuracy: 0.5250\n",
            "Epoch 68/100\n",
            "3/3 [==============================] - 0s 37ms/step - loss: 0.6923 - accuracy: 0.5250\n",
            "Epoch 69/100\n",
            "3/3 [==============================] - 0s 34ms/step - loss: 0.6923 - accuracy: 0.5250\n",
            "Epoch 70/100\n",
            "3/3 [==============================] - 0s 37ms/step - loss: 0.6923 - accuracy: 0.5250\n",
            "Epoch 71/100\n",
            "3/3 [==============================] - 0s 37ms/step - loss: 0.6923 - accuracy: 0.5250\n",
            "Epoch 72/100\n",
            "3/3 [==============================] - 0s 37ms/step - loss: 0.6923 - accuracy: 0.5250\n",
            "Epoch 73/100\n",
            "3/3 [==============================] - 0s 45ms/step - loss: 0.6922 - accuracy: 0.5250\n",
            "Epoch 74/100\n",
            "3/3 [==============================] - 0s 42ms/step - loss: 0.6922 - accuracy: 0.5250\n",
            "Epoch 75/100\n",
            "3/3 [==============================] - 0s 41ms/step - loss: 0.6922 - accuracy: 0.5250\n",
            "Epoch 76/100\n",
            "3/3 [==============================] - 0s 43ms/step - loss: 0.6922 - accuracy: 0.5250\n",
            "Epoch 77/100\n",
            "3/3 [==============================] - 0s 50ms/step - loss: 0.6922 - accuracy: 0.5250\n",
            "Epoch 78/100\n",
            "3/3 [==============================] - 0s 40ms/step - loss: 0.6922 - accuracy: 0.5250\n",
            "Epoch 79/100\n",
            "3/3 [==============================] - 0s 36ms/step - loss: 0.6922 - accuracy: 0.5250\n",
            "Epoch 80/100\n",
            "3/3 [==============================] - 0s 40ms/step - loss: 0.6922 - accuracy: 0.5250\n",
            "Epoch 81/100\n",
            "3/3 [==============================] - 0s 38ms/step - loss: 0.6922 - accuracy: 0.5250\n",
            "Epoch 82/100\n",
            "3/3 [==============================] - 0s 37ms/step - loss: 0.6922 - accuracy: 0.5250\n",
            "Epoch 83/100\n",
            "3/3 [==============================] - 0s 39ms/step - loss: 0.6922 - accuracy: 0.5250\n",
            "Epoch 84/100\n",
            "3/3 [==============================] - 0s 44ms/step - loss: 0.6922 - accuracy: 0.5250\n",
            "Epoch 85/100\n",
            "3/3 [==============================] - 0s 42ms/step - loss: 0.6921 - accuracy: 0.5250\n",
            "Epoch 86/100\n",
            "3/3 [==============================] - 0s 40ms/step - loss: 0.6921 - accuracy: 0.5250\n",
            "Epoch 87/100\n",
            "3/3 [==============================] - 0s 40ms/step - loss: 0.6922 - accuracy: 0.5250\n",
            "Epoch 88/100\n",
            "3/3 [==============================] - 0s 41ms/step - loss: 0.6921 - accuracy: 0.5250\n",
            "Epoch 89/100\n",
            "3/3 [==============================] - 0s 35ms/step - loss: 0.6921 - accuracy: 0.5250\n",
            "Epoch 90/100\n",
            "3/3 [==============================] - 0s 49ms/step - loss: 0.6921 - accuracy: 0.5250\n",
            "Epoch 91/100\n",
            "3/3 [==============================] - 0s 36ms/step - loss: 0.6921 - accuracy: 0.5250\n",
            "Epoch 92/100\n",
            "3/3 [==============================] - 0s 37ms/step - loss: 0.6921 - accuracy: 0.5250\n",
            "Epoch 93/100\n",
            "3/3 [==============================] - 0s 36ms/step - loss: 0.6921 - accuracy: 0.5250\n",
            "Epoch 94/100\n",
            "3/3 [==============================] - 0s 40ms/step - loss: 0.6921 - accuracy: 0.5250\n",
            "Epoch 95/100\n",
            "3/3 [==============================] - 0s 35ms/step - loss: 0.6921 - accuracy: 0.5250\n",
            "Epoch 96/100\n",
            "3/3 [==============================] - 0s 40ms/step - loss: 0.6921 - accuracy: 0.5250\n",
            "Epoch 97/100\n",
            "3/3 [==============================] - 0s 35ms/step - loss: 0.6921 - accuracy: 0.5250\n",
            "Epoch 98/100\n",
            "3/3 [==============================] - 0s 39ms/step - loss: 0.6921 - accuracy: 0.5250\n",
            "Epoch 99/100\n",
            "3/3 [==============================] - 0s 40ms/step - loss: 0.6921 - accuracy: 0.5250\n",
            "Epoch 100/100\n",
            "3/3 [==============================] - 0s 30ms/step - loss: 0.6921 - accuracy: 0.5250\n"
          ]
        }
      ]
    },
    {
      "cell_type": "code",
      "source": [
        "\"\"\"val_loss, val_accuracy = dnnModel.evaluate(X_val_sampled_reshaped, y_val_sampled)\n",
        "\n",
        "print(\"Validation Loss:\", val_loss)\n",
        "print(\"Validation Accuracy:\", val_accuracy)\"\"\""
      ],
      "metadata": {
        "colab": {
          "base_uri": "https://localhost:8080/"
        },
        "id": "7EKrp7rMBcSo",
        "outputId": "6f05f581-ca25-427b-8ff8-b5382ea3114a"
      },
      "execution_count": 48,
      "outputs": [
        {
          "output_type": "stream",
          "name": "stdout",
          "text": [
            "1/1 [==============================] - 0s 233ms/step - loss: 0.6936 - accuracy: 0.5000\n",
            "Validation Loss: 0.69364994764328\n",
            "Validation Accuracy: 0.5\n"
          ]
        }
      ]
    },
    {
      "cell_type": "code",
      "source": [
        "\"\"\"fit2 = dnnModel.fit(X_train_sampled_reshaped, y_train_sampled, epochs=100)\"\"\" # increase data size from 8/2 to 40/10"
      ],
      "metadata": {
        "colab": {
          "base_uri": "https://localhost:8080/"
        },
        "id": "u8lPMgC7AyJT",
        "outputId": "8f42a730-4c86-4b51-e85e-b61a621cb0d2"
      },
      "execution_count": 36,
      "outputs": [
        {
          "output_type": "stream",
          "name": "stdout",
          "text": [
            "Epoch 1/100\n",
            "2/2 [==============================] - 1s 37ms/step - loss: 0.6724 - accuracy: 0.5250\n",
            "Epoch 2/100\n",
            "2/2 [==============================] - 0s 33ms/step - loss: 0.6932 - accuracy: 0.4750\n",
            "Epoch 3/100\n",
            "2/2 [==============================] - 0s 30ms/step - loss: 0.6932 - accuracy: 0.4750\n",
            "Epoch 4/100\n",
            "2/2 [==============================] - 0s 27ms/step - loss: 0.6932 - accuracy: 0.4750\n",
            "Epoch 5/100\n",
            "2/2 [==============================] - 0s 24ms/step - loss: 0.6932 - accuracy: 0.4750\n",
            "Epoch 6/100\n",
            "2/2 [==============================] - 0s 29ms/step - loss: 0.6931 - accuracy: 0.5250\n",
            "Epoch 7/100\n",
            "2/2 [==============================] - 0s 24ms/step - loss: 0.6931 - accuracy: 0.5250\n",
            "Epoch 8/100\n",
            "2/2 [==============================] - 0s 24ms/step - loss: 0.6931 - accuracy: 0.5250\n",
            "Epoch 9/100\n",
            "2/2 [==============================] - 0s 24ms/step - loss: 0.6931 - accuracy: 0.5250\n",
            "Epoch 10/100\n",
            "2/2 [==============================] - 0s 39ms/step - loss: 0.6931 - accuracy: 0.5250\n",
            "Epoch 11/100\n",
            "2/2 [==============================] - 0s 26ms/step - loss: 0.6931 - accuracy: 0.5250\n",
            "Epoch 12/100\n",
            "2/2 [==============================] - 0s 32ms/step - loss: 0.6930 - accuracy: 0.5250\n",
            "Epoch 13/100\n",
            "2/2 [==============================] - 0s 33ms/step - loss: 0.6930 - accuracy: 0.5250\n",
            "Epoch 14/100\n",
            "2/2 [==============================] - 0s 35ms/step - loss: 0.6930 - accuracy: 0.5250\n",
            "Epoch 15/100\n",
            "2/2 [==============================] - 0s 26ms/step - loss: 0.6930 - accuracy: 0.5250\n",
            "Epoch 16/100\n",
            "2/2 [==============================] - 0s 31ms/step - loss: 0.6930 - accuracy: 0.5250\n",
            "Epoch 17/100\n",
            "2/2 [==============================] - 0s 25ms/step - loss: 0.6930 - accuracy: 0.5250\n",
            "Epoch 18/100\n",
            "2/2 [==============================] - 0s 25ms/step - loss: 0.6930 - accuracy: 0.5250\n",
            "Epoch 19/100\n",
            "2/2 [==============================] - 0s 23ms/step - loss: 0.6930 - accuracy: 0.5250\n",
            "Epoch 20/100\n",
            "2/2 [==============================] - 0s 34ms/step - loss: 0.6930 - accuracy: 0.5250\n",
            "Epoch 21/100\n",
            "2/2 [==============================] - 0s 29ms/step - loss: 0.6929 - accuracy: 0.5250\n",
            "Epoch 22/100\n",
            "2/2 [==============================] - 0s 38ms/step - loss: 0.6929 - accuracy: 0.5250\n",
            "Epoch 23/100\n",
            "2/2 [==============================] - 0s 31ms/step - loss: 0.6929 - accuracy: 0.5250\n",
            "Epoch 24/100\n",
            "2/2 [==============================] - 0s 30ms/step - loss: 0.6929 - accuracy: 0.5250\n",
            "Epoch 25/100\n",
            "2/2 [==============================] - 0s 31ms/step - loss: 0.6929 - accuracy: 0.5250\n",
            "Epoch 26/100\n",
            "2/2 [==============================] - 0s 24ms/step - loss: 0.6929 - accuracy: 0.5250\n",
            "Epoch 27/100\n",
            "2/2 [==============================] - 0s 25ms/step - loss: 0.6929 - accuracy: 0.5250\n",
            "Epoch 28/100\n",
            "2/2 [==============================] - 0s 39ms/step - loss: 0.6928 - accuracy: 0.5250\n",
            "Epoch 29/100\n",
            "2/2 [==============================] - 0s 32ms/step - loss: 0.6929 - accuracy: 0.5250\n",
            "Epoch 30/100\n",
            "2/2 [==============================] - 0s 33ms/step - loss: 0.6928 - accuracy: 0.5250\n",
            "Epoch 31/100\n",
            "2/2 [==============================] - 0s 32ms/step - loss: 0.6928 - accuracy: 0.5250\n",
            "Epoch 32/100\n",
            "2/2 [==============================] - 0s 37ms/step - loss: 0.6928 - accuracy: 0.5250\n",
            "Epoch 33/100\n",
            "2/2 [==============================] - 0s 35ms/step - loss: 0.6928 - accuracy: 0.5250\n",
            "Epoch 34/100\n",
            "2/2 [==============================] - 0s 49ms/step - loss: 0.6928 - accuracy: 0.5250\n",
            "Epoch 35/100\n",
            "2/2 [==============================] - 0s 29ms/step - loss: 0.6928 - accuracy: 0.5250\n",
            "Epoch 36/100\n",
            "2/2 [==============================] - 0s 29ms/step - loss: 0.6928 - accuracy: 0.5250\n",
            "Epoch 37/100\n",
            "2/2 [==============================] - 0s 27ms/step - loss: 0.6928 - accuracy: 0.5250\n",
            "Epoch 38/100\n",
            "2/2 [==============================] - 0s 36ms/step - loss: 0.6928 - accuracy: 0.5250\n",
            "Epoch 39/100\n",
            "2/2 [==============================] - 0s 36ms/step - loss: 0.6928 - accuracy: 0.5250\n",
            "Epoch 40/100\n",
            "2/2 [==============================] - 0s 27ms/step - loss: 0.6928 - accuracy: 0.5250\n",
            "Epoch 41/100\n",
            "2/2 [==============================] - 0s 30ms/step - loss: 0.6928 - accuracy: 0.5250\n",
            "Epoch 42/100\n",
            "2/2 [==============================] - 0s 29ms/step - loss: 0.6927 - accuracy: 0.5250\n",
            "Epoch 43/100\n",
            "2/2 [==============================] - 0s 42ms/step - loss: 0.6927 - accuracy: 0.5250\n",
            "Epoch 44/100\n",
            "2/2 [==============================] - 0s 25ms/step - loss: 0.6927 - accuracy: 0.5250\n",
            "Epoch 45/100\n",
            "2/2 [==============================] - 0s 31ms/step - loss: 0.6927 - accuracy: 0.5250\n",
            "Epoch 46/100\n",
            "2/2 [==============================] - 0s 30ms/step - loss: 0.6927 - accuracy: 0.5250\n",
            "Epoch 47/100\n",
            "2/2 [==============================] - 0s 32ms/step - loss: 0.6927 - accuracy: 0.5250\n",
            "Epoch 48/100\n",
            "2/2 [==============================] - 0s 28ms/step - loss: 0.6927 - accuracy: 0.5250\n",
            "Epoch 49/100\n",
            "2/2 [==============================] - 0s 30ms/step - loss: 0.6927 - accuracy: 0.5250\n",
            "Epoch 50/100\n",
            "2/2 [==============================] - 0s 32ms/step - loss: 0.6927 - accuracy: 0.5250\n",
            "Epoch 51/100\n",
            "2/2 [==============================] - 0s 32ms/step - loss: 0.6927 - accuracy: 0.5250\n",
            "Epoch 52/100\n",
            "2/2 [==============================] - 0s 28ms/step - loss: 0.6927 - accuracy: 0.5250\n",
            "Epoch 53/100\n",
            "2/2 [==============================] - 0s 38ms/step - loss: 0.6927 - accuracy: 0.5250\n",
            "Epoch 54/100\n",
            "2/2 [==============================] - 0s 33ms/step - loss: 0.6927 - accuracy: 0.5250\n",
            "Epoch 55/100\n",
            "2/2 [==============================] - 0s 28ms/step - loss: 0.6927 - accuracy: 0.5250\n",
            "Epoch 56/100\n",
            "2/2 [==============================] - 0s 31ms/step - loss: 0.6926 - accuracy: 0.5250\n",
            "Epoch 57/100\n",
            "2/2 [==============================] - 0s 40ms/step - loss: 0.6926 - accuracy: 0.5250\n",
            "Epoch 58/100\n",
            "2/2 [==============================] - 0s 37ms/step - loss: 0.6926 - accuracy: 0.5250\n",
            "Epoch 59/100\n",
            "2/2 [==============================] - 0s 33ms/step - loss: 0.6926 - accuracy: 0.5250\n",
            "Epoch 60/100\n",
            "2/2 [==============================] - 0s 29ms/step - loss: 0.6926 - accuracy: 0.5250\n",
            "Epoch 61/100\n",
            "2/2 [==============================] - 0s 35ms/step - loss: 0.6926 - accuracy: 0.5250\n",
            "Epoch 62/100\n",
            "2/2 [==============================] - 0s 28ms/step - loss: 0.6926 - accuracy: 0.5250\n",
            "Epoch 63/100\n",
            "2/2 [==============================] - 0s 26ms/step - loss: 0.6926 - accuracy: 0.5250\n",
            "Epoch 64/100\n",
            "2/2 [==============================] - 0s 30ms/step - loss: 0.6926 - accuracy: 0.5250\n",
            "Epoch 65/100\n",
            "2/2 [==============================] - 0s 29ms/step - loss: 0.6926 - accuracy: 0.5250\n",
            "Epoch 66/100\n",
            "2/2 [==============================] - 0s 29ms/step - loss: 0.6926 - accuracy: 0.5250\n",
            "Epoch 67/100\n",
            "2/2 [==============================] - 0s 37ms/step - loss: 0.6926 - accuracy: 0.5250\n",
            "Epoch 68/100\n",
            "2/2 [==============================] - 0s 35ms/step - loss: 0.6926 - accuracy: 0.5250\n",
            "Epoch 69/100\n",
            "2/2 [==============================] - 0s 31ms/step - loss: 0.6926 - accuracy: 0.5250\n",
            "Epoch 70/100\n",
            "2/2 [==============================] - 0s 28ms/step - loss: 0.6926 - accuracy: 0.5250\n",
            "Epoch 71/100\n",
            "2/2 [==============================] - 0s 41ms/step - loss: 0.6926 - accuracy: 0.5250\n",
            "Epoch 72/100\n",
            "2/2 [==============================] - 0s 34ms/step - loss: 0.6926 - accuracy: 0.5250\n",
            "Epoch 73/100\n",
            "2/2 [==============================] - 0s 31ms/step - loss: 0.6926 - accuracy: 0.5250\n",
            "Epoch 74/100\n",
            "2/2 [==============================] - 0s 28ms/step - loss: 0.6926 - accuracy: 0.5250\n",
            "Epoch 75/100\n",
            "2/2 [==============================] - 0s 26ms/step - loss: 0.6926 - accuracy: 0.5250\n",
            "Epoch 76/100\n",
            "2/2 [==============================] - 0s 28ms/step - loss: 0.6925 - accuracy: 0.5250\n",
            "Epoch 77/100\n",
            "2/2 [==============================] - 0s 25ms/step - loss: 0.6925 - accuracy: 0.5250\n",
            "Epoch 78/100\n",
            "2/2 [==============================] - 0s 27ms/step - loss: 0.6925 - accuracy: 0.5250\n",
            "Epoch 79/100\n",
            "2/2 [==============================] - 0s 27ms/step - loss: 0.6925 - accuracy: 0.5250\n",
            "Epoch 80/100\n",
            "2/2 [==============================] - 0s 28ms/step - loss: 0.6925 - accuracy: 0.5250\n",
            "Epoch 81/100\n",
            "2/2 [==============================] - 0s 28ms/step - loss: 0.6925 - accuracy: 0.5250\n",
            "Epoch 82/100\n",
            "2/2 [==============================] - 0s 28ms/step - loss: 0.6925 - accuracy: 0.5250\n",
            "Epoch 83/100\n",
            "2/2 [==============================] - 0s 28ms/step - loss: 0.6925 - accuracy: 0.5250\n",
            "Epoch 84/100\n",
            "2/2 [==============================] - 0s 30ms/step - loss: 0.6925 - accuracy: 0.5250\n",
            "Epoch 85/100\n",
            "2/2 [==============================] - 0s 31ms/step - loss: 0.6925 - accuracy: 0.5250\n",
            "Epoch 86/100\n",
            "2/2 [==============================] - 0s 31ms/step - loss: 0.6925 - accuracy: 0.5250\n",
            "Epoch 87/100\n",
            "2/2 [==============================] - 0s 24ms/step - loss: 0.6925 - accuracy: 0.5250\n",
            "Epoch 88/100\n",
            "2/2 [==============================] - 0s 36ms/step - loss: 0.6925 - accuracy: 0.5250\n",
            "Epoch 89/100\n",
            "2/2 [==============================] - 0s 24ms/step - loss: 0.6925 - accuracy: 0.5250\n",
            "Epoch 90/100\n",
            "2/2 [==============================] - 0s 27ms/step - loss: 0.6925 - accuracy: 0.5250\n",
            "Epoch 91/100\n",
            "2/2 [==============================] - 0s 25ms/step - loss: 0.6925 - accuracy: 0.5250\n",
            "Epoch 92/100\n",
            "2/2 [==============================] - 0s 24ms/step - loss: 0.6925 - accuracy: 0.5250\n",
            "Epoch 93/100\n",
            "2/2 [==============================] - 0s 34ms/step - loss: 0.6925 - accuracy: 0.5250\n",
            "Epoch 94/100\n",
            "2/2 [==============================] - 0s 26ms/step - loss: 0.6925 - accuracy: 0.5250\n",
            "Epoch 95/100\n",
            "2/2 [==============================] - 0s 26ms/step - loss: 0.6925 - accuracy: 0.5250\n",
            "Epoch 96/100\n",
            "2/2 [==============================] - 0s 24ms/step - loss: 0.6925 - accuracy: 0.5250\n",
            "Epoch 97/100\n",
            "2/2 [==============================] - 0s 26ms/step - loss: 0.6924 - accuracy: 0.5250\n",
            "Epoch 98/100\n",
            "2/2 [==============================] - 0s 24ms/step - loss: 0.6925 - accuracy: 0.5250\n",
            "Epoch 99/100\n",
            "2/2 [==============================] - 0s 30ms/step - loss: 0.6924 - accuracy: 0.5250\n",
            "Epoch 100/100\n",
            "2/2 [==============================] - 0s 31ms/step - loss: 0.6924 - accuracy: 0.5250\n"
          ]
        }
      ]
    },
    {
      "cell_type": "code",
      "source": [
        "\"\"\"val_loss, val_accuracy = dnnModel.evaluate(X_val_sampled_reshaped, y_val_sampled)\n",
        "\n",
        "print(\"Validation Loss:\", val_loss)\n",
        "print(\"Validation Accuracy:\", val_accuracy)\"\"\""
      ],
      "metadata": {
        "colab": {
          "base_uri": "https://localhost:8080/"
        },
        "id": "-cqKn8R3Ayob",
        "outputId": "0bc72cd6-6ff0-4d87-cfd8-72b786b9be78"
      },
      "execution_count": 38,
      "outputs": [
        {
          "output_type": "stream",
          "name": "stdout",
          "text": [
            "1/1 [==============================] - 0s 41ms/step - loss: 0.6933 - accuracy: 0.5000\n",
            "Validation Loss: 0.6932926177978516\n",
            "Validation Accuracy: 0.5\n"
          ]
        }
      ]
    },
    {
      "cell_type": "code",
      "execution_count": 26,
      "metadata": {
        "id": "ufIpiob_BeUY",
        "colab": {
          "base_uri": "https://localhost:8080/"
        },
        "outputId": "700b1362-3ad0-405d-ebde-1f5da673d24e"
      },
      "outputs": [
        {
          "output_type": "stream",
          "name": "stdout",
          "text": [
            "Epoch 1/100\n",
            "1/1 [==============================] - 2s 2s/step - loss: 1.5097 - accuracy: 0.2500\n",
            "Epoch 2/100\n",
            "1/1 [==============================] - 0s 24ms/step - loss: 0.6929 - accuracy: 0.7500\n",
            "Epoch 3/100\n",
            "1/1 [==============================] - 0s 32ms/step - loss: 0.6927 - accuracy: 0.7500\n",
            "Epoch 4/100\n",
            "1/1 [==============================] - 0s 39ms/step - loss: 0.6925 - accuracy: 0.7500\n",
            "Epoch 5/100\n",
            "1/1 [==============================] - 0s 36ms/step - loss: 0.6922 - accuracy: 0.7500\n",
            "Epoch 6/100\n",
            "1/1 [==============================] - 0s 25ms/step - loss: 0.6920 - accuracy: 0.7500\n",
            "Epoch 7/100\n",
            "1/1 [==============================] - 0s 31ms/step - loss: 0.6918 - accuracy: 0.7500\n",
            "Epoch 8/100\n",
            "1/1 [==============================] - 0s 29ms/step - loss: 0.6916 - accuracy: 0.7500\n",
            "Epoch 9/100\n",
            "1/1 [==============================] - 0s 25ms/step - loss: 0.6914 - accuracy: 0.7500\n",
            "Epoch 10/100\n",
            "1/1 [==============================] - 0s 27ms/step - loss: 0.6911 - accuracy: 0.7500\n",
            "Epoch 11/100\n",
            "1/1 [==============================] - 0s 27ms/step - loss: 0.6909 - accuracy: 0.7500\n",
            "Epoch 12/100\n",
            "1/1 [==============================] - 0s 23ms/step - loss: 0.6907 - accuracy: 0.7500\n",
            "Epoch 13/100\n",
            "1/1 [==============================] - 0s 23ms/step - loss: 0.6905 - accuracy: 0.7500\n",
            "Epoch 14/100\n",
            "1/1 [==============================] - 0s 30ms/step - loss: 0.6903 - accuracy: 0.7500\n",
            "Epoch 15/100\n",
            "1/1 [==============================] - 0s 28ms/step - loss: 0.6900 - accuracy: 0.7500\n",
            "Epoch 16/100\n",
            "1/1 [==============================] - 0s 26ms/step - loss: 0.6898 - accuracy: 0.7500\n",
            "Epoch 17/100\n",
            "1/1 [==============================] - 0s 33ms/step - loss: 0.6896 - accuracy: 0.7500\n",
            "Epoch 18/100\n",
            "1/1 [==============================] - 0s 34ms/step - loss: 0.6894 - accuracy: 0.7500\n",
            "Epoch 19/100\n",
            "1/1 [==============================] - 0s 27ms/step - loss: 0.6891 - accuracy: 0.7500\n",
            "Epoch 20/100\n",
            "1/1 [==============================] - 0s 29ms/step - loss: 0.6889 - accuracy: 0.7500\n",
            "Epoch 21/100\n",
            "1/1 [==============================] - 0s 35ms/step - loss: 0.6887 - accuracy: 0.7500\n",
            "Epoch 22/100\n",
            "1/1 [==============================] - 0s 27ms/step - loss: 0.6885 - accuracy: 0.7500\n",
            "Epoch 23/100\n",
            "1/1 [==============================] - 0s 27ms/step - loss: 0.6882 - accuracy: 0.7500\n",
            "Epoch 24/100\n",
            "1/1 [==============================] - 0s 22ms/step - loss: 0.6880 - accuracy: 0.7500\n",
            "Epoch 25/100\n",
            "1/1 [==============================] - 0s 23ms/step - loss: 0.6878 - accuracy: 0.7500\n",
            "Epoch 26/100\n",
            "1/1 [==============================] - 0s 25ms/step - loss: 0.6876 - accuracy: 0.7500\n",
            "Epoch 27/100\n",
            "1/1 [==============================] - 0s 23ms/step - loss: 0.6873 - accuracy: 0.7500\n",
            "Epoch 28/100\n",
            "1/1 [==============================] - 0s 21ms/step - loss: 0.6871 - accuracy: 0.7500\n",
            "Epoch 29/100\n",
            "1/1 [==============================] - 0s 24ms/step - loss: 0.6869 - accuracy: 0.7500\n",
            "Epoch 30/100\n",
            "1/1 [==============================] - 0s 21ms/step - loss: 0.6867 - accuracy: 0.7500\n",
            "Epoch 31/100\n",
            "1/1 [==============================] - 0s 22ms/step - loss: 0.6864 - accuracy: 0.7500\n",
            "Epoch 32/100\n",
            "1/1 [==============================] - 0s 25ms/step - loss: 0.6862 - accuracy: 0.7500\n",
            "Epoch 33/100\n",
            "1/1 [==============================] - 0s 25ms/step - loss: 0.6860 - accuracy: 0.7500\n",
            "Epoch 34/100\n",
            "1/1 [==============================] - 0s 27ms/step - loss: 0.6858 - accuracy: 0.7500\n",
            "Epoch 35/100\n",
            "1/1 [==============================] - 0s 41ms/step - loss: 0.6855 - accuracy: 0.7500\n",
            "Epoch 36/100\n",
            "1/1 [==============================] - 0s 30ms/step - loss: 0.6853 - accuracy: 0.7500\n",
            "Epoch 37/100\n",
            "1/1 [==============================] - 0s 27ms/step - loss: 0.6851 - accuracy: 0.7500\n",
            "Epoch 38/100\n",
            "1/1 [==============================] - 0s 25ms/step - loss: 0.6849 - accuracy: 0.7500\n",
            "Epoch 39/100\n",
            "1/1 [==============================] - 0s 24ms/step - loss: 0.6846 - accuracy: 0.7500\n",
            "Epoch 40/100\n",
            "1/1 [==============================] - 0s 27ms/step - loss: 0.6844 - accuracy: 0.7500\n",
            "Epoch 41/100\n",
            "1/1 [==============================] - 0s 23ms/step - loss: 0.6842 - accuracy: 0.7500\n",
            "Epoch 42/100\n",
            "1/1 [==============================] - 0s 30ms/step - loss: 0.6840 - accuracy: 0.7500\n",
            "Epoch 43/100\n",
            "1/1 [==============================] - 0s 25ms/step - loss: 0.6837 - accuracy: 0.7500\n",
            "Epoch 44/100\n",
            "1/1 [==============================] - 0s 22ms/step - loss: 0.6835 - accuracy: 0.7500\n",
            "Epoch 45/100\n",
            "1/1 [==============================] - 0s 24ms/step - loss: 0.6833 - accuracy: 0.7500\n",
            "Epoch 46/100\n",
            "1/1 [==============================] - 0s 23ms/step - loss: 0.6831 - accuracy: 0.7500\n",
            "Epoch 47/100\n",
            "1/1 [==============================] - 0s 23ms/step - loss: 0.6828 - accuracy: 0.7500\n",
            "Epoch 48/100\n",
            "1/1 [==============================] - 0s 27ms/step - loss: 0.6826 - accuracy: 0.7500\n",
            "Epoch 49/100\n",
            "1/1 [==============================] - 0s 23ms/step - loss: 0.6824 - accuracy: 0.7500\n",
            "Epoch 50/100\n",
            "1/1 [==============================] - 0s 24ms/step - loss: 0.6822 - accuracy: 0.7500\n",
            "Epoch 51/100\n",
            "1/1 [==============================] - 0s 26ms/step - loss: 0.6819 - accuracy: 0.7500\n",
            "Epoch 52/100\n",
            "1/1 [==============================] - 0s 25ms/step - loss: 0.6817 - accuracy: 0.7500\n",
            "Epoch 53/100\n",
            "1/1 [==============================] - 0s 27ms/step - loss: 0.6815 - accuracy: 0.7500\n",
            "Epoch 54/100\n",
            "1/1 [==============================] - 0s 26ms/step - loss: 0.6813 - accuracy: 0.7500\n",
            "Epoch 55/100\n",
            "1/1 [==============================] - 0s 26ms/step - loss: 0.6810 - accuracy: 0.7500\n",
            "Epoch 56/100\n",
            "1/1 [==============================] - 0s 26ms/step - loss: 0.6808 - accuracy: 0.7500\n",
            "Epoch 57/100\n",
            "1/1 [==============================] - 0s 27ms/step - loss: 0.6806 - accuracy: 0.7500\n",
            "Epoch 58/100\n",
            "1/1 [==============================] - 0s 28ms/step - loss: 0.6804 - accuracy: 0.7500\n",
            "Epoch 59/100\n",
            "1/1 [==============================] - 0s 39ms/step - loss: 0.6802 - accuracy: 0.7500\n",
            "Epoch 60/100\n",
            "1/1 [==============================] - 0s 28ms/step - loss: 0.6799 - accuracy: 0.7500\n",
            "Epoch 61/100\n",
            "1/1 [==============================] - 0s 25ms/step - loss: 0.6797 - accuracy: 0.7500\n",
            "Epoch 62/100\n",
            "1/1 [==============================] - 0s 23ms/step - loss: 0.6795 - accuracy: 0.7500\n",
            "Epoch 63/100\n",
            "1/1 [==============================] - 0s 23ms/step - loss: 0.6793 - accuracy: 0.7500\n",
            "Epoch 64/100\n",
            "1/1 [==============================] - 0s 27ms/step - loss: 0.6790 - accuracy: 0.7500\n",
            "Epoch 65/100\n",
            "1/1 [==============================] - 0s 23ms/step - loss: 0.6788 - accuracy: 0.7500\n",
            "Epoch 66/100\n",
            "1/1 [==============================] - 0s 23ms/step - loss: 0.6786 - accuracy: 0.7500\n",
            "Epoch 67/100\n",
            "1/1 [==============================] - 0s 29ms/step - loss: 0.6784 - accuracy: 0.7500\n",
            "Epoch 68/100\n",
            "1/1 [==============================] - 0s 33ms/step - loss: 0.6782 - accuracy: 0.7500\n",
            "Epoch 69/100\n",
            "1/1 [==============================] - 0s 25ms/step - loss: 0.6779 - accuracy: 0.7500\n",
            "Epoch 70/100\n",
            "1/1 [==============================] - 0s 31ms/step - loss: 0.6777 - accuracy: 0.7500\n",
            "Epoch 71/100\n",
            "1/1 [==============================] - 0s 25ms/step - loss: 0.6775 - accuracy: 0.7500\n",
            "Epoch 72/100\n",
            "1/1 [==============================] - 0s 23ms/step - loss: 0.6773 - accuracy: 0.7500\n",
            "Epoch 73/100\n",
            "1/1 [==============================] - 0s 26ms/step - loss: 0.6771 - accuracy: 0.7500\n",
            "Epoch 74/100\n",
            "1/1 [==============================] - 0s 23ms/step - loss: 0.6768 - accuracy: 0.7500\n",
            "Epoch 75/100\n",
            "1/1 [==============================] - 0s 23ms/step - loss: 0.6766 - accuracy: 0.7500\n",
            "Epoch 76/100\n",
            "1/1 [==============================] - 0s 27ms/step - loss: 0.6764 - accuracy: 0.7500\n",
            "Epoch 77/100\n",
            "1/1 [==============================] - 0s 29ms/step - loss: 0.6762 - accuracy: 0.7500\n",
            "Epoch 78/100\n",
            "1/1 [==============================] - 0s 23ms/step - loss: 0.6760 - accuracy: 0.7500\n",
            "Epoch 79/100\n",
            "1/1 [==============================] - 0s 25ms/step - loss: 0.6757 - accuracy: 0.7500\n",
            "Epoch 80/100\n",
            "1/1 [==============================] - 0s 23ms/step - loss: 0.6755 - accuracy: 0.7500\n",
            "Epoch 81/100\n",
            "1/1 [==============================] - 0s 33ms/step - loss: 0.6753 - accuracy: 0.7500\n",
            "Epoch 82/100\n",
            "1/1 [==============================] - 0s 24ms/step - loss: 0.6751 - accuracy: 0.7500\n",
            "Epoch 83/100\n",
            "1/1 [==============================] - 0s 25ms/step - loss: 0.6749 - accuracy: 0.7500\n",
            "Epoch 84/100\n",
            "1/1 [==============================] - 0s 24ms/step - loss: 0.6746 - accuracy: 0.7500\n",
            "Epoch 85/100\n",
            "1/1 [==============================] - 0s 24ms/step - loss: 0.6744 - accuracy: 0.7500\n",
            "Epoch 86/100\n",
            "1/1 [==============================] - 0s 24ms/step - loss: 0.6742 - accuracy: 0.7500\n",
            "Epoch 87/100\n",
            "1/1 [==============================] - 0s 24ms/step - loss: 0.6740 - accuracy: 0.7500\n",
            "Epoch 88/100\n",
            "1/1 [==============================] - 0s 25ms/step - loss: 0.6738 - accuracy: 0.7500\n",
            "Epoch 89/100\n",
            "1/1 [==============================] - 0s 23ms/step - loss: 0.6736 - accuracy: 0.7500\n",
            "Epoch 90/100\n",
            "1/1 [==============================] - 0s 27ms/step - loss: 0.6734 - accuracy: 0.7500\n",
            "Epoch 91/100\n",
            "1/1 [==============================] - 0s 29ms/step - loss: 0.6731 - accuracy: 0.7500\n",
            "Epoch 92/100\n",
            "1/1 [==============================] - 0s 28ms/step - loss: 0.6729 - accuracy: 0.7500\n",
            "Epoch 93/100\n",
            "1/1 [==============================] - 0s 28ms/step - loss: 0.6727 - accuracy: 0.7500\n",
            "Epoch 94/100\n",
            "1/1 [==============================] - 0s 23ms/step - loss: 0.6725 - accuracy: 0.7500\n",
            "Epoch 95/100\n",
            "1/1 [==============================] - 0s 21ms/step - loss: 0.6723 - accuracy: 0.7500\n",
            "Epoch 96/100\n",
            "1/1 [==============================] - 0s 24ms/step - loss: 0.6721 - accuracy: 0.7500\n",
            "Epoch 97/100\n",
            "1/1 [==============================] - 0s 27ms/step - loss: 0.6718 - accuracy: 0.7500\n",
            "Epoch 98/100\n",
            "1/1 [==============================] - 0s 25ms/step - loss: 0.6716 - accuracy: 0.7500\n",
            "Epoch 99/100\n",
            "1/1 [==============================] - 0s 22ms/step - loss: 0.6714 - accuracy: 0.7500\n",
            "Epoch 100/100\n",
            "1/1 [==============================] - 0s 24ms/step - loss: 0.6712 - accuracy: 0.7500\n"
          ]
        }
      ],
      "source": [
        "\"\"\"fit1 = dnnModel.fit(X_train_sampled_reshaped, y_train_sampled, epochs=100)\"\"\" #2, 1: relu, sigmoid"
      ]
    },
    {
      "cell_type": "code",
      "source": [
        "# Evaluate the model on validation data\n",
        "\"\"\"val_loss, val_accuracy = dnnModel.evaluate(X_val_sampled_reshaped, y_val_sampled)\n",
        "\n",
        "print(\"Validation Loss:\", val_loss)\n",
        "print(\"Validation Accuracy:\", val_accuracy)\"\"\"\n"
      ],
      "metadata": {
        "colab": {
          "base_uri": "https://localhost:8080/"
        },
        "id": "DEfUMTmN_6eL",
        "outputId": "c14c2947-65c5-4ba6-d700-9f2a5a4d67df"
      },
      "execution_count": 29,
      "outputs": [
        {
          "output_type": "stream",
          "name": "stdout",
          "text": [
            "1/1 [==============================] - 0s 330ms/step - loss: 0.6942 - accuracy: 0.5000\n",
            "Validation Loss: 0.6942259669303894\n",
            "Validation Accuracy: 0.5\n"
          ]
        }
      ]
    }
  ],
  "metadata": {
    "kernelspec": {
      "display_name": "dev",
      "language": "python",
      "name": "python3"
    },
    "language_info": {
      "codemirror_mode": {
        "name": "ipython",
        "version": 3
      },
      "file_extension": ".py",
      "mimetype": "text/x-python",
      "name": "python",
      "nbconvert_exporter": "python",
      "pygments_lexer": "ipython3",
      "version": "3.10.10"
    },
    "orig_nbformat": 4,
    "colab": {
      "provenance": [],
      "include_colab_link": true
    }
  },
  "nbformat": 4,
  "nbformat_minor": 0
}