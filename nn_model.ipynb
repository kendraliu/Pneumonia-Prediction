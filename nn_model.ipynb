{
  "cells": [
    {
      "cell_type": "markdown",
      "metadata": {
        "id": "view-in-github",
        "colab_type": "text"
      },
      "source": [
        "<a href=\"https://colab.research.google.com/github/kendraliu/Pneumonia-Prediction/blob/main/nn_model.ipynb\" target=\"_parent\"><img src=\"https://colab.research.google.com/assets/colab-badge.svg\" alt=\"Open In Colab\"/></a>"
      ]
    },
    {
      "cell_type": "code",
      "execution_count": 1,
      "metadata": {
        "id": "UwjHOvLCBeUL"
      },
      "outputs": [],
      "source": [
        "\"\"\"from warnings import simplefilter\n",
        "simplefilter(action='ignore', category=FutureWarning)\"\"\"\n",
        "\n",
        "import pandas as pd\n",
        "import numpy as np\n",
        "import random\n",
        "import cv2\n",
        "import os\n",
        "%matplotlib inline\n",
        "from IPython.display import Image, SVG\n",
        "import matplotlib.pyplot as plt\n",
        "import tensorflow as tf\n",
        "from sklearn.svm import SVC\n",
        "from sklearn.neighbors import KNeighborsClassifier\n",
        "from sklearn import tree\n",
        "from sklearn.preprocessing import StandardScaler\n",
        "from sklearn.metrics import classification_report, accuracy_score, confusion_matrix\n",
        "from sklearn.model_selection import train_test_split\n",
        "from sklearn.ensemble import RandomForestClassifier"
      ]
    },
    {
      "cell_type": "markdown",
      "metadata": {
        "id": "ZcHAS933BeUN"
      },
      "source": [
        "/test: 234 normal, 390 pna\n",
        "\n",
        "/val: 8 normal, 8 pna\n",
        "\n",
        "/train: 1341 normal, 3875 pna"
      ]
    },
    {
      "cell_type": "code",
      "execution_count": 2,
      "metadata": {
        "id": "GXK83PdnBeUP"
      },
      "outputs": [],
      "source": [
        "def normalArray(dataPath, dataImage, dataLabel):\n",
        "    for filename in os.listdir(dataPath):\n",
        "        img_path = os.path.join(dataPath, filename)\n",
        "        image = cv2.imread(img_path)\n",
        "        image = cv2.resize(image, (224, 224))  # Resize to a common size\n",
        "        image = image / 255.0  # Normalize pixel values to [0, 1]\n",
        "        dataImage.append(image)\n",
        "        dataLabel.append(0)\n",
        "    dataImage = np.array(dataImage)\n",
        "    dataLabel = np.array(dataLabel)\n",
        "    return dataImage, dataLabel"
      ]
    },
    {
      "cell_type": "code",
      "execution_count": 3,
      "metadata": {
        "id": "3FAHcjDvBeUQ"
      },
      "outputs": [],
      "source": [
        "def pnaArray(dataPath, dataImage, dataLabel):\n",
        "    for filename in os.listdir(dataPath):\n",
        "        img_path = os.path.join(dataPath, filename)\n",
        "        image = cv2.imread(img_path)\n",
        "        image = cv2.resize(image, (224, 224))  # Resize to a common size\n",
        "        image = image / 255.0  # Normalize pixel values to [0, 1]\n",
        "        dataImage.append(image)\n",
        "        dataLabel.append(1)\n",
        "    dataImage = np.array(dataImage)\n",
        "    dataLabel = np.array(dataLabel)\n",
        "    return dataImage, dataLabel"
      ]
    },
    {
      "cell_type": "code",
      "source": [
        "def fitHistory(fit):\n",
        "    history_df = pd.DataFrame(fit.history)\n",
        "    history_df.index += 1  # Increase the index by 1 to match the number of epochs\n",
        "\n",
        "    # Plot accuracy and loss history\n",
        "    history_df.plot(y=\"accuracy\")\n",
        "    plt.title(\"Accuracy History\")\n",
        "    plt.xlabel(\"Epoch\")\n",
        "    plt.ylabel(\"Accuracy\")\n",
        "    plt.show()\n",
        "\n",
        "    history_df.plot(y=\"loss\")\n",
        "    plt.title(\"Loss History\")\n",
        "    plt.xlabel(\"Epoch\")\n",
        "    plt.ylabel(\"Loss\")\n",
        "    plt.show()"
      ],
      "metadata": {
        "id": "hW9lLNFEbB7z"
      },
      "execution_count": 4,
      "outputs": []
    },
    {
      "cell_type": "code",
      "source": [
        "def calculate_dnn_predict_classes(model, X_val):\n",
        "    dnn_predict = model.predict(X_val)\n",
        "    dnn_predict_classes = (dnn_predict > 0.5).astype(int)\n",
        "    return dnn_predict_classes\n",
        "\n",
        "def dnnEval(model, X_val, y_val):\n",
        "    val_loss, val_accuracy = model.evaluate(X_val, y_val)\n",
        "    print(\"Validation Loss:\", val_loss)\n",
        "    print(\"Validation Accuracy:\", val_accuracy)\n",
        "\n",
        "    dnn_predict_classes = calculate_dnn_predict_classes(model, X_val)\n",
        "\n",
        "    # Calculate and print metrics\n",
        "    accuracy = accuracy_score(y_val, dnn_predict_classes)\n",
        "    print(\"Accuracy:\", accuracy)\n",
        "\n",
        "    cm = confusion_matrix(y_val, dnn_predict_classes)\n",
        "    tp = cm[1][1] / (cm[1][1] + cm[1][0])\n",
        "    fn = cm[1][0] / (cm[1][1] + cm[1][0])\n",
        "    fp = cm[0][1] / (cm[1][1] + cm[0][1])\n",
        "    tn = cm[0][0] / (cm[0][0] + cm[0][1])\n",
        "\n",
        "    print(\"Confusion Matrix:\")\n",
        "    print(cm)\n",
        "\n",
        "    print(\"Classification Report:\")\n",
        "    print(classification_report(y_val, dnn_predict_classes))\n",
        "\n",
        "    valSummary = pd.DataFrame({\n",
        "    \"accuracy\": [accuracy],\n",
        "    \"true_positive\": [tp],\n",
        "    \"false_negative\": [fn],\n",
        "    \"false positive\": [fp],\n",
        "    \"true_negative\": [tn]\n",
        "    })\n",
        "    print(valSummary)"
      ],
      "metadata": {
        "id": "oT3ZioXSaSW1"
      },
      "execution_count": 5,
      "outputs": []
    },
    {
      "cell_type": "code",
      "source": [
        "#def"
      ],
      "metadata": {
        "id": "Zgi6kZXbkt7f"
      },
      "execution_count": 6,
      "outputs": []
    },
    {
      "cell_type": "code",
      "source": [
        "!pwd"
      ],
      "metadata": {
        "colab": {
          "base_uri": "https://localhost:8080/"
        },
        "id": "VPTg_qaVDmJ9",
        "outputId": "85b99b8e-c698-48eb-f414-27e3d3dfafd7"
      },
      "execution_count": 7,
      "outputs": [
        {
          "output_type": "stream",
          "name": "stdout",
          "text": [
            "/content\n"
          ]
        }
      ]
    },
    {
      "cell_type": "code",
      "source": [
        "from google.colab import drive\n",
        "drive.mount('/content/drive')"
      ],
      "metadata": {
        "colab": {
          "base_uri": "https://localhost:8080/"
        },
        "id": "69adXhxoGAAt",
        "outputId": "75a8d69e-750a-451b-cba7-231aa3fe40c2"
      },
      "execution_count": 8,
      "outputs": [
        {
          "output_type": "stream",
          "name": "stdout",
          "text": [
            "Mounted at /content/drive\n"
          ]
        }
      ]
    },
    {
      "cell_type": "code",
      "execution_count": 9,
      "metadata": {
        "id": "M4MgBT_uBeUQ"
      },
      "outputs": [],
      "source": [
        "testNormal = \"drive/MyDrive/Pneumonia-Prediction/chest_xray/test/NORMAL\"\n",
        "testPNA = \"drive/MyDrive/Pneumonia-Prediction/chest_xray/test/PNEUMONIA\"\n",
        "valNormal = \"drive/MyDrive/Pneumonia-Prediction/chest_xray/val/NORMAL\"\n",
        "valPNA = \"drive/MyDrive/Pneumonia-Prediction/chest_xray/val/PNEUMONIA\"\n",
        "trainNormal = \"drive/MyDrive/Pneumonia-Prediction/chest_xray/train/NORMAL\"\n",
        "trainPNA1 = \"drive/MyDrive/Pneumonia-Prediction/chest_xray/train/PNEUMONIA1\"\n",
        "#trainPNA2 = \"drive/MyDrive/Pneumonia-Prediction/chest_xray/train/PNEUMONIA2\"\n",
        "#trainPNA3 = \"drive/MyDrive/Pneumonia-Prediction/chest_xray/train/PNEUMONIA3\""
      ]
    },
    {
      "cell_type": "code",
      "execution_count": 10,
      "metadata": {
        "id": "LFVn-bHUBeUQ",
        "colab": {
          "base_uri": "https://localhost:8080/"
        },
        "outputId": "9fa065b9-e99c-489c-a4d0-d4dbb2bd50d2"
      },
      "outputs": [
        {
          "output_type": "execute_result",
          "data": {
            "text/plain": [
              "['NORMAL2-IM-1440-0001.jpeg',\n",
              " 'NORMAL2-IM-1438-0001.jpeg',\n",
              " 'NORMAL2-IM-1431-0001.jpeg',\n",
              " 'NORMAL2-IM-1427-0001.jpeg',\n",
              " 'NORMAL2-IM-1437-0001.jpeg',\n",
              " 'NORMAL2-IM-1442-0001.jpeg',\n",
              " 'NORMAL2-IM-1436-0001.jpeg',\n",
              " 'NORMAL2-IM-1430-0001.jpeg']"
            ]
          },
          "metadata": {},
          "execution_count": 10
        }
      ],
      "source": [
        "os.listdir(valNormal) #check to see there's no random \".DS_Store\" in directory\n",
        "# if there is, run: find . -name \".DS_Store\" -type f -delete\n",
        "# or just run it anyway to be safe"
      ]
    },
    {
      "cell_type": "code",
      "execution_count": 11,
      "metadata": {
        "id": "du45zB7hBeUR"
      },
      "outputs": [],
      "source": [
        "# images are X, labels are y\n",
        "testNormalimage = []\n",
        "testNormalLabel = []\n",
        "testPNAimage = []\n",
        "testPNALabel = []\n",
        "valNormalimage = []\n",
        "valNormalLabel = []\n",
        "valPNAimage = []\n",
        "valPNALabel = []\n",
        "trainNormalimage = []\n",
        "trainNormalLabel = []\n",
        "trainPNAimage1 = []\n",
        "trainPNALabel1= []\n"
      ]
    },
    {
      "cell_type": "code",
      "execution_count": null,
      "metadata": {
        "id": "8t8TNizNBeUV"
      },
      "outputs": [],
      "source": [
        "trainNormalimage, trainNormalLabel = normalArray(trainNormal, trainNormalimage, trainNormalLabel)\n",
        "trainNormalimage.shape"
      ]
    },
    {
      "cell_type": "code",
      "execution_count": null,
      "metadata": {
        "id": "3Pov7sA_BeUW"
      },
      "outputs": [],
      "source": [
        "trainPNAimage1, trainPNALabel1 = pnaArray(trainPNA1, trainPNAimage1, trainPNALabel1)\n",
        "trainPNAimage1.shape"
      ]
    },
    {
      "cell_type": "code",
      "execution_count": null,
      "metadata": {
        "id": "VUefCyPpBeUW"
      },
      "outputs": [],
      "source": [
        "X_train = np.concatenate((trainNormalimage, trainPNAimage1), axis=0)\n",
        "X_train.shape"
      ]
    },
    {
      "cell_type": "code",
      "execution_count": null,
      "metadata": {
        "id": "OitZip5KBeUX"
      },
      "outputs": [],
      "source": [
        "y_train = np.concatenate((trainNormalLabel, trainPNALabel1), axis=0)\n",
        "y_train"
      ]
    },
    {
      "cell_type": "code",
      "source": [
        "y_train.shape"
      ],
      "metadata": {
        "id": "HnakC_z1eN_B"
      },
      "execution_count": null,
      "outputs": []
    },
    {
      "cell_type": "code",
      "execution_count": null,
      "metadata": {
        "id": "_9reaV8UBeUV"
      },
      "outputs": [],
      "source": [
        "valNormalimage, valNormalLabel = normalArray(valNormal, valNormalimage, valNormalLabel)\n",
        "valNormalimage.shape"
      ]
    },
    {
      "cell_type": "code",
      "execution_count": null,
      "metadata": {
        "id": "QE7I1NZpBeUV"
      },
      "outputs": [],
      "source": [
        "valPNAimage, valPNALabel = pnaArray(valPNA, valPNAimage, valPNALabel)\n",
        "valPNAimage.shape"
      ]
    },
    {
      "cell_type": "code",
      "execution_count": null,
      "metadata": {
        "id": "1f1Z3-f7BeUV"
      },
      "outputs": [],
      "source": [
        "valPNALabel"
      ]
    },
    {
      "cell_type": "code",
      "execution_count": null,
      "metadata": {
        "id": "wDg-0qeLBeUV"
      },
      "outputs": [],
      "source": [
        "X_val = np.concatenate((valNormalimage, valPNAimage), axis=0)\n",
        "#X_val"
      ]
    },
    {
      "cell_type": "code",
      "execution_count": null,
      "metadata": {
        "id": "gqGa-v16BeUV"
      },
      "outputs": [],
      "source": [
        "y_val = np.concatenate((valNormalLabel, valPNALabel), axis=0)\n",
        "y_val"
      ]
    },
    {
      "cell_type": "code",
      "source": [
        "testNormalimage, testNormalLabel = normalArray(testNormal, testNormalimage, testNormalLabel)\n",
        "testNormalimage.shape"
      ],
      "metadata": {
        "id": "dYDQ2bOYUViO"
      },
      "execution_count": null,
      "outputs": []
    },
    {
      "cell_type": "code",
      "source": [
        "testPNAimage, testPNALabel = pnaArray(testPNA, testPNAimage, testPNALabel)\n",
        "testPNAimage.shape"
      ],
      "metadata": {
        "id": "8p8zoO-UUWW0"
      },
      "execution_count": null,
      "outputs": []
    },
    {
      "cell_type": "code",
      "source": [
        "X_test = np.concatenate((testNormalimage, testPNAimage), axis=0)\n",
        "X_test.shape"
      ],
      "metadata": {
        "id": "dKCuwiYqVVGu"
      },
      "execution_count": null,
      "outputs": []
    },
    {
      "cell_type": "code",
      "source": [
        "y_test = np.concatenate((testNormalLabel, testPNALabel), axis=0)\n",
        "y_test.shape"
      ],
      "metadata": {
        "id": "Fa1pc-rhVXl9"
      },
      "execution_count": null,
      "outputs": []
    },
    {
      "cell_type": "markdown",
      "source": [
        "resplit"
      ],
      "metadata": {
        "id": "A76YcpdMVkyq"
      }
    },
    {
      "cell_type": "code",
      "source": [
        "combinedValTestNormalImage = np.concatenate((valNormalimage, testNormalimage), axis=0)\n",
        "combinedValTestPNAImage = np.concatenate((valPNAimage, testPNAimage), axis=0)\n",
        "combinedValTestNormalLabel = np.concatenate((valNormalLabel, testNormalLabel), axis=0)\n",
        "combinedValTestPNALabel = np.concatenate((valPNALabel, testPNALabel), axis=0)\n",
        "combinedXValTest = np.concatenate((combinedValTestNormalImage, combinedValTestPNAImage), axis=0)\n",
        "combinedyValTest = np.concatenate((combinedValTestNormalLabel, combinedValTestPNALabel), axis=0)\n",
        "X_val40, X_test60, y_val40, y_test60 = train_test_split(combinedXValTest, combinedyValTest, test_size=0.6, random_state=42)\n",
        "print(X_val40.shape)\n",
        "print(X_test60.shape)\n",
        "print(y_val40.shape)\n",
        "print(y_test60.shape)"
      ],
      "metadata": {
        "id": "EAGogVgvWQQu"
      },
      "execution_count": null,
      "outputs": []
    },
    {
      "cell_type": "code",
      "source": [
        "\"\"\"#test\n",
        "random_index = random.sample(range(len(X_test60)), 80)\n",
        "X_test_sampled = np.array([X_test60[i] for i in random_index])\n",
        "y_test_sampled = np.array([y_test60[i] for i in random_index])\n",
        "print(X_test_sampled.shape)\n",
        "print(y_test_sampled.shape)\"\"\""
      ],
      "metadata": {
        "id": "i2xYn508ihlp"
      },
      "execution_count": null,
      "outputs": []
    },
    {
      "cell_type": "code",
      "source": [
        "#val\n",
        "random_index = random.sample(range(len(X_val40)), 30)\n",
        "X_val_sampled = np.array([X_val40[i] for i in random_index])\n",
        "y_val_sampled = np.array([y_val40[i] for i in random_index])\n",
        "print(X_val_sampled.shape)\n",
        "print(y_val_sampled)"
      ],
      "metadata": {
        "id": "kQ5qM7O92nGk"
      },
      "execution_count": null,
      "outputs": []
    },
    {
      "cell_type": "code",
      "source": [
        "random_index = random.sample(range(len(X_train)), 150)\n",
        "X_train_sampled = np.array([X_train[i] for i in random_index])\n",
        "y_train_sampled = np.array([y_train[i] for i in random_index])\n",
        "print(X_train_sampled.shape)\n",
        "print(y_train_sampled.shape)"
      ],
      "metadata": {
        "id": "32Pq0KjC4ERB"
      },
      "execution_count": null,
      "outputs": []
    },
    {
      "cell_type": "code",
      "source": [
        "X_train_sampled_reshaped = X_train_sampled.reshape(X_train_sampled.shape[0], -1)\n",
        "print(X_train_sampled_reshaped.shape)\n",
        "\n",
        "X_val_sampled_reshaped = X_val_sampled.reshape(X_val_sampled.shape[0], -1)\n",
        "print(X_val_sampled_reshaped.shape)\n",
        "\n",
        "\"\"\"X_test_sampled_reshaped = X_test_sampled.reshape(X_test_sampled.shape[0], -1)\n",
        "print(X_test_sampled_reshaped.shape)\"\"\""
      ],
      "metadata": {
        "id": "EkZnT56z5Ago"
      },
      "execution_count": null,
      "outputs": []
    },
    {
      "cell_type": "markdown",
      "metadata": {
        "id": "4kw-hLv_BeUY"
      },
      "source": [
        "# DNN"
      ]
    },
    {
      "cell_type": "code",
      "execution_count": null,
      "metadata": {
        "id": "kKsIc70mBeUY"
      },
      "outputs": [],
      "source": [
        "dnnModel = tf.keras.models.Sequential()"
      ]
    },
    {
      "cell_type": "code",
      "source": [
        "#testing nn\n",
        "dnnModel.add(tf.keras.layers.Dense(units=15, activation=tf.keras.layers.LeakyReLU(alpha=0.2), input_dim=150528))\n",
        "dnnModel.add(tf.keras.layers.Dense(units=7, activation=tf.keras.layers.LeakyReLU(alpha=0.2)))\n",
        "#dnnModel.add(tf.keras.layers.Dense(units=2, activation=tf.keras.layers.LeakyReLU(alpha=0.2)))\n",
        "dnnModel.add(tf.keras.layers.Dense(units=1, activation=\"sigmoid\"))"
      ],
      "metadata": {
        "id": "AvdvndLE5haE"
      },
      "execution_count": null,
      "outputs": []
    },
    {
      "cell_type": "code",
      "source": [
        "print(\"train: \", X_train_sampled_reshaped.shape[0])\n",
        "print(\"val: \", X_val_sampled_reshaped.shape[0])\n",
        "#print(\"test: \", X_test_sampled_reshaped.shape[0])\n",
        "print(dnnModel.summary())\n",
        "\n",
        "dnnModel.compile(loss=\"binary_crossentropy\", optimizer=\"adam\", metrics=[\"accuracy\"])\n",
        "\n",
        "fit8 = dnnModel.fit(X_train_sampled_reshaped, y_train_sampled, epochs=100)"
      ],
      "metadata": {
        "id": "0ClKDNn8AfVC"
      },
      "execution_count": null,
      "outputs": []
    },
    {
      "cell_type": "code",
      "source": [
        "fitHistory(fit8)"
      ],
      "metadata": {
        "id": "VpfsWiCIB2yB"
      },
      "execution_count": null,
      "outputs": []
    },
    {
      "cell_type": "code",
      "source": [
        "dnnEval(dnnModel, X_val_sampled_reshaped, y_val_sampled)"
      ],
      "metadata": {
        "id": "5sYLaGRXB918"
      },
      "execution_count": null,
      "outputs": []
    },
    {
      "cell_type": "code",
      "source": [
        "plt.imshow(X_val_sampled[0,:,:], cmap=plt.cm.Greys)"
      ],
      "metadata": {
        "id": "PdlRXwL_fbZk"
      },
      "execution_count": null,
      "outputs": []
    },
    {
      "cell_type": "code",
      "source": [
        "X_val_sampled.shape"
      ],
      "metadata": {
        "id": "ZEoeY9cXhClE"
      },
      "execution_count": null,
      "outputs": []
    },
    {
      "cell_type": "code",
      "source": [
        "for i in range(len(X_val_sampled)):\n",
        "    image = X_val_sampled[i]\n",
        "    prediction = predictions[i]\n",
        "\n",
        "    plt.figure(figsize=(8, 4))\n",
        "\n",
        "    # Display the image\n",
        "    plt.subplot(1, 2, 1)\n",
        "    plt.imshow(image, cmap=plt.cm.Greys)\n",
        "    plt.axis('off')\n",
        "    plt.title('Image')\n",
        "\n",
        "    # Display the prediction\n",
        "    plt.subplot(1, 2, 2)\n",
        "    plt.bar(['Negative', 'Positive'], prediction, color=['blue', 'orange'])\n",
        "    plt.ylabel('Prediction Probability')\n",
        "    plt.ylim([0, 1])\n",
        "    plt.title('Prediction')\n",
        "\n",
        "    plt.tight_layout()\n",
        "    plt.show()"
      ],
      "metadata": {
        "id": "saUEh6J4shUD"
      },
      "execution_count": null,
      "outputs": []
    },
    {
      "cell_type": "code",
      "source": [
        "for i in range(1,2):\n",
        "    image = X_val_sampled_reshaped[i]\n",
        "    prediction = calculate_dnn_predict_classes(dnnModel, X_val_sampled_reshaped)\n",
        "    #print(1 - prediction[i], prediction[i])\n",
        "    true_label = y_val_sampled[i]\n",
        "\n",
        "    plt.figure(figsize=(10, 4))\n",
        "\n",
        "    # Display the image\n",
        "    plt.subplot(1, 3, 1)\n",
        "    plt.imshow(image.reshape(224, 224, 3), cmap=plt.cm.Greys)  # Reshape the image back to (224, 224, 3)\n",
        "    plt.axis('off')\n",
        "    plt.title('Image')\n",
        "\n",
        "    # Display the prediction\n",
        "    plt.subplot(1, 3, 2)\n",
        "    plt.bar(['Negative', 'Positive'], [1 - prediction[i][0], prediction[i][0]], color=['blue', 'orange'])\n",
        "    plt.ylabel('Prediction Probability')\n",
        "    plt.ylim([0, 1])\n",
        "    plt.title('Prediction')\n",
        "\n",
        "    # Display the true label\n",
        "    plt.subplot(1, 3, 3)\n",
        "    plt.bar(['Negative', 'Positive'], [1 - true_label, true_label], color=['blue', 'orange'])\n",
        "    plt.ylabel('True Label')\n",
        "    plt.ylim([0, 1])\n",
        "    plt.title('True Label')\n",
        "\n",
        "    plt.tight_layout()\n",
        "    plt.show()"
      ],
      "metadata": {
        "id": "r3ZCrVIOs5f6"
      },
      "execution_count": null,
      "outputs": []
    }
  ],
  "metadata": {
    "kernelspec": {
      "display_name": "dev",
      "language": "python",
      "name": "python3"
    },
    "language_info": {
      "codemirror_mode": {
        "name": "ipython",
        "version": 3
      },
      "file_extension": ".py",
      "mimetype": "text/x-python",
      "name": "python",
      "nbconvert_exporter": "python",
      "pygments_lexer": "ipython3",
      "version": "3.10.10"
    },
    "orig_nbformat": 4,
    "colab": {
      "provenance": [],
      "include_colab_link": true
    }
  },
  "nbformat": 4,
  "nbformat_minor": 0
}