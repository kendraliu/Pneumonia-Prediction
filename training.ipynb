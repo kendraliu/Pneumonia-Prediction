{
 "cells": [
  {
   "cell_type": "code",
   "execution_count": 1,
   "metadata": {},
   "outputs": [],
   "source": [
    "\"\"\"from warnings import simplefilter\n",
    "simplefilter(action='ignore', category=FutureWarning)\"\"\"\n",
    "\n",
    "import pandas as pd\n",
    "import numpy as np\n",
    "import cv2\n",
    "import os\n",
    "from IPython.display import Image, SVG\n",
    "from sklearn.svm import SVC\n",
    "from sklearn.neighbors import KNeighborsClassifier\n",
    "from sklearn import tree\n",
    "from sklearn.preprocessing import StandardScaler\n",
    "from sklearn.metrics import classification_report, accuracy_score, confusion_matrix\n",
    "from sklearn.model_selection import train_test_split\n",
    "from sklearn.ensemble import RandomForestClassifier"
   ]
  },
  {
   "cell_type": "markdown",
   "metadata": {},
   "source": [
    "/test: 234 normal, 390 pna\n",
    "\n",
    "/val: 8 normal, 8 pna\n",
    "\n",
    "/train: 1341 normal, 3875 pna"
   ]
  },
  {
   "cell_type": "code",
   "execution_count": 15,
   "metadata": {},
   "outputs": [
    {
     "data": {
      "text/plain": [
       "['NORMAL2-IM-1440-0001.jpeg',\n",
       " 'NORMAL2-IM-1437-0001.jpeg',\n",
       " 'NORMAL2-IM-1431-0001.jpeg',\n",
       " 'NORMAL2-IM-1436-0001.jpeg',\n",
       " 'NORMAL2-IM-1430-0001.jpeg',\n",
       " 'NORMAL2-IM-1438-0001.jpeg',\n",
       " 'NORMAL2-IM-1442-0001.jpeg',\n",
       " 'NORMAL2-IM-1427-0001.jpeg']"
      ]
     },
     "execution_count": 15,
     "metadata": {},
     "output_type": "execute_result"
    }
   ],
   "source": [
    "os.listdir(valNormal) #check to see there's no random \".DS_Store\" in directory\n",
    "# if there is, run: find . -name \".DS_Store\" -type f -delete\n",
    "# or just run it anyway to make sure"
   ]
  },
  {
   "cell_type": "code",
   "execution_count": 4,
   "metadata": {},
   "outputs": [],
   "source": [
    "def normalArray(dataPath, dataImage, dataLabel):\n",
    "    for filename in os.listdir(dataPath):\n",
    "        img_path = os.path.join(dataPath, filename)\n",
    "        image = cv2.imread(img_path)\n",
    "        image = cv2.resize(image, (224, 224))  # Resize to a common size\n",
    "        image = image / 255.0  # Normalize pixel values to [0, 1]\n",
    "        dataImage.append(image)\n",
    "        dataLabel.append(0)\n",
    "    dataImage = np.array(dataImage)\n",
    "    dataLabel = np.array(dataLabel)\n",
    "    return dataImage, dataLabel"
   ]
  },
  {
   "cell_type": "code",
   "execution_count": 5,
   "metadata": {},
   "outputs": [],
   "source": [
    "def pnaArray(dataPath, dataImage, dataLabel):\n",
    "    for filename in os.listdir(dataPath):\n",
    "        img_path = os.path.join(dataPath, filename)\n",
    "        image = cv2.imread(img_path)\n",
    "        image = cv2.resize(image, (224, 224))  # Resize to a common size\n",
    "        image = image / 255.0  # Normalize pixel values to [0, 1]\n",
    "        dataImage.append(image)\n",
    "        dataLabel.append(1)\n",
    "    dataImage = np.array(dataImage)\n",
    "    dataLabel = np.array(dataLabel)\n",
    "    return dataImage, dataLabel"
   ]
  },
  {
   "cell_type": "code",
   "execution_count": 13,
   "metadata": {},
   "outputs": [],
   "source": [
    "testNormal = \"chest_xray/test/NORMAL\"\n",
    "testPNA = \"chest_xray/test/PNEUMONIA\"\n",
    "valNormal = \"chest_xray/val/NORMAL\"\n",
    "valPNA = \"chest_xray/val/PNEUMONIA\"\n",
    "trainNormal = \"chest_xray/train/NORMAL\"\n",
    "trainPNA = \"chest_xray/train/PNEUMONIA\""
   ]
  },
  {
   "cell_type": "code",
   "execution_count": 18,
   "metadata": {},
   "outputs": [],
   "source": [
    "testNormalimage = []\n",
    "testNormalLabel = []\n",
    "testPNAimage = []\n",
    "testPNALabel = []\n",
    "valNormalimage = []\n",
    "valNormalLabel = []\n",
    "valPNAimage = []\n",
    "valPNALabel = []\n",
    "trainNormalimage = []\n",
    "trainNormalLabel = []\n",
    "trainPNAimage = []\n",
    "trainPNALabel= []"
   ]
  },
  {
   "cell_type": "code",
   "execution_count": 20,
   "metadata": {},
   "outputs": [
    {
     "data": {
      "text/plain": [
       "(234, 224, 224, 3)"
      ]
     },
     "execution_count": 20,
     "metadata": {},
     "output_type": "execute_result"
    }
   ],
   "source": [
    "testNormalimage, testNormalLabel = normalArray(testNormal, testNormalimage, testNormalLabel)\n",
    "testNormalimage.shape"
   ]
  },
  {
   "cell_type": "code",
   "execution_count": 21,
   "metadata": {},
   "outputs": [
    {
     "data": {
      "text/plain": [
       "(390, 224, 224, 3)"
      ]
     },
     "execution_count": 21,
     "metadata": {},
     "output_type": "execute_result"
    }
   ],
   "source": [
    "testPNAimage, testPNALabel = pnaArray(testPNA, testPNAimage, testPNALabel)\n",
    "testPNAimage.shape"
   ]
  },
  {
   "cell_type": "code",
   "execution_count": 23,
   "metadata": {},
   "outputs": [
    {
     "data": {
      "text/plain": [
       "(8, 224, 224, 3)"
      ]
     },
     "execution_count": 23,
     "metadata": {},
     "output_type": "execute_result"
    }
   ],
   "source": [
    "valPNAimage, valPNALabel = normalArray(valPNA, valPNAimage, valPNALabel)\n",
    "valPNAimage.shape"
   ]
  },
  {
   "cell_type": "code",
   "execution_count": 19,
   "metadata": {},
   "outputs": [
    {
     "data": {
      "text/plain": [
       "(8, 224, 224, 3)"
      ]
     },
     "execution_count": 19,
     "metadata": {},
     "output_type": "execute_result"
    }
   ],
   "source": [
    "valNormalimage, valNormalLabel = normalArray(valNormal, valNormalimage, valNormalLabel)\n",
    "valNormalimage.shape"
   ]
  },
  {
   "cell_type": "code",
   "execution_count": 22,
   "metadata": {},
   "outputs": [
    {
     "data": {
      "text/plain": [
       "(1341, 224, 224, 3)"
      ]
     },
     "execution_count": 22,
     "metadata": {},
     "output_type": "execute_result"
    }
   ],
   "source": [
    "trainNormalimage, trainNormalLabel = normalArray(trainNormal, trainNormalimage, trainNormalLabel)\n",
    "trainNormalimage.shape"
   ]
  },
  {
   "cell_type": "code",
   "execution_count": 24,
   "metadata": {},
   "outputs": [
    {
     "data": {
      "text/plain": [
       "(3875, 224, 224, 3)"
      ]
     },
     "execution_count": 24,
     "metadata": {},
     "output_type": "execute_result"
    }
   ],
   "source": [
    "trainPNAimage, trainPNALabel = normalArray(trainPNA, trainPNAimage, trainPNALabel)\n",
    "trainPNAimage.shape"
   ]
  },
  {
   "cell_type": "code",
   "execution_count": 4,
   "metadata": {},
   "outputs": [],
   "source": [
    "# tentative code to make sure this works\n",
    "\"\"\"# Read and process normal images\n",
    "for filename in os.listdir(testNormal):\n",
    "    img_path = os.path.join(testNormal, filename)\n",
    "    image = cv2.imread(img_path)\n",
    "    image = cv2.resize(image, (224, 224))  # Resize to a common size\n",
    "    image = image / 255.0  # Normalize pixel values to [0, 1]\n",
    "    testNormalimage.append(image)\n",
    "    testNormalLabel.append(0)\n",
    "    \n",
    "#testNormalimage[:5]\"\"\""
   ]
  },
  {
   "cell_type": "code",
   "execution_count": 5,
   "metadata": {},
   "outputs": [
    {
     "data": {
      "text/plain": [
       "234"
      ]
     },
     "execution_count": 5,
     "metadata": {},
     "output_type": "execute_result"
    }
   ],
   "source": [
    "\"\"\"len(testNormalimage)\"\"\""
   ]
  },
  {
   "cell_type": "code",
   "execution_count": 6,
   "metadata": {},
   "outputs": [
    {
     "data": {
      "text/plain": [
       "234"
      ]
     },
     "execution_count": 6,
     "metadata": {},
     "output_type": "execute_result"
    }
   ],
   "source": [
    "\"\"\"len(testNormalLabel)\"\"\""
   ]
  },
  {
   "cell_type": "code",
   "execution_count": 9,
   "metadata": {},
   "outputs": [
    {
     "data": {
      "text/plain": [
       "(234, 224, 224, 3)"
      ]
     },
     "execution_count": 9,
     "metadata": {},
     "output_type": "execute_result"
    }
   ],
   "source": [
    "\"\"\"testNormalimageArray = np.array(testNormalimage)\n",
    "testNormalimageArray.shape\"\"\""
   ]
  },
  {
   "cell_type": "code",
   "execution_count": 11,
   "metadata": {},
   "outputs": [
    {
     "data": {
      "text/plain": [
       "(234,)"
      ]
     },
     "execution_count": 11,
     "metadata": {},
     "output_type": "execute_result"
    }
   ],
   "source": [
    "\"\"\"testNormalLabel = np.array(testNormalLabel)\n",
    "testNormalLabel.shape\"\"\""
   ]
  },
  {
   "cell_type": "code",
   "execution_count": null,
   "metadata": {},
   "outputs": [],
   "source": []
  }
 ],
 "metadata": {
  "kernelspec": {
   "display_name": "dev",
   "language": "python",
   "name": "python3"
  },
  "language_info": {
   "codemirror_mode": {
    "name": "ipython",
    "version": 3
   },
   "file_extension": ".py",
   "mimetype": "text/x-python",
   "name": "python",
   "nbconvert_exporter": "python",
   "pygments_lexer": "ipython3",
   "version": "3.10.10"
  },
  "orig_nbformat": 4
 },
 "nbformat": 4,
 "nbformat_minor": 2
}
